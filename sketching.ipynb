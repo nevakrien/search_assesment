{
 "cells": [
  {
   "cell_type": "code",
   "execution_count": 1,
   "id": "8072358b-b943-41b9-81d6-c15b1e3e0457",
   "metadata": {},
   "outputs": [],
   "source": [
    "import datasets\n",
    "import re"
   ]
  },
  {
   "cell_type": "code",
   "execution_count": 2,
   "id": "ab53a16f-2978-465c-a3df-317e8def8ae9",
   "metadata": {},
   "outputs": [],
   "source": [
    "\n",
    "def document_iter(text_list):\n",
    "    bads = (\n",
    "            re.compile(r'<!--\\s*\\n\\s*/\\*\\s*Font Definitions\\s*\\*/'),\n",
    "            re.compile(r'\\uFFFD'),\n",
    "            re.compile(r'endstream.*?(?=\\n|$)'),\n",
    "            re.compile(r'/Author \\(user\\)\\n|/Creator'),\n",
    "            re.compile(r'\\ue51d'),\n",
    "            re.compile(r'[\\u0080-\\u00FF\\u0100-\\u017F]'), #weird latin dialects like ã\n",
    "           )\n",
    "            \n",
    "\n",
    "    \n",
    "    for i,text in enumerate(text_list):\n",
    "        if not text:\n",
    "            continue\n",
    "        text=text.strip()\n",
    "        \n",
    "        if text in (\"File not found\",\"\"):\n",
    "            continue\n",
    "            \n",
    "        skip=False\n",
    "        for b in bads:\n",
    "            if b.search(text):\n",
    "                skip=True\n",
    "                break\n",
    "        if skip:\n",
    "            continue\n",
    "\n",
    "        yield (i,re.sub(r'\\n\\s*\\n\\s*\\n+', '\\n\\n', text))"
   ]
  },
  {
   "cell_type": "code",
   "execution_count": 3,
   "id": "e7043429-0aa5-4fb7-a240-4ab927d2d900",
   "metadata": {},
   "outputs": [],
   "source": [
    "data = datasets.load_dataset('LevMuchnik/SupremeCourtOfIsrael')"
   ]
  },
  {
   "cell_type": "code",
   "execution_count": 4,
   "id": "fce6428f-9bfb-41c1-a822-2141aa013dfb",
   "metadata": {},
   "outputs": [],
   "source": [
    "l=list(document_iter(data[\"train\"][\"text\"]))"
   ]
  },
  {
   "cell_type": "code",
   "execution_count": 5,
   "id": "a14393e6-7af9-44d8-995b-1cc7e9ee47b1",
   "metadata": {},
   "outputs": [
    {
     "data": {
      "text/plain": [
       "(1029,\n",
       " 'בית המשפט העליון\\n\\nבה\"נ  97 /\\n2582\\n\\nבפני נשיא בית המשפט העליון\\n\\nבדיון\\nלפי חוק שיפוט בענייני התרת נישואין\\n\\n(מקרים\\nמיוחדים), התשכ\"ט1969-\\n\\nהמבק\\nשת\\n:                                         ברינדין\\nגרה\\n\\n                   נגד\\n\\nהמשיבים\\n:                                         \\n1.\\nברינדין דמיטרי\\n\\n                                                      2.\\nהיועץ המשפטי לממשלה\\n\\nבשם\\nהמבקשת:                                  עו\"ד סוניה טראוב\\n\\nבשם\\nהיועץ המשפטי לממשלה:               עו\"ד זיוה שמחה\\n\\nהחלטה בדבר קביעת שיפוט בענייני\\nהתרת נישואין\\n\\n             הנני קובע בתוקף סמכותי לפי סעיף 1(א) לחוק\\nשיפוט בענייני התרת נישואין (מקרים מיוחדים), התשכ\"ט1969-, כי לבית המשפט\\nלענייני משפחה בחיפה יהיה שיפוט בעניין התרת הנישואין של בני הזוג ברינדין. \\n\\n             ניתנה היום, כ\"ט באייר התשנ\"ז\\n(5.6.97). \\n\\n                                                      ה נ\\nש י א\\n\\nהעתק מתאים למקור\\n\\nשמריהו\\nכהן - מזכיר ראשי\\n\\n97025820.\\nA02\\n/דז/')"
      ]
     },
     "execution_count": 5,
     "metadata": {},
     "output_type": "execute_result"
    }
   ],
   "source": [
    "l[1000]"
   ]
  },
  {
   "cell_type": "code",
   "execution_count": 6,
   "id": "ced8d845-25dd-4b2f-a02b-a599f4155af7",
   "metadata": {},
   "outputs": [],
   "source": [
    "import tiktoken"
   ]
  },
  {
   "cell_type": "code",
   "execution_count": 7,
   "id": "5684cd20-b145-46ec-be7e-bbe727eb6e51",
   "metadata": {},
   "outputs": [],
   "source": [
    "#https://github.com/openai/tiktoken\n",
    "enc = tiktoken.encoding_for_model(\"gpt-4\")"
   ]
  },
  {
   "cell_type": "code",
   "execution_count": 8,
   "id": "4c2162df-af44-4f7a-960b-9572cd9b28d0",
   "metadata": {},
   "outputs": [
    {
     "data": {
      "text/plain": [
       "'בית המשפט העליון\\n\\nבה\"נ  97 /\\n2582\\n\\nבפני נשיא בית המשפט העליון\\n\\nבדיון\\nלפי חוק שיפוט בענייני התרת נישואין\\n\\n(מקרים\\nמיוחדים), התשכ\"ט1969-\\n\\nהמבק\\nשת\\n:                                         ברינדין\\nגרה\\n\\n                   נגד\\n\\nהמשיבים\\n:                                         \\n1.\\nברינדין דמיטרי\\n\\n                                                      2.\\nהיועץ המשפטי לממשלה\\n\\nבשם\\nהמבקשת:                                  עו\"ד סוניה טראוב\\n\\nבשם\\nהיועץ המשפטי לממשלה:               עו\"ד זיוה שמחה\\n\\nהחלטה בדבר קביעת שיפוט בענייני\\nהתרת נישואין\\n\\n             הנני קובע בתוקף סמכותי לפי סעיף 1(א) לחוק\\nשיפוט בענייני התרת נישואין (מקרים מיוחדים), התשכ\"ט1969-, כי לבית המשפט\\nלענייני משפחה בחיפה יהיה שיפוט בעניין התרת הנישואין של בני הזוג ברינדין. \\n\\n             ניתנה היום, כ\"ט באייר התשנ\"ז\\n(5.6.97). \\n\\n                                                      ה נ\\nש י א\\n\\nהעתק מתאים למקור\\n\\nשמריהו\\nכהן - מזכיר ראשי\\n\\n97025820.\\nA02\\n/דז/'"
      ]
     },
     "execution_count": 8,
     "metadata": {},
     "output_type": "execute_result"
    }
   ],
   "source": [
    "enc.decode(enc.encode(l[1000][1]))"
   ]
  },
  {
   "cell_type": "code",
   "execution_count": 9,
   "id": "b821c588-1387-4184-8daa-4f4d1118b33e",
   "metadata": {},
   "outputs": [
    {
     "data": {
      "text/plain": [
       "597"
      ]
     },
     "execution_count": 9,
     "metadata": {},
     "output_type": "execute_result"
    }
   ],
   "source": [
    "len(enc.encode(l[1000][1]))"
   ]
  },
  {
   "cell_type": "code",
   "execution_count": 10,
   "id": "f126a248-507c-452b-ae5d-e87b5df472f6",
   "metadata": {},
   "outputs": [],
   "source": [
    "from tqdm.notebook import tqdm"
   ]
  },
  {
   "cell_type": "code",
   "execution_count": 11,
   "id": "4b12571a-45c5-4044-bddb-1f21c076b1e0",
   "metadata": {},
   "outputs": [
    {
     "data": {
      "application/vnd.jupyter.widget-view+json": {
       "model_id": "b3631382c5d24fa583b3e6068ec66eeb",
       "version_major": 2,
       "version_minor": 0
      },
      "text/plain": [
       "  0%|          | 0/691512 [00:00<?, ?it/s]"
      ]
     },
     "metadata": {},
     "output_type": "display_data"
    },
    {
     "data": {
      "text/plain": [
       "418912"
      ]
     },
     "execution_count": 11,
     "metadata": {},
     "output_type": "execute_result"
    }
   ],
   "source": [
    "lens=[len(enc.encode(x[1])) for x in tqdm(l)]\n",
    "max(lens)"
   ]
  },
  {
   "cell_type": "code",
   "execution_count": 12,
   "id": "a229664b-aeb1-4b47-a731-2f16cc7a42c8",
   "metadata": {},
   "outputs": [
    {
     "data": {
      "text/plain": [
       "0.9789099827624105"
      ]
     },
     "execution_count": 12,
     "metadata": {},
     "output_type": "execute_result"
    }
   ],
   "source": [
    "small=len([x for x in lens if x<=10_000])\n",
    "small/len(lens)"
   ]
  },
  {
   "cell_type": "code",
   "execution_count": null,
   "id": "29d6e69b-f15d-46fa-a597-ce4bc3d519e6",
   "metadata": {},
   "outputs": [],
   "source": []
  },
  {
   "cell_type": "code",
   "execution_count": 14,
   "id": "5907e2dc-8ecb-439c-8389-3d0e0964f881",
   "metadata": {},
   "outputs": [],
   "source": [
    "import pandas as pd"
   ]
  },
  {
   "cell_type": "code",
   "execution_count": 15,
   "id": "df545b08-a8b9-4f94-9659-20feaa3c32c5",
   "metadata": {},
   "outputs": [
    {
     "data": {
      "text/plain": [
       "array([[<Axes: title={'center': '0'}>]], dtype=object)"
      ]
     },
     "execution_count": 15,
     "metadata": {},
     "output_type": "execute_result"
    },
    {
     "data": {
      "image/png": "[encoded data removed]",
      "text/plain": [
       "<Figure size 640x480 with 1 Axes>"
      ]
     },
     "metadata": {},
     "output_type": "display_data"
    }
   ],
   "source": [
    "pd.DataFrame([x for x in lens if x>100_000]).hist()"
   ]
  },
  {
   "cell_type": "code",
   "execution_count": 51,
   "id": "949d69a0-18f0-4720-bc90-d15dce6f4696",
   "metadata": {},
   "outputs": [
    {
     "data": {
      "text/html": [
       "<div>\n",
       "<style scoped>\n",
       "    .dataframe tbody tr th:only-of-type {\n",
       "        vertical-align: middle;\n",
       "    }\n",
       "\n",
       "    .dataframe tbody tr th {\n",
       "        vertical-align: top;\n",
       "    }\n",
       "\n",
       "    .dataframe thead th {\n",
       "        text-align: right;\n",
       "    }\n",
       "</style>\n",
       "<table border=\"1\" class=\"dataframe\">\n",
       "  <thead>\n",
       "    <tr style=\"text-align: right;\">\n",
       "      <th></th>\n",
       "      <th>0</th>\n",
       "    </tr>\n",
       "  </thead>\n",
       "  <tbody>\n",
       "    <tr>\n",
       "      <th>0</th>\n",
       "      <td>2620</td>\n",
       "    </tr>\n",
       "    <tr>\n",
       "      <th>1</th>\n",
       "      <td>427</td>\n",
       "    </tr>\n",
       "    <tr>\n",
       "      <th>2</th>\n",
       "      <td>526</td>\n",
       "    </tr>\n",
       "    <tr>\n",
       "      <th>3</th>\n",
       "      <td>359</td>\n",
       "    </tr>\n",
       "    <tr>\n",
       "      <th>4</th>\n",
       "      <td>534</td>\n",
       "    </tr>\n",
       "    <tr>\n",
       "      <th>...</th>\n",
       "      <td>...</td>\n",
       "    </tr>\n",
       "    <tr>\n",
       "      <th>691507</th>\n",
       "      <td>521</td>\n",
       "    </tr>\n",
       "    <tr>\n",
       "      <th>691508</th>\n",
       "      <td>532</td>\n",
       "    </tr>\n",
       "    <tr>\n",
       "      <th>691509</th>\n",
       "      <td>724</td>\n",
       "    </tr>\n",
       "    <tr>\n",
       "      <th>691510</th>\n",
       "      <td>541</td>\n",
       "    </tr>\n",
       "    <tr>\n",
       "      <th>691511</th>\n",
       "      <td>703</td>\n",
       "    </tr>\n",
       "  </tbody>\n",
       "</table>\n",
       "<p>691512 rows × 1 columns</p>\n",
       "</div>"
      ],
      "text/plain": [
       "           0\n",
       "0       2620\n",
       "1        427\n",
       "2        526\n",
       "3        359\n",
       "4        534\n",
       "...      ...\n",
       "691507   521\n",
       "691508   532\n",
       "691509   724\n",
       "691510   541\n",
       "691511   703\n",
       "\n",
       "[691512 rows x 1 columns]"
      ]
     },
     "execution_count": 51,
     "metadata": {},
     "output_type": "execute_result"
    }
   ],
   "source": [
    "df=pd.DataFrame(lens)\n",
    "df"
   ]
  },
  {
   "cell_type": "code",
   "execution_count": 52,
   "id": "1fe8f5d8-a31d-45da-b20d-aaf5c1e3834d",
   "metadata": {},
   "outputs": [
    {
     "data": {
      "text/plain": [
       "206"
      ]
     },
     "execution_count": 52,
     "metadata": {},
     "output_type": "execute_result"
    }
   ],
   "source": [
    "df[0].apply(lambda x:x>100_000).sum()"
   ]
  },
  {
   "cell_type": "code",
   "execution_count": 53,
   "id": "c831a973-2bf1-40bb-b161-b76f1399fd2c",
   "metadata": {},
   "outputs": [
    {
     "data": {
      "text/plain": [
       "102027"
      ]
     },
     "execution_count": 53,
     "metadata": {},
     "output_type": "execute_result"
    }
   ],
   "source": [
    "exmple=l[df[df[0].apply(lambda x:x>100_000)].index[0]][1]\n",
    "len(enc.encode(exmple))"
   ]
  },
  {
   "cell_type": "code",
   "execution_count": 54,
   "id": "deca961c-0585-4372-917f-404187a1da03",
   "metadata": {},
   "outputs": [
    {
     "data": {
      "text/plain": [
       "'ב\\nבית המשפט העליון\\n בשבתו כבית משפט \\nלערעורים אזרחיים\\n\\nע\"א \\n6024/97\\n\\nבפני:                                               \\nכבוד הנשיא א\\' ברק\\n\\n                                                      כבוד\\nהשופט מ\\' חשין\\n\\n                                                      כבוד\\nהשופט י\\' אנגלרד\\n\\nהמערער\\nת:                                       \\nפרדריקה שביט\\n\\n                   נגד\\n\\nהמשיב\\n:                                           \\nחברה קדישא גחש\"א ראשל\"צ\\n\\nתאריך הישיבה:                                 ט\"ו\\nבאלול התשנ\"ח (6.9.98)\\n\\nבשם\\n\\nהמערער\\nת:                                עו\"ד\\nגלי בר-אל, עו\"ד הרב אורי רגב\\n\\nבשם\\n\\nהמשיב\\n:                                     עו\"ד\\nיאיר שילה\\n\\nפסק-דין\\n\\nהשופט מ\\' חשין:\\n\\n             מצֵבה בבית קברות. מה ייחרט עליה? מה יירשם\\nעליה? מי יחליט על כך? את הקבר תפקוד המשפחה, יפקדו החברים, לא איש זולתם. הם\\nשיזכרו, הם שיבואו, הם שיבכו, הם שיכאבו. האם יהיו אלה הם שיחליטו כיצד יזכרו את\\nהמת או שמא יחליט על-כך איש זולתם - למשל, חברה קדישא? ואולי יחליט על-כך רב העיר\\n- כל רב בעירו? ואפשר יחליט גוף ממלכה אחר? בתי-המשפט נדרשו לשאלה זו לא אחת, גם\\nלעניינם של בתי קברות רגילים גם לעניינם של בתי קברות צבאיים. תחילת הדברים היתה\\nבפרשת \\nגדעון\\n נ\\' \\nחברת קדישא גחש\"א\\n (ע\"א 280/71, פ\"ד\\nכז(1) 10) ועקבו אותה פרשת \\nבן זאב\\n נ\\' \\nהמועצה הציבורית להנצחת החייל\\n\\n(בג\"ץ 532/74, פ\"ד ל(1) 305), פרשת \\nאלי מוזס\\n נ\\' \\nחברה קדישא\\nגחש\"א - קהילת ירושלים\\n (ע\"א 492/79, פ\"ד לה(4) 157), פרשת \\nשרית\\nבסט\\n נ\\' \\nשר הביטחון\\n (בג\"צ 556/83, פ\"ד לח(1) 177) ופרשת \\nיוסי\\nגינוסר\\n נ\\' \\nשר הביטחון\\n (בג\"ץ 1438/91, פ\"ד מה(2) 807). אחרי\\nאלו צעדה פרשת \\nחברת קדישא גחש\"א \"קהילת ירושלים\\n\" נ\\' \\nקסטנבאום\\n\\n(ע\"א 294/91, פ\"ד מו(2) 464) ולאחריה באה פרשת \\n ויכסלבאום\\n נ\\' \\nשר\\nהביטחון\\n: פעם אחת בבית-המשפט הגבוה לצדק (בג\"ץ 5688/92, פ\"ד מז(2)\\n812) ופעם אחת בדיון נוסף (דנג\"ץ 3299/93, פ\"ד מט(2) 195). ואחרי פרשת \\nויכסלבאום\\n\\nבאה פרשת \\nבר גור\\n נ\\' \\nשר הבטחון\\n, אף היא שתי פעמים (בג\"ץ 3807/96\\nובג\"ץ 5843/97; טרם פורסמו). גם בית-המשפט המחוזי נדרש לשאלה לא אחת (בנוסף\\nלאותם עניינים שבאו בערעור לפני בית-המשפט העליון). כך, למשל, בפרשת \\nיצחק\\nבורגמן\\n נ\\' \\nחברה קדישא גחש\"א ראשון-לציון\\n (ה\"פ 752/94; לא\\nפורסם), בפרשת \\nדרורה כגן\\n נ\\' \\nחברה קדישא גחש\"א ראשון-לציון\\n\\n(ה\"פ 1275/93, 1276; לא פורסם), בפרשת \\nשילה ששון\\n נ\\' \\nחברה קדישא\\nגחש\"א הרצליה\\n (ה\"פ 200585/98; טרם פורסם), ועוד. אל כל אלה סופֵחַ\\nעצמו חוק הזכות לקבורה אזרחית חלופית, התשנ\"ו1996- - לרבות התקנות שהותקנו\\nמכוחו - ועימו בג\"ץ 619/97 \\nח\"כ דוד צוקר\\n נ\\' \\nשר הדתות\\n\\n(התלוי ועומד לעת הזו לפני בית-המשפט). \\n\\n             אני תמה ביני-לבין-עצמי אם יש עוד אומה או\\nלשון המעסיקות עצמן כך בקדחתנות ובצפיפות בנושא חריטה על מצבת-קבר; מעסיקות עצמן -\\nולא תאמרנה הרף. \\n\\nעיקרי העובדות שלעניין\\n\\n2.           ביום כ\"ו בכסלו תשנ\"ז (7 בדצמבר\\n1996)  נפטרה הגב\\' רוזה גרייטל לבית עולמה. משפחת המנוחה ביקשה לקוברה, כמקובל,\\nבמקום מגוריה - בעיר ראשון-לציון - וחברה קדישא המקומית, החברה קדישא גחש\"א\\nראשון-לציון, נענתה לבקשה וקברה את המנוחה בבית הקברות שבניהולה, בית הקברות היחיד\\nשבעיר. לאחר הקבורה ביקשה המשפחה כי שמה של המנוחה ייחרט על המצבה בעברית\\nובלועזית, וכי יום הלידה ויום הפטירה ייחרטו בספרות לפי הלוח הכללי (הלוח\\nהגריגוריאני). חברה קדישא סירבה להיעתר לשתי הבקשות - גם לעניין חריטת השם בלועזית\\nגם לעניין חריטת המועדים לפי הלוח הכללי - אך לימים, ובהיתר הרב הראשי של החברה\\nקדישא בראשון-לציון, הרב ברוייר, נתרצתה והסכימה כי שמה הפרטי של המנוחה (רוזה)\\nייחרט גם בלועזית. ואולם באשר לחריטת מועדי הלידה והפטירה על-פי הלוח הגריגוריאני\\nעמדה החברה קדישא על דעתה וסירבה להיעתר למשפחה. \\n\\n             בסירובה להיעתר למשפחה סמכה החברה קדישא עצמה\\nאל החלטתו של הרב ברוייר, ושפנתה המשפחה אל הרב ברוייר בבקשת היתר - נתקלה בסירוב\\nמוחלט. לא הועילו טענות המשפחה כי באותו בית קברות עצמו ניצבות מצבות הנושאות\\nתאריכים לועזיים. תשובתו של הרב ברוייר היתה כי כך היה בעבר, אך מאז מינויו לתפקיד\\nרבהּ של החברה קדישא במקום אין הוא מתיר עוד לחרוט על מצבות מועדי לידה ופטירה לפי\\nהלוח הכללי. המשפחה הוסיפה ופנתה לרב וולפא, רבהּ הראשי של ראשון-לציון, ולרב חברה\\nקדישא האחראי על מחוז ירושלים, אך גם כאן ללא הועיל. אלה חזרו והיפנו את המשפחה אל\\nהרב ברוייר, ואילו הרב ברוייר עמד על דעתו. וכך, משנחסמו בפני המשפחה כל דרכים\\nאחרות, פנתה בִּיתה של המנוחה - הד\"ר פרדריקה שביט - אל בית-המשפט המחוזי\\nבתל-אביב-יפו, בבקשה כי יואיל ויצהיר על זכותה לחרוט על גבי המצבה שעל קבר אימה את\\nימי הלידה והפטירה בספרות לפי הלוח הגריגוריאני. \\n\\n             בית-המשפט המחוזי, מפי השופט יהודה זפט, דחה\\nאת בקשתה של ד\"ר שביט, ועל החלטת-דחייה זו הערעור שלפנינו. \\n\\nרקע משפטי - פרשות גדעון וקסטנבאום\\n\\n3.           מלכתחילה סברתי לתומי כי אין לנו אלא ללכת\\nבדרך שנכבשה בידי מי שקדמו לנו: דרך שנכבשה ועפרה הודק היטב-היטב. בראשית היתה\\nפרשת \\nגדעון\\n (לעיל), בה החליט בית-המשפט - ברוב דעות - כי זכות היא הקנויה\\nלאדם לחקוק על מצבה שהוא מקים על קבר (באותו מקרה - אביו) את ימי לידתו ופטירתו של\\nהמנוח לפי הלוח הכללי. פסק דינו של השופט עציוני - אליו צירף עצמו השופט ברנזון -\\nמשמיענו הלכה צלול וברור, בלשון נמרצת וחותכת, והמעיין יעיין ויידע. כך, למשל,\\nאומר השופט עציוני (שם, 23) כי:\\n\\n\"כולי\\nעלמא לא פליגי שזכותו של כל אדם לכבד בדרך נאותה את זכרם של אהוביו שהלכו לעולמם,\\nבהתאם לאורח חייהם ולמסורתם כל זמן שדבר זה אינו פוגע ברגשות או באינטרסים\\nלגיטימיים של הזולת. וברור גם ש\\'בית-קברות הינו מקום לא רק לקבורת המתים, אלא גם\\nלהבעת האהבה והכבוד שרוחשים החיים למתים\\'.\"\\n\\nועוד (שם, שם):\\n\\n\"...\\nאין זו אלא שלילה שרירותית של הזכות להשתמש בלוח הכללי לציון תאריכי לידתו ופטירתו\\nשל אדם שכל מאורעות חייו סבבו על-פי לוח זה! ...\". \\n\\nמה נוסיף עוד ומה נאמר? לעניינה של הלכה קבע בית-המשפט, כי\\nהאיסור לחרוט את ימי הלידה והפטירה לפי הלוח הלועזי הינו \"תנאי מגביל\"\\nשיש בו משום קיפוח כהוראת סעיף 14 לחוק החוזים האחידים, תשכ\"ד1964-, ודינו\\nבטלות. \\n\\n4.           פסק-הדין בפרשת \\nגדעון\\n ניתן בשנת 1972,\\nוהארץ שקטה שמונה-עשרה שנים. כך - עד לפרשת \\nקסטנבאום\\n. במקרה זה עתר\\nקסטנבאום לבית-המשפט המחוזי, בבקשה כי יותַן לו לחרוט על המצבה שהוקמה על קבר\\nאישתו המנוחה את שמה באותיות לטיניות ואת ימי הולדתה ופטירתה בספרות לפי הלוח\\nהגריגוריאני. בית-המשפט המחוזי נעתר לתובע, ובית-המשפט העליון דחה ברוב דעות את\\nערעורה של החברה קדישא. פסק-הדין מחזיק שישים ושניים עמודים צפופי-שורות, ואני\\nמתקשה להעלות בדעתי ולו טעם אחד - לכאן או לכאן - שבית-המשפט לא נדרש לו ולא חרש\\nבו, חרש - אף העמיק למעניתו. המכנה המשותף העיקרי להנמקותיהם של שופטי הרוב ימצא\\nאת מקומו בהיבטיו השונים של עקרון תקנת הציבור, במובנו הרחב של מושג זה. הנשיא\\nשמגר הדגיש בדבריו את עקרונות המשפט הציבורי המכתיבים מסקנה כי יש ונכון להיעתר\\nלמבקש,  בהוסיפו כי מסקנה שהגיע אליה נדרשת גם מהוראות חוק החוזים האחידים,\\nתשמ\"ג1982- וגם מתקנת הציבור כמשמעותה בסעיף 30 לחוק החוזים (חלק כללי),\\nתשל\"ג1973-. \\n\\n             השופט ברק סבר אף-הוא כי הצורך להיעתר לתובע\\nנובע גם מן המשפט הציבורי גם מהוראות חוק החוזים האחידים, אך לדידו עיקר הפסול\\nבהחלטתה של החברה קדישא יימצא בהיותה סותרת את תקנת הציבור. אכן, אומר השופט ברק\\n\"מרכז הכובד של הבעיה המשפטית שלפנינו איננו פעילותה של חברה קדישא בתחומי\\nהמשפט הציבורי, ואף לא אופיו המקפח של החוזה האחיד. מרכז הכובד של הבעיה הינו\\nתחולתם של עקרונות המשפט הציבורי - כגון הערך בדבר השפה העברית, כבוד האדם\\nוהסובלנות - בתחומי המשפט הפרטי\"  (שם, 529). בהמשך דבריו מצביע השופט ברק על\\nעקרונות-המיסגרת במשפט הפרטי - כעקרונות תום-הלב ותקנת הציבור - ומוסיף הוא וקובע\\nכי עקרונות אלה נמלאים תוכן בעיקרי-היסוד של המשפט ובתפישות התשתית החברתיות עליהן\\nבנויה שיטת המשפט. מסקנתו היא, כי הוראתה של חברה קדישא ולפיה יש לחרוט את שם\\nהמנוחה על גבי המצבה באותיות עבריות בלבד, נוגדת את תקנת הציבור בהיותה פוגעת\\nאנושות בכבוד האדם - בכבוד החי ובכבוד המת. \"הפגיעה בכבוד האדם מקורה בשלילת\\nהחירות לעצב את תוכן המצבה כפי שהמנוח (בחייו) ומשפחתו (לאחר מותו) מבקשים\\nלעצבה\" (השופט ברק, שם, 523); והערך של כבוד האדם עולה על כל שאר ערכים הבאים\\nאיתו במלחמה ומבקשים למעט ממנו. \\n\\n             בתחילה ביקשנו להזכירנו דברים אחדים שאמר\\nבית-המשפט, אך מתוך שפסק-הדין מלא וגדוש בדברי-חוכמה ובמוסר-חכמים, ומחשש שמא\\nבהבאתם של דבר-מוסר אחד או של הלכה אחת נכלים הלכות ודברי-מוסר אחרים, אמרנו לא\\nנביא ולא נצטט. נפנה את הקורא איפוא אל פרשת \\nקסטנבאום\\n והקורא יקרא ויחכים. \\n\\n5.           דברי חבריי והכרעתם בדין, גם מכאן גם מכאן,\\nנכוחים הם בעיניי. לאמיתם של דברים, כל שלושה טעמי ההלכה בפרשת \\nקסטנבאום\\n\\nמזינים עצמם מאותו מקור, מרַווים עצמם מאותה באר. סברה דומה העליתי בפרשת \\nקרן\\nגימלאות של חברי אגד בע\"מ\\n נ\\' \\nיוסף יעקב\\n; \\nאגד - אגודה שיתופית\\nלתחבורה בישראל בע\"מ\\n נ\\' \\nיוסף יעקב\\n (ע\"א 1795/93, 1831; טרם\\nפורסם). באותו עניין עמד לדיון תקנון של אגודה שיתופית, והשאלה שנשאלה היתה אם יש\\nונכון לבטל הוראה פלונית בו כהוראה נוגדת-חוק. חברי השופט אנגלרד סבר כי אותה\\nהוראה פלונית ראויה לביטול באשר יש לראותה כתנאי מקפח כהוראת חוק החוזים האחידים,\\nתשמ\"ג1982-. שלא כחברי השופט אנגלרד, חברי השופט טירקל סבר כי חוק החוזים\\nהאחידים אינו חל על תקנון של אגודה שיתופית, אך מסקנתו אף-הוא היתה כי אותה\\nהוראת-תקנון ראויה היא לביטול באשר נוגדת היא את תקנת הציבור כהוראת סעיף 30 לחוק\\nהחוזים (חלק כללי), תשל\"ג1973-. בקוראי את דברי חבריי אותה עת, תמהתי\\nביני-לבין-עצמי מה בין חנה לבין פנינה, והעדתי על עצמי כי מתקשה אני \"להבדיל\\nבין סמכות לסמכות, בין מגל לחרמש, בין כלי מבַער רע מימין לבין כלי מבַער רע\\nמשמאל\" (שם, בפיסקה 14 לחוות-דעתי). הוספתי ואמרתי כי \"תקנת\\nהציבור\" היא המבוע והמקור, וממנה יצאו יובלי-נורמות אל כל פינות המשפט.\\nהמשכתי עוד ואמרתי (שם, שם):\\n\\n\"\\'תקנת\\nהציבור\\' מישכנה הוא בבירתה של ממלכת החוזים, ושולחת היא את נציגיה אל כל נסיכויות\\nהחוזים. אחת מנסיכויות אלו היא נסיכות החוזים האחידים. וכך, בהשתכנו בנסיכות\\nהחוזים האחידים מבקש אותו נציג של תקנת הציבור להיטמע בעם-הארץ ולזכות בשֵׂם מקומי\\nמשלו, שם שיעשה אותו בן-בית במקומו. שם זה הוא (על דרך סגי נהור, בהיפוך), \\'תנאי\\nמקפח\\'. בבואה אל נסיכות החוזים האחידים מתגלגלת איפוא תקנת הציבור אל-תוך \\'התנאי\\nהמקפח\\'. מושג התנאי המקפח מהווה מעין קריסטליזציה של תקנת הציבור בנסיכות החוזים\\nהאחידים. לשון אחר: ביחסיהם של \\'ספק\\' ו\\'לקוח\\' - אלה השניים שסביבם נע חוק החוזים\\nהאחידים - תקנת הציבור הוא התנאי המקפח, והתנאי המקפח היא-היא תקנת הציבור.\"\\n\\n             כך שם - כך גם כאן. בית-המשפט הגיע לאותה\\nמסקנה וקבע אותה הלכה גם בפרשת \\nגדעון\\n גם בפרשת \\nקסטנבאום\\n. לא יד\\nהמקרה היתה זו. אותם עיקרי-יסוד הטבועים עמוק בליבנו פנימה - כבוד האדם, הצורך\\nבקיומה של סובלנות בין אדם לרעהו, הצורך החברתי לתת ולא רק לקחת, זכויות היחיד,\\nחופש המצפון והביטוי, חירות המחשבה והמעשה כראוי לחברה חופשית - כל אלה\\nועיקרי-יסוד אחרים זולתם - הם שהוליכו את עטו של השופט עציוני לעת קובעו הלכה\\nשקבע, והם שפינו דרך לנשיא שמגר ולשופט ברק לומר דברים שאמרו. אכן, בית-המשפט\\nהדגיש בהדגשת-יתר - גם בפרשת \\nגדעון\\n גם בפרשת \\nקסטנבאום\\n - כי זכויות\\nהיחיד אפשר שנעצור אותן בדרכן, נגביל אותן, מקום שבאות הן בהתנגשות חזיתית חריפה\\nעם זכויות שוות-מעמד של הזולת, והן זכויות הבאות להגן על אינטרס נעלה מהאינטרס\\nהראשון.  כך, למשל, פגיעה מהותית בריגשות הזולת לא תותַר. ואם יבקש פלוני לחרוט על\\nקבר אביו או אימו - בבית עלמין יהודי - צלב של הנוצרי, אני מניח כי בית-המשפט לא\\nהיה מוצא פגם או סירכה בהחלטתה של חברה קדישא לאסור זאת. לא כן היה באותן פרשות של\\n\\nגדעון\\n ו\\nקסטנבאום\\n, שהמדובר לא היה אלא בחריטת שמו של אדם באותיות\\nלטיניות (בצד חריטה בעברית) ובחריטת יום לידתו ויום פטירתו בספרות לפי הלוח\\nהגריגוריאני. \\n\\n6.           אלו היו פרשות \\nגדעון\\n ו\\nקסטנבאום\\n,\\nוזו היתה השאלה שבית-המשפט נדרש לה לעומקה והכריע בה. במרכז הדיון הועמדה סוגיית\\nהחריטה על מצבה-שעל-קבר, ובית-המשפט סב-הלך סביב לה עד שפתר כל קושיה, יישב כל\\nחילוקי-דעות, הכריע בכל שאלה, קבע הלכה שקבע. וההלכה צלולה, אין בה לא עֲכִירות\\nולא ספיקות. לתומי סברתי כי יש בה באותה הלכה שנקבעה כדי להכריע אף בענייננו. כיצד\\nזה איפוא שבית-משפט קמא סירב ללכת במסילה? על-שום-מה-ולמה ראה בית-משפט קמא צורך\\nלכבוש לו דרך משלו ובדרך שנכבשה ועפרהּ הודק היטב סירב ללכת? מסתבר כי בית-המשפט\\nהמחוזי סומך את עיקרי דבריו לדבר-חוק שנתקבל לאחר ההלכה בפרשות \\nגדעון\\n ו\\nקסטנבאום\\n,\\nהוא חוק הזכות לקבורה אזרחית חלופית, תשנ\"ו1996- (להלן נכנה חוק זה - חוק\\nהקבורה החלופית), שלדעתו היה בו באותו חוק כדי לבטל את \\nהילכת גדעון-קסטנבאום\\n.\\n\\n             כולנו נסכים, כמובן, כי חוק מאוחר יכול\\nשיַכֶּה חוק או הלכה שקדמו לו, והשאלה בכל מקרה ועניין אינה אלא אם אמנם עומד החוק\\nהמאוחר בסתירה-שאין-לה-תקנה עם חוק או הלכה קודמים לו. זו, על-רגל-אחת, תורת\\nהביטול מכללא ואידך אינו אלא פירוש והבהרה. נעבור איפוא ונדבר מעט בחוק הקבורה\\nהחלופית, ולאחר מכן נידרש לשאלת היחס בינו לבין \\nהילכת-גדעון-קסטנבאום\\n.\\n\\nלעניינו של חוק הקבורה החלופית\\n\\n7.           חוק הקבורה החלופית - חוק קצר-שורות ותמציתי -\\nכשמו המלא כן הוא: חוק הזכות לקבורה אזרחית חלופית. ובלשונו של סעיף 2 לחוק:\\n\"אדם זכאי להיקבר על\\n \\nפי\\nהשקפתו בבית עלמין אזרחי חלופי אם בחר בכך...\". כן מוסיף החוק וקובע (בסעיף 3\\nבו) כי \"קבורה תיערך תוך שמירת כבוד המת\". תחִילתו של החוק היתה בהצעת\\nחוק של חברי הכנסת דוד צוקר ובנימין טמקין, והמציעים אף הסבירו את מטרתם, והיא:\\n\\n\"כל\\nאדם שנפטר בישראל זכאי להיקבר בדרך מכובדת (סעיף 3 המוצע). באופן התואם את השקפת\\nעולמו. ולכן, מוצע שלא לכפות על הליכי הקבורה מנהגים דתיים כלשהם, אשר לעתים הינם\\nזרים להשקפת עולמו של הנפטר.\" (הצעות חוק לשנת תשנ\"ו, מס\\' 2520 מיום\\n4.3.1996, 600). \\n\\nובהמשך:\\n\\n\"מוצע\\nלפתור את בעיית קבורתם של יהודים, ושאינם יהודים ובני עדה דתית מוכרת אחרת, החפצים\\nבקבורה שתיעשה על פי עקרונותיהם והשקפת עולמם. \\n\\nעוד\\nמוצע לפתור גם את בעיית קבורתם של חסרי עדה דתית מוכרת\". \\n\\nהחוק קובע כי השר לענייני דתות יקבע מקומות אשר ייועדו לשמש\\nכבית עלמין אזרחי חלופי לפי החוק, וכי בתי העלמין יהיו באזורי הארץ השונים ומרחקים\\nסבירים ביניהם (סעיף 4 לחוק). בתי העלמין האזרחיים החלופיים אמורים להיות מנוהלים\\nבידי תאגידים לענייני קבורה (סעיף 5 לחוק), והשר לענייני דתות הוסמך להתקין תקנות\\nביצוע וביניהן תקנות לרישוי תאגידים לענייני קבורה וקביעת נוהלי קבורה (סעיף 6\\nלחוק). \\n\\n             ניתן דעתנו כי החוק - כשמו - מדבר על קבורה\\nאזרחית \\nחלופית\\n, כאומר: דרך המלך היא הקבורה בבתי הקברות הרגילים, ואילו\\nהמבקש להלך בדרך מקבילה, חלופית, זכותו ללכת בה ובלבד שיביע רצונו בכך. סעיף 2,\\nכפי שראינו, קובע את זכותו של אדם לבחור להיקבר בבית עלמין אזרחי חלופי, ומוסיפה\\nאותה הוראת-חוק וקובעת כי \"הבחירה יכול שתהיה בצוואה או בכל דרך אחרת\".\\nהמבקש איפוא כי יקברו אותו - לאחר אריכות ימים ושנים - בקבורה אזרחית חלופית, עליו\\nהנטל לומר זאת ולבקש זאת. יש להניח כי אם בני משפחתו הקרובים של אדם יאמרו כי זה\\nהיה אמנם רצונו של הנפטר, יכובד רצונו של האדם כך. \\n\\n             חוק הקבורה החלופית הינו, איפוא, חוק-מיסגרת:\\nחוק המצהיר על זכויות עקרוניות והמתווה עקרונות לביצועו בעתיד בידי מי שהושם\\nכממונה על ביצועו. בכך חִינוֹ. בכך גם מַכשלתו. \\n\\n8.           הרשויות לא נזדרזו בביצועו של החוק. כך, למשל,\\nעל-אף שתחילתו של החוק היתה ביום 21 במארס 1996, לא הותקנו תקנות אלא לאחר\\nכשנתיים   וחצי; אלו הן תקנות הזכות לקבורה אזרחית חלופית (רישוי תאגידים לעניני\\nקבורה וקביעת נוהלי קבורה), התשנ\"ט1998-, אשר נתפרסמו ביום 17.12.1998 ונקבע\\nבהן כי תחילתן תהא 30 יום מיום פירסומן (קובץ התקנות לשנת תשנ\"ט, מס\\' 3942\\nמיום 17.12.98, 177). צירוף הדברים אלה-אל-אלה ילמדנו כי גם תקנות אלו לא הותקנו\\nאלא בעקבות עתירה שהוגשה לבית-המשפט הגבוה לצדק ואשר נדבר בה בסמוך. \\n\\n             וכך היו דברים שהיו: משבושש השר לענייני דתות\\nלהתקין תקנות לביצועו של חוק הקבורה החלופית, ומשלא קבע - כחובתו בסעיף 4(א) לחוק\\n- מקומות אשר ייועדו לשמש כבית עלמין אזרחי חלופי לפי החוק, עתרו חבר הכנסת דוד\\nצוקר וד\"ר בנימין טמקין - יוזמי החוק - ועימהם מר ארז אפשטיין, לבית-המשפט\\nהגבוה לצדק, בבקשה כי נצווה את השר לענייני דתות למלא את המטלות שהוטלו עליו בחוק.\\nעתירה זו הוגשה לבית-המשפט ביום 27 בינואר 1997 - כעשרה חודשים לאחר תחילתו של\\nהחוק - ולעת הזו עדיין תלויה היא ועומדת לפני בית-המשפט (בג\"ץ 619/97 \\nח\"כ\\nדוד צוקר ואח\\'\\n נ\\' \\nשר הדתות\\n). בעוד העתירה  תלויה ועומדת - וכשנתיים\\nלאחר הגשתה - התקין השר לענייני דתות אותן תקנות שהזכרנו למעלה, ובכך נענתה אחת\\nממישאלות העותרים. מישאלתם האחרת - קביעתם של מקומות לקבורה חלופית - טרם נענתה,\\nהגם שנעשו מעשים מסויימים לקראת ביצועו של החוק הלכה למעשה. \\n\\n9.           פירושם של דברים הוא זה, שחוק הקבורה החלופית\\n- לעת הזו - אינו,   בעיקרו, אלא שלט ושלד: לא ניתנו עליו גידים, לא הועלה עליו\\nבשר, לא קרם עליו עור ולא ניתנה בו רוח. העתירה המבקשת לדחוק ברשויות כי תעשינה את\\nהמוטל עליהן - כטענת העתירה - עדיין תלויה ועומדת לפני בית-המשפט. \\n\\n             עד כאן - ראשי פרקים בעניינו של חוק הקבורה\\nהחלופית, ונעבור מכאן אל פסק דינו של בית-משפט קמא. \\n\\nמה טעם סטה בית-משפט קמא מהילכת-גדעון-קסטנבאום\\n?\\n\\n10.         בראשית פסק-דינו מזכיר בית-משפט קמא את הילכת \\nקסטנבאום\\n\\n- עליה מסתמכת המערערת - וממשיך הוא וקובע כי לאחר אותו פסק-דין \"נפל דבר\\nבישראל\", והוא, חקיקתו של חוק הקבורה החלופית. חוק זה, כך קובע בית-המשפט,\\n\"בא לפטור מעולה של הקבורה על-פי דינים ומינהגים דתיים כל מי שרצונו בקבורה\\nאחרת\". זו היא קביעת החוק, ומכאן נלמד ה\"אידך גיסא\"; והוא: הענקת\\nזכות מלאה לחברה קדישא, בכל אתר ואתר, להקפיד על מינהגים המקובלים עליה. ובלשון\\nבית-המשפט: \\n\\n\"לאחר\\nפסק הדין בע.א. 294/91 [פרשת \\nקסטנבאום\\n - מ\\' ח\\'] נפל דבר בישראל. ב21.3.96-\\nפורסם חוק הזכות לקבורה אזרחית חלופית תשנ\"ו1996-...\\n\\nחוק\\nזה בא לפטור מעולה של הקבורה על פי דיני ומנהגים דתיים כל מי שרצונו בקבורה בדרך\\nאחרת, בבתי עלמין אזרחיים שייועדו לכך באזורי הארץ השונים, במרחקים סבירים ביניהם,\\nוינוהלו בידי תאגידים לענייני קבורה. האידך גיסא של אותו חוק, כדבר הלמד מאליו,\\nמתן אפשרות לחברות קדישא בכל אתר ואתר להקפיד על קיום קבורה בבתי העלמין המנוהלים\\nעל ידם על פי דיני ומנהגי ישראל המקובלים במקומותיהם. \\n\\nאם\\nמע.א. 294/91 יצאה הלכה לפיה מצוות הסובלנות וכיבוד חירות הפרט מחייבת חברה קדישא\\nלאפשר בתחומה סטיה ממה שנחשב בעיניה, ואף בעיני השופטים המכובדים שדנו בע.א.\\n294/91, כראוי בבית עלמין יהודי במדינת ישראל לפי דיני ומנהגי ישראל, בא המחוקק\\nואמר את דברו:\\n\\nהמעונין\\nלהקבר על פי השקפתו, יטמן בבית עלמין אזרחי. שם יוכל לממש את זכותו להקבר על פי\\nרצונו והשקפתו, ולא בבתי העלמין של חברות הקדישא. בכך בוטלה הקונספציה שביסוד ע.א.\\n294/91 לפיה באתר קבורה בעל אופי דתי, יכובד רצון הפרט גם אם אינו תואם את מנהג\\nודין המקום להשקפת בעליו ומנהליו, ונקבע תחתיו עקרון ההפרדה בין בתי עלמין בהם\\nהקבורה תיעשה על פי דינים ומנהגים דתיים לבתי עלמין בהם הקבורה תיעשה על פי השקפתו\\nשל הנפטר, כפי שהובעה בצוואתו או בדרך אחרת.\"\\n\\nבמילים אחרות: חוק הקבורה החלופית ילמד אותנו גם על דרך\\nהחיוב גם על דרך השלילה. על דרך החיוב ילמדנו, כי יוקמו בתי קברות אזרחיים\\nחלופיים. ועל דרך השלילה ילמדנו (על דרך של \"הסדר שלילי\"; \"האידך\\nגיסא\", בלשון בית-המשפט) כי נתבטל, כמו מעצמו, העיקרון שנקבע בפרשת \\nקסטנבאום\\n\\n(ובפרשת \\nגדעון\\n) באשר לכיבוד רצונו של היחיד להיקבר על-פי דרכו. משניתנה\\nליחיד אפשרות להיקבר על-פי דרכו ורצונו בבית עלמין אזרחי חלופי, שוב אין מקום\\nלכפות על חברה קדישא את דרכו ורצונו של היחיד. \\n\\n             בית-המשפט מסכים, אמנם, כי חוק הקבורה החלופית\\n\"טרם מומש\", שכן טרם כוננו בתי עלמין אזרחיים חלופיים, אך לדעתו אין\\nבעובדה זו \"כדי להצדיק כפיה על המשיבה [חברה קדישא - מ\\' ח\\'] לסטות בתקופת\\nהביניים (עד להקמת בתי עלמין אזרחיים חילופיים) מהמקובל עליה, בגיבוי פסיקת הרב\\nהמקומי, כדין ומינהג המקום\". בית-המשפט מוסיף וקובע כי אין בו בחוק הקבורה\\nהחלופית הוראות מעבר, וכי \"לזכויות הקבועות בו, כמו לעקרון ההפרדה בין אתרי\\nקבורה דתית לאתרי קבורה חילופית\" יש \"תחולה מיידית\" (כוונתו של\\nבית-המשפט היא הן להוראות החוק עצמן והן ל\"אידך גיסא\"). לחברה קדישא\\n\"אין ... השפעה על קצב פעולתו של השר ... ואין היא אחראית למעשיו או למחדליו.\\nאת זכות המבקשת על-פי החוק עליה לתבוע מידיו של השר הממונה, ולא מידיה של\\nהמשיבה\". \\n\\n             מוסיף בית-משפט קמא וקובע, כי יש בתי עלמין\\nבקירבת ראשון-לציון (בית העלמין בחולון ובית העלמין ירקון), ובהם מסכימה החברה\\nקדישא המחזיקה בהם לחרוט על מצבות את ימי הלידה והפטירה לפי הלוח הגריגוריאני.\\nמכאן, כך אומר בית-המשפט, \"ניתן להגשים את הזכות למצבה על פי טעמה והשקפתה של\\nהמנוחה במרחק סביר מראשון לציון, ובנסיבות אלו אין הצדקה לאכוף על המשיבה לסטות\\nמפסיקת רב העיר באשר למנהגי הקבורה הראויים בבית עלמין יהודי בישראל\". \\n\\n             המערערת תוקפת טעמים אלה, אחד לאחד, ועתה\\nנידרש לדברים לגופם. \\n\\nלעניינו של ההסדר השלילי בצידו של חוק הקבורה החלופית\\n\\n11.         לא יימצאו חולקים כי חוק הקבורה החלופית חולל\\nשינוי ניכר בדין הקבורה של ישראל. בעוד אשר לפני היותו החזיקו חברות קדישא בארץ\\nב\"מעין-מונופולין\" על קבורתם של יהודים, אמורים להיכון על-פי החוק\\nתאגידים שאינם חברות קדישא, ועימהם אמורים לקום בתי עלמין אזרחיים חלופיים בהם\\nייקברו אנשים, לרצונם, שלא לפי ההלכה היהודית האורתודוכסית. השאלה אינה אלא אם אל\\nחוק זה מתלווה צל של הסדר שלילי, ועיקרו: ביטול \\nהילכת גדעון-קסטנבאום\\n\\nושיחרור חברות קדישא מעולה של אותה הלכה. בית-משפט קמא קובע כי כך הוא דין -\\nלאמור: כי מאז חוק הקבורה החלופית בטלה ועברה מן העולם הילכת \\nגדעון-קסטנבאום\\n\\n- ואילו אנו, מתקשים אנו לקבל הכרעת-דין זו. \\n\\n12.         ראשית לכל נאמר - והוא אינו עיקר - כי דברי\\nבית-משפט קמא מכבידים עלינו במאוד, ולו משום שחוק הקבורה החלופית אינו, לעת הזו,\\nאלא שלט ושלד. האמירה כי \"זכאי אדם להיקבר על-פי השקפתו בבית עלמין אזרחי\\nחלופי אם בחר בכך\" - כלשון סעיף 2 לחוק - אינה, לעת הזו, אלא אמירה פרוגרמטית\\nנעדרת כל ממשות. בתי עלמין אזרחיים חלופיים לא קמו - אף לא נדע אימתי יקומו - ואני\\nמתקשה לקבל כי עצם קיומו של החוק - אשר אף שיני-חלב לא צימח עדיין - יש בו כדי\\nלבטל הלכה. קיומו של \"סעד חלופי\" מחייב שני אלה: אחד, כי יהיה סעד,\\nושניים, כי יהיה זה סעד זמין, סעד יעיל, סעד שניתן להידרש לו.  בענייננו שלנו אין\\nלא סעד זמין ובוודאי שאין סעד יעיל. לשון אחר: על-פי מצב הדברים כיום, אין בפועל\\nקבורה חלופית על-פי החוק. נוכח כל זאת נתקשה להבין כיצד תוכל החברה קדישא של\\nראשון-לציון להתנער מאחריותה ומחובתה כלפי כלל הציבור - קרא: כלפי תושבי העיר אותם\\nנועדה ואמורה היא לשרת - אחריות וחובה שהיא נושאת בהן למיצער מאז הילכת \\nגדעון-קסטנבאום\\n.\\nאין זה אלא לעג לכבודו של אדם באומרנו לו כי ילך אצל השר ויטען כנגד התמהמהותו\\nלבצע את החוק. וכי יכול אדם לְאַחֵר את יום מותו עד אשר ייכונו בתי קברות חלופיים?\\nואולם לא נספק עצמנו בטעם זה. נדבר עתה על החוק כמו הוקמו על-פיו בתי קברות\\nאזרחיים חלופיים, ובטעם זה נראה עיקר.  \\n\\n13.         אמת נכון הדבר: לכל הסדר נורמטיבי מתלווה הסדר\\nשלילי, הוא ה\"אידך גיסא\" כלשונו של בית-משפט קמא. הערנו על כך במקום אחר\\n(רע\"א 5768/94 \\nא.ש.י.ר יבוא יצור והפצה\\n נ\\' \\nפורום אביזרים ומוצרי\\nצריכה\\n; (טרם פורסם), וכך אמרנו:\\n\\n\"כשם\\nשאין אדם ללא צל, כן - על דרך העיקרון - אין הסדר חוק בלא הסדר שלילי בצידו. וכשם\\nשהצל ילך עם בעליו כן ילך ההסדר השלילי עם הסדר החוק. מעטפת ההסדר השלילי יכולה\\nשתהיה צרה ויכולה שתהיה רחבה, ואולם לעולם תהא מעטפת הסדר שלילי כלשהי.\"\\n(פיסקה 118 לחוות-דעתי)\\n\\nומהו אותו הסדר שלילי (שם, פיסקה 97 לחוות דעתי):\\n\\n\"הסדר\\nשלילי המשתמע מגופו של חוק - והעוטף את החוק סביב-סביב לו - הוא אמירה מכללא על\\nבלעדיות החוק בתחומים מסויימים, ומדמה הוא עצמו לביטול חוק (או הלכה) בידו של חוק\\nמאוחר\"\\n\\nהסדר שלילי - צילו של החוק - מלווה את החוק, ואין צל שהוא\\nאדון לעצמו. הסדר שלילי יילמד מתוך הוראות החוק הגלויות לעין ובבחינת תשתיתו של\\nהחוק, ואין הסדר שלילי שהוא בבחינת חי הנושא את עצמו. לענייננו שלנו ניתן לומר, כי\\nההסדר השלילי העוטף את חוק הקבורה החלופית הוא זה, שלאחר תחילת החוק אין היתר\\nלקבור קבורה \"חלופית\" אלא בקיום הוראות החוק. לא אמרנו כי זה ההסדר\\nהשלילי המתלווה אל החוק. כל שאנו אומרים הוא, שהסדר שלילי מעין זה \\nעשוי\\n\\nלהילמד מהוראותיו הגלויות של החוק. ואולם, מתקשים אנו להבין כיצד ניתן להסיק\\nמהוראות החוק - לא עוד, אלא \"כדבר הלמד מאליו\" - את \"עקרון\\nההפרדה\" שבית-משפט קמא מדבר בו. כמו הורנו החוק כי לאחר תחילתו יש\\n\"קבורה דתית\" - כמינהג כל אתר ואתר; בצידה יש \"קבורה חלופית\";\\nוכי עצם קיומה של קבורה חלופית עושה את החברה קדישא גבירה במקומה, גבירה המשוחררת\\nמעול המשפט הציבורי, מעול תקנת הציבור ומעול חוק החוזים האחידים - הכל כ\\nהילכת\\nגדעון-קסטנבאום\\n. בית-משפט קמא מצמיד לחוק הקבורה החלופית צל שהוא ארוך ורחב\\nבהרבה מצל שעשוי חוק הקבורה החלופית להטיל, צל שהיה ראוי כי ילווה הסדר חוק מפורש\\nורחב בתחומי התפרשותו מחוק הקבורה החלופית, למיצער במתכונתו הנוכחית. \\n\\n14.         יתר-על-כן: תכליתו של חוק הקבורה החלופית,\\nמעיקרו, היתה \\nלהוסיף חלופה\\n לדרכי הקבורה המקובלות - למי שחפץ בקבורה בהתאם\\nלהשקפת עולמו ושלא על-פי הדרך הנהוגה במקומותינו; להוסיף חלופה - לא לגרוע מן\\nהקיים; ואין בהוספת החלופה כדי לחסר כהוא-זה מן החובות המוטלות על חברה קדישא - כל\\nחברה קדישא - בתחומיה. האמירה כי הקניית זכות לקבורה אזרחית חלופית נועדה - על דרך\\nההסדר השלילי - לשלול זכות לכיתוב לועזי על מצבה ולציון מועדים על-פי הלוח\\nהגריגוריאני, היא בבחינת \\nnon sequitur\\n. אכן, הקניית\\nזכות לאדם להיקבר בקבורה חלופית על-פי השקפת עולמו, אין בה כדי ללמד כי בטלה מאליה\\nזכותו של אותו אדם לכיתוב לועזי על מצבה בבית-קברות רגיל, אם אמנם קנה זכות זו\\nלפני היותה של אותה זכות לקבורה חלופית. לא מצאנו בחוק הקבורה החלופית ולו רמז, כי\\nלאחר תחילתו קנו חברות קדישא זכות להעמיד דרישות אשר \\nex\\nhypothesi\\n - על-פי \\nהילכת גדעון-קסטנבאום\\n - פוגעות בכבוד האדם, פוצעות\\nבתקנת הציבור, חותרות תחת עיקרי המשפט הציבורי, אסורות על-פי חוק החוזים האחידים. \\n\\n15.         נושא ההסדר השלילי קשור בטבורו לנושא הביטול\\nמכללא (ראו דברים שאמרנו בפרשת \\nבנק המזרחי המאוחד\\n (\"פרשת חוק\\nגל\": ע\"א 6821/93 \\nבנק המזרחי המאוחד בע\"מ\\n נ\\' \\nמגדל כפר\\nשיתופי\\n; רע\"א 1908/94 \\nגבעת יואב - מושב עובדים להתיישבות חקלאית\\nשיתופית בע\"מ\\n נ\\' \\nשירותי אשראי מסחרי (ישראל) בע\"מ\\n; ע\"א\\n3363/94 \\nנחמיאס\\n נ\\' \\nכפר ביאליק כפר שיתופי בע\"מ\\n), פ\"ד\\nמט(4) 221, 554 עד 557) ובפרשת \\nא.ש.י.ר.\\n, לעיל, שם, בפיסקאות 96 עד 118\\nלחוות-דעתי).  פירוש דברי בית-משפט קמא הוא, שחוק הקבורה החלופית ביטל מכללא את \\nהילכת\\nגדעון-קסטנבאום\\n. למסקנה זו לא נוכל להסכים. הלכה שקבע בית-המשפט העליון בונה\\nעצמה על עיקרי-יסוד של שיטת המשפט בישראל - כבוד האדם, תקנת הציבור, עקרונות המשפט\\nהציבורי - והיא כה מוצקה ואיתנה, עד שנתקשה לקבל כי נתבטלה מכללא, כביכול, על-ידי\\nעצם קבלתו של חוק הקבורה החלופית; כי רוח שחוק הקבורה החלופית העלה בעוברו לידנו\\nנשא את הילכת \\nגדעון-קסטנבאום\\n אל מחוץ לגדר עד שנעלמה והיתה-כלא-היתה.\\nלביטולה של הלכה כ\\nהילכת גדעון-קסטנבאום\\n - הלכה המעגנת עצמה בזכויות היסוד\\nשל האדם - היינו מצפים לאמירה מפורשת של החוק. אמירה מעין-זו לא נמצאה לנו. \\n\\n             לשון אחר: המערערת קנתה זכות על-פי ההלכה\\nלחרוט על המצבה שעל הקבר את יום הלידה ואת יום הפטירה של אמה על-פי הלוח\\nהגריגוריאני, ולא ידענו כיצד יש בהוראות חוק הקבורה החלופית - בין הוראות מפורשות\\nבו בין הוראות מכללא - כדי לבטל זכות זו כלא-היתה. כך היה גם לפני היות חוקי\\nהיסוד. ראו והשוו: בג\"ץ 337/81 \\nמיטרני\\n נ\\' \\nשר התחבורה\\n, פ\"ד\\nלז(3) 337, 359-358. לאמור: לביטולן של זכויות יסוד - או לצימצום תחום תחולתן -\\nנדרשנו לדבר-חקיקה ברור ומפורש ולא סיפקנו עצמנו בהסדר שלילי. אם כך היה לפני חוקי\\nהיסוד, לאחר היותם - לא-כל-שכן; שהרי עתה מגן חוק יסוד: כבוד האדם וחירותו -\\nמפורשות - על כבוד האדם, והוא אותו יסוד איתן שעליו מושתתת \\nהילכת\\nגדעון-קסטנבאום\\n. \\n\\n16.         זאת ועוד: לאחר היותם הוסיפו חוקי היסוד חיזוק\\nותוקף נורמטיבי לעיקרון שהיה מקובל לפני היותם. כוונתנו לפיסקת ההגבלה בחוק יסוד:\\nכבוד האדם וחירותו (בסעיף 8 בו), אשר לפיה ומכוחה - בין במישרין בין על דרך ההקרנה\\n- נפרש כל הוראת-דין כפוגעת בזכויות יסוד רק אם עומדת היא בתנאי-יסוד אלה, והם:\\nהוראת-הדין הולמת את ערכיה של מדינת ישראל; הוראת-הדין נועדה לתכלית ראויה;\\nוהפגיעה שהוראת-הדין פוגעת בזכות אינה עולה על הנדרש. לתנאי אחרון זה ראו,\\nלאחרונה: פרשת \\nכביש בר-אילן\\n (בג\"ץ 5016/96, 5025, 5090, 5434 \\nליאור\\nחורב\\n נ\\' \\nשר התחבורה\\n; \\nח\"כ אופיר פינס\\n נ\\' \\nשר התחבורה\\n;\\n\\nח\"כ יוסף שריד\\n נ\\' \\nשר התחבורה\\n; \\nהאגודה לשמירת זכויות הציבור\\nהדתי והחרדי בישראל\\n נ\\' \\nשר התחבורה\\n, פ\"ד נא(4)1, 54-53, מפי הנשיא\\nברק, והאסמכתאות המובאות שם; בג\"ץ 3648/97 ועוד \\nסטמקה ואח\\'\\n נ\\' \\nשר\\nהפנים ואח\\'\\n (טרם פורסם, בפיסקאות 50 ואילך לפסק-הדין). \\n\\n             וכה היו דבריו של השופט ברק בפרשת \\nקסטנבאום\\n\\n(שם, 524):\\n\\n\"כבוד\\nהאדם בישראל אינו מטאפורה. זו מציאות נורמאטיבית, ממנה מתבקשות מסקנות אופרטיביות.\\nלענייננו מתבקשת המסקנה, כי הסמכה כללית של רשות שלטונית לבצע פעולות מסוימות -\\nכגון ניהולו של בית-קברות - אינה מתפרשת כמאפשרת לאותה רשות שלטונית לפגוע פגיעה\\nממשית וקשה בכבוד האדם של הנוגעים בדבר. רשות  שלטונית, אשר מבקשת לפגוע בכבוד\\nהאדם, חייבת לקבל לשם כך הסמכה מפורשת וברורה מאת המחוקק, ומאז חקיקתו של\\nחוק-יסוד: כבוד האדם וחירותו הסמכה זו צריכה להיות מעוגנת בחוק \\'ההולם את ערכיה של\\nמדינת ישראל, שנועד לתכלית ראויה, ובמידה שאינה עולה על הדרוש\\' (סעיף 8). תפיסת\\nיסוד זו - בדבר הצורך בהוראת חוק מפורשת וברורה המאפשרת פגיעה בכבוד האדם - אינה\\nחדשה עמנו. מימים ימימה מקובל עלינו, כי הרשות השלטונית אינה מוסמכת לפגוע בזכויות\\nיסוד בלא הסמכה מפורשת וברורה לכך ... כיום נוספה על כך דרישה נוספת באשר למהותו\\nשל אותו חוק.\" \\n\\nאכן, נתקשה - נתקשה במאוד - לקבל פירוש ולפיו בא חוק הקבורה\\nהחלופית לטאטא מאיתנו והלאה - כמו בדרך אגב - זכויות ש\\nהילכת גדעון-קסטנבאום\\n\\nרואה אותן כזכויות הנלמדות מכבוד האדם, מתקנת הציבור, מליבָּתו של המשפט הציבורי.\\nנתקשה לקבל פירוש כזה, ואכן נדחה אותו מעל פנינו.\\n\\n             יתר-על-כן: אם אמנם חברה קדישא גוף דו-מהותי\\nהיא - כ\\nהילכת קסטנבאום\\n - לאמור: גוף שהילכות המשפט הציבורי, בעיקריהן,\\nפורשות עליו רשת (ראו: פרשת \\nקסטנבאום\\n, שם, 485-484, 492-490, 519-517. ראו\\nעוד: ע\"א 3414/93 \\nשמחה און\\n נ\\' \\nמפעלי בורסת היהלומים (1965)\\nבע\"מ\\n, פ\"ד מט(3) 196; א\\' בנבנישתי, \"תחולת המשפט המינהלי על\\nגופים פרטיים\" \\nמשפט וממשל\\n ב, תשנ\"ד1994-, 11); אם נזכור כי\\nהילכות המשפט הציבורי תופשות בחברה קדישא בשל כך שממלאת היא תפקיד ציבורי וחברתי\\nעל-פי דין; ואם נוסיף ונזכור כי כבוד האדם ותקנת הציבור מוליכים אותנו היישר אל\\nחיובה של חברה קדישא לנהוג כ\\nהילכת גדעון-קסטנבאום\\n; אם נדע כל אלה, תמהני\\nכיצד תוכל חברה קדישא להשיל את חובתה מעל גבה, ולא עוד אלא על דרך של לימוד מכללא\\nוהסדר שלילי קונספטואלי. לביטול \\nהילכת גדעון-קסטנבאום\\n נדרשת עוצמה רבה מזוֹ\\nשהסדר שלילי וביטול מכללא יכולים לספק לנו. \\n\\nטענת חברה קדישא כי עמותה פרטית היא\\n\\n17.         טוענת החברה קדישא כי \\nהילכת גדעון-קסטנבאום\\n\\nאינה תופשת בה; והטעם לדבר: להבדילה מחברות הקדישא שהיו בפרשת \\nגדעון\\n ובפרשת\\n\\nקסטנבאום\\n, עמותה פרטית היא; אין היא מסונפת כלל למועצה הדתית של\\nראשון-לציון; והקרקע בבית הקברות היא בבעלותה, לאחר שרכשה אותה בכסף מלא. ומשידענו\\nכל אלה, כך ממשיכה היא וטוענת, נוסיף ונדע כי עושה היא בְּשֶלָהּ וכי רשאית היתה\\nלחייב את המערערת באשר לכיתוב שעל המצבה. טענה זו אינה מקובלת עלינו במקרה\\nשלפנינו. בוודאי כך דין לעניין החלת חוק החוזים האחידים על מערכת היחסים שבין\\nהחברה קדישא לבין המערערת. כך הוא דין גם לעניין החלת כללי המשפט הציבורי ובוודאי\\nכך לעניין תקנת הציבור. \\n\\n             הנחת-היסוד ב\\nהילכת גדעון-קסטנבאום\\n היתה\\nזו, שהחברה קדישא נולדה באורח פורמלי בחיק המשפט הפרטי, ואולם משהחלה עוסקת במה\\nשעסקה הפכה היא לגוף דו-מהותי, גוף הכפוף גם לכללי המשפט הפרטי גם לעיקרי המשפט\\nהציבורי. אמר הנשיא שמגר בפרשת \\nקסטנבאום\\n (לעיל, שם, 484) כי תפקידה של\\nהחברה קדישא הוא \"בעיקרו ציבורי, הן מן הבחינה הפורמלית הן מן הבחינה\\nהמהותית\". אופי פעילותה של החברה קדישא לא נשתנה: הוא הטובע במיצחה סימן והוא\\nהמעלה אותה ברשת \\nהילכת גדעון-קסטנבאום\\n. אכן, העובדה כי קרקע מסויימת מצויה\\nבבעלותו של גוף פרטי, אין בה, כשהיא לעצמה, כדי לפטור אותו גוף - תמיד ובכל נסיבות\\nשהן - מעיקרי המשפט הציבורי. יש שקנין פרטי יהא בעל אופי ציבורי מבחינת מהות\\nהשימוש בו, ואופיו זה - באשר הוא - יגרור אחריו עיקרים מן המשפט הציבורי אשר ידבקו\\nבאותו גוף ויחייבו אותו בהתנהגותו. ראו, למשל, והשוו: פרשת \\nאון\\n, לעיל. ראו\\nעוד: בג\"ץ 2481/93 \\nדיין\\n נ\\' \\nניצב יהודה וילק, מפקד מחוז ירושלים\\n,\\nפ\"ד מח(2) 456; אילנה דיין - אורבך, \"המודל הדמוקרטי של חופש\\nהביטוי\", \\nעיוני משפט\\n כ (תשנ\"ז1996-) 377, 422 ואילך. בוודאי\\nייאמרו דברים אלה על החברה קדישא שלפנינו והיא חברה קדישא כללית; לאמיתם של דברים\\nהחברה קדישא האחת והיחידה בראשון-לציון. \\n\\n             חברה קדישא שלפנינו דינה כדין שאר חברות\\nקדישא, ודין החל על חברות קדישא אחרות חל עליה אף-היא. \\n\\nפסיקתו של רב חברה קדישא; כבוד האדם; רשות היחיד ורשות\\nהרבים\\n\\n18.         מוסיפה החברה קדישא וטוענת כי כפופה היא לפסיקת\\nהרב הראשי של חברה קדישא ולהוראות הרב המקומי של ראשון-לציון, וכי פסיקת ההלכה של\\nאלה אוסרת עליה חריטת אותיות לועזיות וציון ימי לידה ופטירה לפי הלוח הגריגוריאני.\\nגם טענה זו אינה מקובלת עלינו. \\n\\n             ראשית לכל, סברה זו נדונה לגופה גם בפרשת \\nגדעון\\n\\nגם בפרשת \\nקסטנבאום\\n, ולמרות חוות-דעת הילכתיות שהובאו לידיעת בית-המשפט פסק\\nבית-המשפט את שפסק - ובשתי הפעמים. לעניין זה נזכור במיוחד את דבריו של המישנה\\nלנשיא השופט אלון בפרשת \\nקסטנבאום\\n (שם, 489-488, 503-499); ולמרות שהמישנה\\nלנשיא היה במיעוט בהכרעת הדין, הנה לעניין זה כתב את שכתב על דעת המותב. \\n\\n             שנית, מסתבר כי אין הלכה גורפת וכוללת האוסרת\\nכי ייחרטו על מצבה אותיות בלעז או ימי לידה ופטירה לפי הלוח הגריגוריאני. בבתי\\nקברות רבים בארץ אין כלל איסור על-כך (ראו, למשל, דברי הנשיא שמגר בפרשת \\nקסטנבאום\\n,\\nשם, 483, ודברי השופט עציוני בפרשת \\nגדעון\\n, שם, 19), והחברות קדישא באותם\\nמקומות מתירה למשפחות, לרצונן, לחרוט על המצבה את שמות המנוחים באותיות לטיניות\\nואת ימי הלידה והפטירה בספרות ולפי הלוח הגריגוריאני. אכן, גם בבית הקברות של\\nראשון-לציון יש מצבות הנושאות כיתוב שלא-בעברית וציון ימים לפי הלוח הגריגוריאני,\\nאלא שלדברי הרב של החברה קדישא כך היה לפני בואו למקום, ואילו משבא הטיל איסור\\nעל-כך. פירוש הטענה הוא, שכל רב של חברה קדישא - או רב מקומי - יוכלו להתיר או\\nלאסור, לרצונם, והקהילה כולה תהא מחוייבת לציית להם. הנה-כי-כן, בבתי הקברות של\\nהחברה קדישא של תל-אביב, לא הוטל איסור - לא מטעם הרב של חברה קדישא ולא מטעם הרב\\nהמקומי - על חריטת אותיות לטיניות או על חריטת ימי הלוח הגריגוריאני. ואולם, אם\\nמחר-מחרתיים יקום בתל-אביב רב אשר לא ידע את יוסף, ואותו רב יבקש להחמיר ויטיל\\nאיסור, כי אז אליבא דטענת חברה קדישא יתפוש האיסור. \\n\\n             הלכה זו, ההלכה המקנה לרב המקום סמכות-על על\\nתחום-שיפוטו - הילכת המרא דאתרא - כוחה-עימה כלפי מי שהם שומרי-מיצוות או על-פי\\nדין מפורש של המדינה. בימים שמכבר, ובקהילות ישראל שהיו מפוזרות בין העמים בכל\\nהמדינות, זו היתה ההלכה ואין בילתה. זו ההלכה, כמסתבר, בקהילות ישראל בעולם גם\\nבימינו-אנו. ראו עוד: מנחם אֵלון, \\nהמשפט העברי\\n (ירושלים, תשנ\"ב,\\nמהדורה שלישית מתוקנת ומורחבת), כרך ראשון, 547 ואילך. לא כן בישראל, שנקבצנו אל\\nארצנו, ולא נמצא לי טעם טוב - מבחינת דין המדינה - להשליט את הילכת המרא דאתרא על\\nהכל - על שומרי-מיצוות ועל מי שאינם שומרי-מיצוות - כמו היתה חוק המדינה. אכן,\\nהחלטת הרב של החברה קדישא - המבקש להשליט את סברתו על כל הקהילה, על שומרי-מיצוות\\nועל מי שאינם-שומרי-מיצוות - אינה מקובלת עלינו מכל-וכל. הבה נקרב ראשינו ונתמהּ:\\nהנה הן רחובות ונס-ציונה, תל-אביב ויפו, רמת-גן וגבעתיים, חולון ובת-ים, חיפה\\nוהקריות; מצבות אשר הוצבו בכל אחת מאלו ניתן לחרוט עליהן, כמסתבר, את יום הלידה\\nואת יום המוות לפי הלוח הכללי; כך בכל אלו, ואילו בראשון-לציון נאסר הדבר - כיום \\n- באיסור חמור. ביודענו כי הגבולות של כל מקומות-ישוב אלה נתחמו בידי המדינה ולא\\nבידי ההלכה; כי תחום שלטונו של המרא דאתרא נקבע על-פי דין המלכות; נעמוד אנו\\nונשאל: מה בין מינסק לבין פינסק, שכאן יותַר וכאן יֵיאָסר? אף אתה אמור: החברה\\nקדישא מבקשת להשליט את החלטת המרא דאתרא על תושבי ראשון-לציון; לכפות את איסוריו\\nעל כל תושבי העיר; כי כך קובעת ההלכה. ואילו אנו, אנו לא מצאנו לא דין ולא צדק כי\\nנאכוף על בני-העיר את איסוריו על המרא דאתרא.  \\nהילכת\\n \\nגדעון-קסטנבאום\\n\\nחיה וקיימת היא עימנו ולא נגרע דבר מכוחה: לא מכוחה המגיסטריאלי ולא מכוחה המוסרי.\\n\\n             מונחת לפני מסכת יבמות והיא בספר גדול-מידות,\\nכבד-מישקל ומעורר-כבוד, כדרכם של ספרי תלמוד. הספר ראה אור בידי הרב נחמן אברהם\\nגאלדבערג בשנת \"תברך\" (קרא: תרכ\"ב) \\n“in\\nBerlin, 1863”\\n. בצידו מונחת לפני מסכת נדרים אשר ראתה אור בדפוס האלמנה והאחים\\nראָם, ושנת ההוצאה - כמודפס בעמוד הראשון: תרנ\"ז1897-. כך הוא אף מישנה תורה,\\nהוא היד החזקה, \"להנשר הגדול הרב הגאון רבינו משה בר מיימון זצ\"ל\".\\nספר זה, כבד-גוף וגדול-מידות \"הוגה בעיון נמרץ והובא לדפוס\" בידי הרב\\nנחמן אברהם גאלדבערג, ושנת ההוצאה - כאמור בו - שנת \"תברך\", \\n“\\n1862 \\n“Berlin,\\n. ועוד מונח על\\nשולחני, דרך קבע, תנ\"ך בהוצאת מוסד הרב קוק (מוגה בידי מרדכי ברויאר) והוא\\nמשנת 1989. משניות מבוארות בידי פנחס קהתי הן משנת 1991; כרך א\\' של האנציקלופדיה\\nהתלמודית נדפס בשנת תשי\"ב1951-, סידור \"רינת ישראל\" בעריכת שלמה טל\\n(מהדורה רביעית) הוא משנת 1983; והדפסה שמינית של הספר \"מכלול המאמרים\\nוהפתגמים\" מאת משה סבר ובהוצאת מוסד הרב קוק היא משנת \"תשמ\"ז (1987)\".\\nמסתבר איפוא כי האיסור על השימוש ב\"למניינם\" אינו איסור גורף וסוחף.\\nבנסיבות אלו תחייב \\nהילכת גדעון-קסטנבאום\\n ככתבה וכלשונה. \\n\\n             אחרת יכול שיהיה דין אם יבקש פלוני לחרוט על\\nמצבה, למשל, סמל של צלב, ואין צורך כי נאריך בכך. אכן, חוות-דעת (לחומרה) שהוגשו\\nלעיוננו נדונו גם בפרשת \\nגדעון\\n ו\\nקסטנבאום\\n, ולא נחזור על דברים\\nשנאמרו. \\n\\n19.         חברה קדישא עושה עצמה אפוטרופה על נפטרים\\nשנקברו בבית הקברות של ראשון-לציון - עליהם ועל קרוביהם - וטוענת היא לפנינו כי\\nכבודם של הנפטרים ורגשותיהם של בני המשפחות עלולים להיפגע אם יהיו בבית הקברות\\nמצבות ועליהן כיתוב באותיות שאינן-עבריות ובמספרים שלפי הלוח הגריגוריאני. טענה זו\\nתמוהה משהו, ולו משום שבבתי קברות אחרים בארץ לא הוטל איסור שהטיל הרב של החברה\\nקדישא בראשון-לציון. וכי אנשי ראשון-לציון שונים מאנשים אחרים בארץ? מהו המייחד את\\nתושבי ראשון-לציון משאר תושבי המדינה? וכי רגישותם של אנשי ראשון-לציון לאותיות\\nשאינן עבריות וללוח הגריגוריאני שונה מרגישות שאר בני-הארץ? אף אתה אמור: תושבי\\nראשון-לציון ותושבי תל-אביב רבה (למשל) - אין כל הבדל בין אלה לבין אלה (למיצער,\\nלענייננו עתה). ההבדל אינו אלא בפסיקת הרב של החברה קדישא. אלא שפסיקתו של רב\\nהחברה קדישא אינה מחייבת את הציבור כולו. נהפוך הוא: \\nהילכת\\n \\nגדעון-קסטנבאום\\n\\nהיא המחייבת; ומחייבת היא גם את הרב של החברה קדישא בראשון-לציון. \\n\\n             יתר-על-כן: כפי שאמרנו, עשתה עצמה החברה קדישא\\nאפוטרופא על מי שנקברו בראשון-לציון, עליהם, על קרוביהם ועל ריגשותיהם של אלה ושל\\nאלה.  ואולם, את קרוביהם של הנפטרים לא שמענו, וטרוניה מפיהם לא עלתה לפנינו.\\nטיעוניה של החברה קדישא לא יצאו מגידרה של השערה, ובהשערה - כידוע - אין די. להסרת\\nספק נוסיף ונאמר, כי גם לו בא לפנינו מי בטרוניה, ספק אם היינו שומעים לו. ומשלא\\nבא, בוודאי אין צורך שנטרוד עצמנו בהשערה פורחת. \\n\\n20.         טענה זו של פגיעה בכבוד המת ובריגשות בני\\nהמשפחה אינה חדשה עימנו. היא עלתה מפורשות בפרשת \\nקסטנבאום\\n, ובית-המשפט אמר\\nבה דברים מפורשים. כך, למשל, אמר הנשיא שמגר (שם, 482): \\n\\n\"המצבה\\nאיננה מבנה ציבורי, אלא, בראש ובראשונה, סימן מקשר \\nאישי\\n בין החיים, השומרים\\nבלבם זכר הנפטר, לבין מי שהלך לעולמו; זוהי יד, שהוצבה על-ידי אלה הבאים לפקוד\\nמקום זה, אשר נועדה, בראש ובראשונה, להם ואשר עניינם בה צריך להיות מוגן ומיוחס.\\n\\n.\\n. .\\n\\nמציב\\nהמצבה ואדם אחר שפוקד קבר אחר בבית הקברות אינם ניצבים במישור אחד. המגמה צריכה\\nלהיות, כי אל לו לפרט האחד להכנס לתחום רעהו ולהתערב ללא צורך בעולמו וברגשותיו.\\nחייב אדם להותיר בידי האחר את הזכות ואת החירות לעשות כרוחו, על פי רגשותיו\\nותחושותיו, והסובלנות מחייבת, שהאחד לא יתערב בענייננו של האחר, שאינו צריך לנגוע\\nלו, והוא, כאמור, כל עוד אין המדובר בנתונים עמם גם האדם הסביר אינו יכול\\nלהשלים.\" (ההדגשה במקור - מ\\' ח\\')\\n\\nעל כבוד האדם הרחיב דיבור חברי השופט ברק, אלא שלדבריו יש\\nלשמור בעיקר על כבוד המת המוטל לפנינו. השופט ברק דיבר על הכיתוב שעל המצבה, וכך\\nאמר בפרשת \\nקסטנבאום\\n (שם, 523):\\n\\n\"עמידה\\nעל בלעדיות הכיתוב העברי על מצבה של יהודי שאינו חפץ בכך יש בה פגיעה ממשית וקשה\\nבכבודו של אותו אדם בישראל. אין זו רגישותו של היהודי החריג ויוצא-הדופן. \\'האדם\\nהרגיל\\', שאינו בעל רגישות מיוחדת במינה, נפגע קשות אם אין בכוחו לקבוע כי על גבי\\nהמצבה של עצמו או של היקרים לו, יהא כיתוב בלשון הנראית לו כראויה והמנציחה בצורה\\nהנראית לו כהולמת את היקרים לו. כבוד האדם אינו רק כבודו של אדם בחייו.\\n \\nזהו גם כבודו של אדם לאחר מותו,\\nוזהו גם כבודם של יקיריו השומרים את זכרו בליבם. כבוד זה מתבטא, בין השאר, בעצם\\nהצבתה של המצבה, בביקורים בבית הקברות בימי זכרון ובטקסי ציבור ובטיפוח הקבר. זהו\\nאותו קשר - לעתים רציונלי ולעתים בלתי  רציונלי  -  בין החיים לבין המתים, אשר\\nמגבש את האדם שבתוכנו, והנותן ביטוי למאוויי הנפש הנכספים. זוהי ה\\'יד\\' שהחיים מושיטים\\nלמתים. זהו הביטוי החיצוני המשקף את הקשרים הפנימיים בין הדורות. הכרה בכבוד \\nהאדם  מחייבת מתן חירות לאדם לעצב את כיתוב המצבה כפי שנראה לו כראוי. שלילתו של\\nחופש עיצוב זה והטלת חובת השימוש בכיתוב עברי בלבד, יש בה פגיעה קשה וממשית בערך\\nהיסוד של כבוד האדם. ודוק: הפגיעה בכבוד האדם מקורה בשלילת החירות לעצב את תוכן\\nהמצבה כפי שהמנוח (בחייו) ומשפחתו (לאחר מותו) מבקשים לעצבה.\"\\n\\n21.         בפרשת \\nמיטראל בע\"מ\\n נ\\' \\nראש\\nהממשלה ושר הדתות מר יצחק רבין\\n (בג\"ץ 3872/93, פ\"ד מז(5) 485)\\nדיברתי על חופש הדת ועל החופש מדת, ובהמשך לעיקרי-יסוד אלה המשכתי ודיברתי על רשות\\nהיחיד, על רשות הרבים, ועל מה שביניהן. בין השאר אמרתי דברים אלה (שם, 508-507):\\n\\n\"ניתן\\nאולי לתמצת - ולו בחלקו - את העיקרון השליט ביחסי דת ומדינה באמירה (השאובה ממקום\\nאחר, אך לאחר קרצוף הירוקה שעליה, צריפת הסיגים, וניפוי כל האסוציאציות הבלתי\\nרצויות והבלתי רלוואנטיות): היה אדם בצאתך ויהודי באוהלך; רשות הרבים מזה ורשות\\nהיחיד מזה ... רחובה של עיר מכאן וביתו של אדם מכאן. המדינה ושליחיה - בהם הממשלה,\\nהמינהל ובתי המשפט - ישמרו ויגנו על חופש הדת של אדם בביתו, אך בצאתו מביתו ובבואו\\nאל רשות הרבים, או אל רשות היחיד של הזולת, שוב לא יוכל לכפות רצונו ודעתו על\\nזולתו. רשות היחיד ליחיד - יחיד יחיד ורשותו שלו, ורשות הרבים - לרבים. כבודו\\nיהודי פנימה, ובביתו תגן המדינה על זכותו לנהוג כרצונו (בכפוף לשיקולים של הגנה על\\nהזולת ושל שמירת הסדר הציבורי) - שומר מצוות ומי שאינו שומר מצוות; לא כן ברשות\\nהרבים, ובלבד שיישמרו הסדר, מנהגות החוץ ושלום הציבור. יפה תלמוד תורה עם דרך ארץ:\\nתלמוד תורה באהלה של תורה ודרך ארץ לבר-אוהל-של-תורה (אך גם באוהל). \\n\\nהאינטרס שקנו שומרי מצוות משקלו הוא רב-עד-מכריע\\nבביתם פנימה, וכל עוד מבקשים הם דבר לעצמם; ככל שירחקו מביתם ויקרבו אל רשות הרבים\\n- או אל רשות היחיד של הזולת - או ככל שיבקשו לשלול דבר מן הזולת, כן יחלש כוחו של\\nאותו אינטרס, והרי כנגדו יעמדו אינטרסים של הזולת, ברשות הרבים או ברשות היחיד\\nשלו.\"\\n\\nבפרשת \\nכביש בר-אילן\\n (לעיל) הוספתי ודיברתי על רשות\\nהיחיד ועל רשות הרבים, וכך אמרתי בין שאר דבריי (שם, בפיסקאות 25, 26 ו27- לחוות\\nדעתי):\\n\\n\"25.\\nכלל גדול הוא בתורה: רשות היחיד - ליחיד, רשות הרבים - לרבים. ביתו של אדם - לו\\nולמשפחתו, רחובה של עיר - לקהילה כולה. כך הוא אף ביחסי דת ומדינה. לכל אדם שמורה\\nזכותו לחופש הדת ולחופש מדת ברשות היחיד, והמדינה ושלוחיה ישמרו ויגנו על חופש זה\\nבכל הדרכים העומדות לרשותם. כך ברשות היחיד וכך ברשות הרבים. כברשות היחיד כן\\nברשות הרבים, תגן המדינה על זכותו של אדם לחופש הדת ולחופש מדת. וזכותו זו של אדם\\nפירושה הוא, שאין כופין אותו בענייני דת לא לכאן ולא לכאן. ברשות היחיד תגן המדינה\\nעל חופש הדת ועל החופש מדת באשר רשות היחיד היא, וברשות הרבים תגן המדינה על חופש\\nהדת ועל החופש מדת באשר רשות הרבים היא. כל דברים אלה כולם ייאמרו ויקויימו ובלבד\\nשיישמרו הסדר ושלום הציבור. ראו, למשל: פרשת \\nמיטראל\\n, 509-507.\\n\\n26.\\n   ענייננו הוא בשני זוגות אלה: ביחיד ובכלל, ברשות היחיד וברשות הרבים. שני\\nהזוגות יוצרים ביניהם חיבורים אחדים, ומבין החיבורים האפשריים לא יעלה ספק באשר\\nלחיבורים אלה (בכפוף לחוק ולחוקה): ברשות היחיד לא יותר יחיד אחר ולא יותר הכלל\\nלכפות רצונו על היחיד. ברשות הרבים לא יותר יחיד אחד לכפות רצונו לא על יחיד אחר\\nולא על רבים. השאלה שלענייננו נסבה על החיבור שבין היחיד לבין הרבים ברשות הרבים,\\nלאמור: האם קנו הרבים זכות לכפות על יחיד המצוי ברשות הרבים מינהגות שמקורם בדת,\\nלאמור, לשלול מן היחיד המצוי ברשות הרבים את זכותו לחופש, ולענייננו: לחופש מדת.\\nבשאלה זו נגענו בפרשת \\nמיטראל\\n, ואמרנו עליה דברים אלה: \\n\\n................\\n\\nפירוש\\nהדברים הוא, כי נטל כבד מוטל על הכלל מקום שמבקש הוא לשלול מן היחיד הנמצא ברשות\\nהרבים את זכותו ואת חופשו: לכפות על היחיד הנמצא ברשות הרבים מינהגות שמקורם בדת. \\n\\n27.    רשות\\nהיחיד מזה ורשות הרבים מזה. מה היא רשות היחיד ומה היא רשות הרבים לעניינם של חופש\\nהדת והחופש מדת? ביתו של אדם הוא לכל הדעות רשות היחיד. ביתו של האדם הוא מיבצרו.\\nואולם דומה כי ניתן - אף ראוי - להרחיב לעניינים מסויימים את רשות היחיד גם מעבר\\nלארבעה הכתלים ולחצר. וכך אמנם  נעשה בזהירות-יתירה. הנה היא שכונה של\\nשומרי-מיצוות, ובינות לבתים סימטאות, מישעולים ורחובות צרים וצדדיים. זר לא יהלך\\nבהם, והם לשימושם של המתגוררים במקום. לא יהא זה מרחיק לכת אם נאמר כי בנושא של\\nחילול השבת בפרהסיה, גם אותם חללים בין הבתים, וסביבם, רשות היחיד הם, רשות היחיד\\nשל שומרי-המיצוות.\" \\n\\nובאותה רוח המשכתי ואמרתי דברים נוספים. \\n\\n22.         קיברו של אדם - הקבר והמצבה שעליו - הם גם רשות\\nהיחיד גם רשות הרבים. כל נפטר ורשות היחיד שלו; דל\"ת האמות הן שלו, והוא\\nומשפחתו עושים בשלהם. כך, למשל, בביתם - ובעוד הנפטר בין החיים - דיברו הנפטר\\nומשפחתו ביניהם בלשון-עם-זר (רוסית, גרמנית, אנגלית, אמהרית), כתבו לעז (רוסית,\\nגרמנית, אנגלית, אמהרית), וניהלו את חייהם - כרובנו - על-פי הלוח הגריגוריאני.\\nהאדם ושפתו - שפה על-פה, שפת-הכתב, שפת-לוח-השנה - היו לאחדים. בני המשפחה הקרובה\\nלא הכירו את הנפטר אלא באותה שפה ובלוח-לעז - כך שוחחו ביניהם כל העת, כך גם כתבו\\nאיש אל-רעהו - ועתה מבקשים הם לזכור אותו כפי שהיה. מבקשים הם להמשיך ולשוחח עם\\nהיקר להם בשפתו, מבקשים הם לצייר אותו נגד עיניהם כפי שהיה, מבקשים הם לקרוא על\\nהמצבה את שמו כפי שהורגלו, את יום לידתו כפי שהוא עצמו נהג לכותבו. שמו של הנפטר\\nכי ייכתב אך בעברית; ימי הלידה והפטירה אם ייחרטו רק לפי הלוח העברי; תעלה ותגבה\\nמחיצה נפשית בין המשפחה לבין הנפטר, והנפטר ירחק מקרוביו. הדבר הוא אמוציונאלי -\\nאפשר בלתי רציונאלי? אכן כן. אך גם עליה לקבר היא מעשה אמוציונאלי. ובכל-זאת לא\\nנמנע מאֵם ששכלה את בנה לחבק את המצבה הדוממת והקרה. לא תהא זו אלא התנשאות יהירה\\nופאטרנליזם כופֶה אם נאמר לאותה אם שכולה כי שומה עליה ללמוד עברית - שהרי בארץ\\nהעברים היא - וכי אם תעשה כמצוּוֶה עליה תוכל לקרוא את שמו של בנה בשפתה (החדשה)\\n \\nואת ימי הולדתו ופטירתו על-פי הלוח העברי. \\n\\n             זו רשות היחיד. \\n\\n             אך בית עלמין הוא גם רשות הרבים, שהרי\\nהמצבות-שעל-הקברים ניצבות חשופות וגלויות, שורות-שורות, אלו-בצד-אלו, והמהלך יהלך\\nביניהן לרצונו. בית עלמין מדמה עצמו במובנים מסויימים לבית משותף - לחצר משותפת, \\nלבתי-מגורים הסמוכים אלה-אל-אלה - בהבדל חשוב זה, ששכנות בין החיים תמיד תבוא\\nלקיצה בעוד אשר שכנות בבית עלמין היא שכנות לעולם (אם תרצו: עד תחיית המתים).\\nשָכֵן, ראוי לו שינהג כראוי לשכן טוב. ושכן טוב לא יעשה מעשים שיפגעו בשכנו. כך,\\nלמשל, לא ייחרט צלב על קבר ישראל, שצלב עלול לפגוע - מעבר לסיבולת הראויה - בכבוד\\nהשכן המת ובריגשות בני משפחתו. כשם ששכן טוב לא יקים רעש גדול ולא יפיץ ריחות רעים\\nאל-סביבותיו, כן לא ייעשה בבית עלמין. ואולם נפלא ממני מדוע כתיבת שמו של נפטר\\nבאותיות קיריליות - אותן אותיות שידע, אותה שפה שחי בה - תפגע בשכנו. וכי בחייו לא\\nשמע אותו שכן את השפה המדוברת של האותיות הקיריליות? ומדוע ייפגע לאחר-מות? כך\\nבשפה וכך בציון ימי הלידה והפטירה לפי הלוח הגריגוריאני. וכי אותו שכן לא ניהג את\\nחייו לפי הלוח הגריגוריאני? וגם אם הוא עצמו לא ניהג את חייו כך,  האם לא ניהגו\\nקרוביו, ידידיו והאנשים שסביבו את חייהם לפי הלוח הגריגוריאני? אכן, גם לנפטר\\nולבני משפחתו גם לשכן ולבני משפחתו - לאלה ולאלה, לכל כת לעצמה - אינטרס לגיטימי,\\nאלא שאין שקילות בין כבודו של הנפטר שלפנינו וכבודם של קרוביו לבין כבוד השכן\\nהנפטר (ההיפותטי) וכבודם של קרוביו. כבודו של הנפטר שלפנינו - כבודו-שלו וכבודה של\\nמשפחתו - מכריעים את הכף. האיסור שאסרה חברה קדישא על המערערת, עובר - ובאורח ניכר\\n- את המידתיות שהיא מותרת בה. \\n\\n23.         חברה קדישא הסבה את תשומת ליבנו לפרשת \\nבורגמן\\n\\nנ\\' \\nחברה קדישא גחש\"א ראשון-לציון\\n אשר הוכרעה בבית-המשפט המחוזי\\nבפסק-דינו של השופט ד\"ר ג\\' קלינג (ה\"פ 752/94; לא פורסם). גם באותו\\nעניין סירבה החברה קדישא (אותה חברה קדישא שלפנינו) להתיר כיתוב על מצבה\\nשלא-בעברית וציון מועדי לידה ופטירה שלא על-פי הלוח העברי בלבד. בני המשפחה טענו\\nכי ניהלו את חייהם \"לפי מנין השנים הכללי, ואנו מורגלים בשימוש בו, ואיננו\\nמצויים ולא מבינים כלל את הלוח העברי, וחלק ניכר מבני משפחתנו גם לא קורא ולא דובר\\nעברית ...\". יתר על כן, כך טען הבעל-האלמן: \"כפי שאני מבין ומכיר את\\nרצון רעייתי ז\"ל - היא היתה מעדיפה שעל מצבתה יירשם שמה בשפת האם שלה ושתאריך\\nהולדתה ופטירתה יירשם בספרות לפי הלוח הכללי, בנוסף, כמובן, לכיתוב העברי\".\\nועוד טען הבעל: \"אני מדגיש, כי אין אני שולל את הכיתוב העברי - וכל שאני מבקש\\nהוא לאפשר לי לציין, בנוסף לו, גם את תאריכי הולדתה ופטירתה של רעייתי ז\"ל\\nלפי הלוח הכללי, וכן את שמה באותיות קיריליות.\"\\n\\n             על אף הילכת \\nקסטנבאום\\n לא נעתר\\nבית-המשפט למבקשים, וקיים את סירובה של החברה קדישא. בית-המשפט סבר כי יש לאבחן את\\nהילכת \\nקסטנבאום\\n, ואת הכרעתו בדין תמך במספר טעמים. העיקרי שבאותם טעמים היה\\nזה, שבפרשת \\nקסטנבאום\\n החזיקה החברה קדישא במעין-מונופולין, בעוד אשר לעניינה\\nשל המשיבה לפניו (החברה קדישא בראשון-לציון) יכולה היתה משפחת המנוחה לפנות לחברה\\nקדישא אחרת, זולת המשיבה, בערים סמוכות לראשון-לציון. אשר-על-כן: \"משעומדת\\nלמבקשים הברירה, שלא עמדה בפני המבקש בענין \\nקסטנבאום\\n, ומשהמשיבה אינה נהנית\\nמאותו מעמד בלעדי שהיה לחברה קדישא בענין \\nקסטנבאום\\n, בענייננו אין חובה לילך\\nבעקבות אשר נאמר שם.\" \\n\\n             אמת נכון הדבר: הנשיא שמגר אמר בפרשת \\nקסטנבאום\\n\\n(שם, 477, 484), כי החברה קדישא באותו עניין קברה למעלה מחמישים אחוז מהנפטרים\\nבירושלים, אך זאת קבע רק לעניין חלותו של חוק החוזים האחידים (וגם כך לא היה זה\\nאלא אחד משלושה נימוקים). אשר למישנה לנשיא, השופט אלון, בחוות-דעתו מאבחן הוא\\nבמפורש את עניינו של \\nקסטנבאום\\n מפרשת \\nגדעון\\n, באומרו כי בעניין שלפניו\\nקיימות חלופות לקבורה וכי \\nאין\\n מדובר במונופולין (פרשת \\nקסטנבאום\\n,\\nלעיל, שם, 490, 496, 504-503, 507, 510). בין כך ובין אחרת, אין בדברים אלה כדי\\nלגרוע כהוא-זה מן הטעמים האחרים שביסוד פסק-הדין: כך לעניין תקנת הציבור וכך\\nלעניין חלותם של עיקרי המשפט הציבורי. יתר-על-כן: פסק דינו של בית-המשפט ב\\nפרשת\\nקסטנבאום\\n מייסד עצמו - בראש ובראשונה - על תקנת הציבור ועל חלותו של המשפט\\nהציבורי על גופים דו-מהותיים, וצימצום ההלכה למצב של מעין-מונופולין אינו במקומו. \\n\\n             ואולם גם אחרת: וכי לחברה קדישא בראשון-לציון\\nאין מונופולין על הקבורה בראשון-לציון? ומנין זכותה הציבורית והמוסרית לשלוח את\\nאנשי ראשון-לציון לקבור את מתיהם בערים אחרות? והרי כך יכול היה לעשות גם\\nבית-המשפט בפרשת \\nקסטנבאום\\n, לאמור, לשלוח את המערער לקבור את אישתו בבית\\nקברות אחר (או בחלקה אחרת באותו בית קברות, חלקה אותה מנהלת חברה קדישא אחרת). \\n\\n             בית-המשפט בפרשת \\nבורגמן\\n מוסיף וקובע כי\\nבפרשת \\nקסטנבאום\\n ראו שופטי הרוב \"להעדיף בנסיבות ... את זכותם של\\nהמבקשים, שרצו במצבה שתדבר אל ליבם בשפה המובנת להם ושעליה תאריך המובן להם.\"\\nעל כך אומר בית-המשפט:\\n\\n\"אין\\nמקום כי אהרהר אחרי דעתם של שופטי הרוב בענין קסטנבאום. אך אעיר, שספק בעיני אם\\nאדם החי בישראל יכול להישמע בטענה שאין הוא יודע טיבו של הלוח העברי או כי אינו\\nקורא עברית. חלק ניכר מחייו של כל הגר בישראל הוא על פי הלוח העברי. על פיו נקבעים\\nמועדי ישראל ויום העצמאות. מועדים אלה הינם ימי מנוחה על פי סעיף 18א\\' לפקודת סדרי\\nהשלטון והמשפט תש\"ח1948-, ומכך נגזרות נורמות משפטיות רבות ומהן אף ענשיות.\\nלא יישמע אדם בטענה שבגלל אמונתו, או העדר אמונתו, אינו יודע מתי חלים מועדים אלה,\\nכי מנוכר הוא ללוח העברי. לא ניתן להטיל ספק בכך שללוח העברי משמעות והשלכה על כל\\nהחי במדינה, והוא אחד ממאפייניה של המדינה כמדינה יהודית. \\n\\nכך\\nגם כל החי בישראל, או הבא לבקר בה, מקבל על עצמו את המפגש עם השפה העברית. כך\\nמקובל במדינות רבות שבהן שמות רחובות ותמרורים נכתבים רק בשפת המקום. כך הוא דרכו\\nשל עולם שבכל מדינה ומדינה נהוגים לשונה וכתבה, והבא בשעריה חייב להסכין לכך. אם\\nלצורך תנועה ועשייה במדינה כך, לא יהא משום הכבדה יתירה על אותם קרובים של המנוחה,\\nשיבואו ממדינות הים להשתטח על קברה, אם לא ייתקלו בכיתוב באותיות קיריליות. אם אכן\\nיבואו לעלות לקבר המנוחה, יהיו להם קרובים שבישראל לעיניים. לכן, לטעמי, מלכתחילה\\nאין פגיעתם של קרובי המנוח, שמצבתו תעוצב בעברית בלבד, קשה ומכבידה, כזו של קרובי\\nנפטרים, החיים באמונתם, והמבקרים את קברי קרוביהם ושעיניהם נתקלות שלא לרצונם\\nבכיתוב באותיות זרות.\"\\n\\nהבאתי את הדברים במלואם ואומַר כי אתקשה להסכים להם. תשובתי\\nלבית-המשפט תימצא בדבריי למעלה. \\n\\nהערת-שוליים (שלא-לעניין אך לעניין)\\n\\n24.         בבוא יומי, ומשתוצב מצבה על קיברי, אבקש כי\\nייחרטו עליה יום לידתי ויום פטירתי כדבר הלוח העברי. כך נולדתי. כך אלך. כך\\nאֶזָּכֵר. זה רצוני וכך אצווה את ילדיי. ואולם לא אעז ולא יעלה על דעתי לעצור את\\nידו של מי שיבקש לחרוט על קבר אביו את יום הלידה ואת יום הפטירה לפי הלוח הכללי.\\nכשם שאבקש כי יכבדו את רצוני כן אורה את עצמי לכבד את זולתי.  \\n\\nסוף\\n\\n25.         כללם של דברים: מטעמים שביארתי ופירטתי\\nבאריכות, אציע לחבריי כי נקבל את הערעור, נבטל את פסק דינו של בית-המשפט המחוזי,\\nונצהיר כי המערערת זכאית לחרוט על מצבת אמה המנוחה את ימי לידתה ופטירתה בספרות\\nעל-פי הלוח הכללי (הגריגוריאני). עוד אציע לחבריי כי נחייב את המשיבה לשאת בהוצאות\\nהיתירות שהמערערת תעמוד בהן בשל כך שהחריטה הנוספת באה באיחור. במקרה של\\nחילוקי-דעות יכריע בית-משפט קמא בנושא הוצאות אלו. בנוסף לכך תישא המשיבה בהוצאות\\nהמערערת ובשכר-טירחת עורך-דין בסכום כולל של 50,000 ש\"ח. \\n\\nאחר הדברים האלה\\n\\n26.         קראתי בהנאה מרובה את חוות-דעתו של חברי השופט\\nאנגלרד, וכעוצמת ההנאה כן עוצמת אי-ההסכמה לדבריו. תשובתי לחברי תימצא בדברים\\nשכתבתי ועתה לא אמרתי אלא להעיר הערות מיספר. \\n\\n             חברי אומר כי המחלוקת בין בעלי-הדין, ביסודה,\\nאין היא אלא מחלוקת אידיאולוגית, ואילו אנו, השופטים, נגררים אנו אחריה\\nבעל-כורחנו. על כך אומר שני אלה: ראשית לכל, מצידה של העותרת, למיצער, לא נמצא לי\\nכי המחלוקת מחלוקת אידיאולוגית היא. נהפוך הוא: המחלוקת היא אישית-אינטימית - הלוח\\nהעברי אינו מדבר כלל אל ליבם של קרובי המנוחה - ובבואם של הקרובים אל בית הקברות\\nמבקשים הם להתייחד עם מי שהכירו ולא עם מי שלא הכירו. שנית, גם לו היתה זו מחלוקת\\nאידיאולוגית שנתגלעה בין בעלי-הדין, שומה היה עלינו לפותרה, שלכך הושַבנו על כס\\nהשיפוט. המחוקק ציווה אותנו והורנו: אמור אשר תאמר, אך אמור. ראו, למשל: דנ\"א\\n7015/94 \\nהיועץ המשפטי לממשלה\\n נ\\' \\nפלונית\\n, פ\"ד נ(1)48, 88. \\n\\n             דבר שני: חילוקי-הדעות שנתגלעו בין בעלי-הדין\\nהינם, לאמיתם, חילוקי-דעות בין רצונו וכבודו של הפרט - העותרת שלפנינו - לבין\\nההלכה שהמרא דאתרא הורה את החברה קדישא. ואולם סברתו של המרא דאתרא אינה מחייבת\\nאלא מי שהם שומרי-מיצוות או במקום שחוק המדינה מלַווה אותה בחיוב על-פי דין. שומה\\nעלינו לזכור כי מדינת ישראל אין היא מדינת-הלכה. מדינת-חוק היא. ישראל היא\\nדימוקרטיה ושולט בה החוק - הוא שלטון החוק (פרשת \\nמיטראל\\n, לעיל, 500).\\nשיקולינו ייסובו את הפרט, את האדם, את רצונו, את טובתו, את רווחתו - והכל על-פי\\nחוק המדינה. על דרך העיקרון נאמר, כי הלוך-דעתנו יהיה אנתרופוצנטרי ולא תיאוצנטרי.\\nמכאן שחילוקי-הדעות אליבא דידנו הם חילוקי-דעות בין אדם לאדם ולא בין אדם להלכה.\\nועל חילוקי-דעות אלה עמדנו בחוות-דעתנו. \\n\\n             שלישית: אין זה מדוייק לומר כי אומרים אנו\\nלכפות על החברה קדישא מעשה שהיא אסורה בו. החברה קדישא היא המבקשת לכפות על\\nהעותרת, וכפיה זו אנו אוסרים. \\n\\n             ולבסוף: חוק הקבורה החלופית אפשר יחולל שינוי\\nבנוהגי הקבורה בארץ, לרבות בנוהגי הקבורה שבבתי העלמין של החברות קדישא למיניהן;\\nאפשר יחולל שינוי ואפשר לא יחולל שינוי. ימים יגידו, ומה לנו שנקדים נבואה למעשה.\\nואולם, גם אם יבוא שינוי במינהגותיהם של אנשים - ושינוי של-ממש, אם יבוא, לא יבוא\\nאלא בעוד שנים - רובא-דרובא של הציבור ילך אל חברות קדישא: חברות קדישא הן שתטפלנה\\nבנפטרים והן שתביאנה אותם לקבר ישראל בחלקות קרקע שבהחזקתן. כל שנשתנה הוא, שחוק\\nהקבורה החלופית קבע חריג לכלל, והוא בקיומה של \"קבורה אזרחית חלופית\".\\nקבורה כסדר ובמהלך הדברים הרגיל היא בבית עלמין רגיל של חברה קדישא; ואילו בית\\nעלמין שאינו בית עלמין רגיל של חברת קדישא, אין הוא אלא \"בית עלמין אזרחי\\nחלופי\". הנפטרים שווים הם אמנם איש לרעהו, אך הקבורה בבית קברות\\n\"חלופי\" אין היא קבורה \"מן-המנין\"; קבורה \"חלופית\"\\nהיא. לא עוד, אלא שהמבקש להיקבר בבית עלמין \"חלופי\" מוטל עליו נטל כי\\nיבקש על-כך, שאם לא ביקש, ייטמן - מעשה-שיגרה - בבית קברות של חברה קדישא. \\n\\n             יש מי שיבקשו להיקבר באורח \"אזרחי\\nחלופי\", ואולם דומני שלא אטעה אם אומר כי אלה אין הם אלא מיעוט מן הכלל.\\nלמיצער, בימינו-שלנו. בני-אדם מן-הישוב לא ייצאו מדרכם ולא יבקשו להיטמן בבית\\nעלמין אזרחי חלופי. בקשתם (מכללא) תהא להיטמן במקום בו נטמנו אבותיהם,\\nאבות-אבותיהם ובני משפחתם שהלכו לעולמם; כשם שהיו בחייהם יחדיו כן יבקשו להיות יחד\\nלאחר מותם. \\n\\n             והשואל ישאל: אם אלה פני הדברים, מה זכותה של\\nחברה קדישא - זכות ציבורית, זכות מוסרית, זכות מכל מין וסוג שהם  - לכפות את דעתו\\nשל המרא דאתרא על בית-ישראל כולו? בחייו של אדם אין המרא דאתרא בן-סמכות אלא כלפי\\nהבאים לשאול בעצתו. מדוע יינתן כוח כה רב בידיו - שלא על-פי חוק מפורש - להחליט על\\nדרך קבורתו של אדם? השאלה שאלה והתשובה בה. \\n\\n             הנוטל על עצמו נטל ציבורי ולמען הציבור, יוסיף\\nויידע כי לא יותַר לכפות את רצונו על הציבור אלא על-פי הסמכה בחוק; וגם חוק יכוף\\nראשו לפני חוק-יסוד. חברה קדישא נושאת במיגבלות הרגילות שכל רשות ציבור נושאת בהן.\\nהמרא דאתרא - באשר הוא - אין הוא נעלה על כל רשות ציבור אחרת, וכמותו של המרא\\nדאתרא כן הן החלטותיו, שאין הוא רשאי לכפותן על הציבור אם פוגעות הן בעיקרי-יסוד\\nשל חיינו. לא בשמיים היא.      \\n\\n            ש\\nו פ ט \\n\\nהשופט י\\' אנגלרד:\\n\\n1.           חז\"ל ידעו את פשר האסון: לא חרבה ירושלים\\nאלא שהעמידו דיניהם על דין תורה ולא עבדו לפנים משורת הדין (בבלי בבא מציעא ל:);\\nאקמצא ובר קמצא חרוב ירושלים (גיטין, נה:-נו.); מקדש שני שהיו עוסקים בתורה ובמצות\\nובגמילות חסדים מפני מה חרב? מפני שנאת חינם שהיתה ביניהם (יומא ט). והא בהא תליא:\\n\"דלפנים משורת הדין הוא פשרה ומתוך שהייתה אצלם שנאת חינם לא רצו לכנוס לפשרה\\nהבעלי דינים\" (עץ יוסף, \\nעין יעקב\\n, בבא מציעא ל). החובה לנהוג לפנים\\nמשורת הדין היא חובתם המוסרית של היחידים. כפי שמסביר המהרש\"א על אתר:\\n\"אמר לשני בעלי דינין שכל אחד מהם יתרצה בו לפנים משורת הדין שהדבר תלוי בהם;\\nדהדיין לא יעשה לפנים משורת הדין בעל כרחם וק\"ל\". (עיין להלכה שו\"ע\\nחו\"מ, סימן יב, סעיף ב, בהגהות הרמ\"א ובנושאי הכלים). לא פעם פונה בית\\nהמשפט לבעל דין כי יעביר על מידותיו, אך אם הלה אינו נענה לו, אין לשופט אלא שורת\\nהדין. גם בסוגיה שלפנינו, שאינה חדשה, פנו בתי המשפט בעבר אל בעלי הדין בבקשה כי\\nינהגו בסובלנות.       \\n\\n2.           אך צרתנו בעת הזאת היא כפולה ומכופלת: בניגוד\\nלחכמינו ז\"ל, אין כיום בינינו הסכמה לא על הדין ולא על לפנים משורת הדין. \\nאמנם, הכל מודים כי יש לנהוג בסובלנות תוך כדי עשיית וויתורים - אך כל זאת אצל בעל\\nהדין האחר, כי הלוא הוא אשר מחמיר על כל קוצו של יוד, הוא המדקדק בקטנות, הוא אשר\\nנוהג במידה של יקוב הדין את ההר. אני? אצלי מדובר בפגיעה אנושה בעקרונות יסוד,\\nבזכויות יסוד, בעקרונות המשפט הציבורי, בכבוד האדם, בתקנת הציבור, בתיקון העולם,\\nברגש ובתחושות, בחירות האישית, ברשות היחיד. אתה! היאך אתה מעז פנים? מעשיך שלך,\\nהם התנשאות יהירה ופאטרנליזם כופה; רגישותך? רגישותו של היהודי החריג והיוצא דופן.\\n\\n3.           אלה הם הביטויים המלווים את המחלוקת בענייננו.\\nועל שום מה היא המחלוקת החריפה הזאת? על טיב תאריכי הלידה והפטירה החרותים על מצבת\\nהמת השוכב על משכבו בבית עולמו, ואין לו מנוחה נכונה. והשופטים נגררים למחלוקת זו,\\nשביסודה אינה אלא מחלוקת אידיאולוגית. ובידוע, כי הכרעה משפטית, אין בכוחה לפתור\\nאת המחלוקת האידיאולוגית הקשה המתנהלת בתוככי הציבור היהודי על מהות היהדות ועל\\nיחסי דת ומדינה בישראל, המדינה היהודית הדמוקרטית. חקיקת התאריך על המצבה, אינה\\nאלא היבט אחד של מחלוקת זו. לכן, אין על חברי השופט מ\\' חשין לתמוה כי אומתנו\\nמעסיקה עצמה בקדחתנות בנושא חריטה על מצבת-קבר ולא תאמר הרף - כי במחלוקות מעין\\nאלה אין הרף, ואין הלכה צלולה ואין הליכה במסילה, ואין דרך כבושה. כי דור דור\\nודורשיו!   \\n\\n4.           כפי שאראה בהמשך דברי, בית משפט זה הכריע בעבר\\nבמחלוקות דומות על פי דרך האיזון של עקרונות יסוד, תוך כדי ניסיון להחיל מבחן של\\nסבירות על רגשותיהם ההדדיים של בעלי הדין. אומר מיד, כי לטעמי בהקשר של אמונות ודעות\\nאין כלל אפשרות למדוד את רגשותיהם של בני אדם על פי מבחן אובייקטיבי של סבירות.\\nלפנינו תחום השקפתי המתרכז סביב סמלים, שמידת מרכזיותם בחיי האנשים אינה יכולה\\nלהימדד לפי קנה מידה חיצוני של סבירות. כל קביעה בדבר מידת הסבירות של סמל כלשהו\\nתהיה בהכרח ביטוי לסולם ערכים סובייקטיבי. יתרה מזו, מעמדו של סמל מסוים בחברה\\nנתונה אינו בהכרח קבוע לאורך זמן. הוא עשוי להשתנות על-פי ההקשרים החברתיים\\nוהמדיניים, כפי שהם מעת לעת. לעתים קרובות, הקנאות לשמירת סמל כלשהו, אינה אלא\\nתגובה לקנאותם של בעלי השקפה נוגדת המבקשים להרסו. טול, לדוגמה, את מצוות קידוש\\nהשם במסורת היהדות. הכלל הגדול הוא כי \"כל עבירות שבתורה אם אומרין לאדם\\n\\'עבור ואל תהרג\\' יעבור ואל יהרג חוץ מעבודה זרה וגילוי עריות ושפיכות דמים\",\\nאך הגמרא ממשיכה: \"לא שנו אלא שלא בשעת השמד, אבל בשעת השמד אפילו מצוה קלה\\nיהרג ואל יעבור....אפילו שלא בשעת השמד לא אמרו אלא בצינעה אבל בפרהסיא - אפילו\\nמצוה קלה יהרג ואל יעבור....מאי מצוה קלה - אמר רבא בר רב יצחק אמר רב: אפילו\\nלשנויי ערקתא דמסאנא [אפילו לשנות את רצועת הסנדל] - (סנהדרין, עד); ראה\\nרמב\"ם, הלכות יסודי התורה, פ\"ה, ה\"ב-ד.\\n\\nכך אפשר כי גם התאריך החקוק על מצבה ייהפך בעיניו של אדם\\nלרצועת הסנדל, עליה מוכן הוא למסור את נפשו....    \\n\\n5.           אבחן תחילה את דרכו של בית משפט זה במחלוקת על\\nחקיקת התאריך במצבות בבתי עלמין יהודיים. בפרשת \\nגדעון\\n (ע\"א 280/71 \\nגדעון\\nנ\\' חברה קדישא גחש\"א\\n, פ\"ד כז(1) 10)\\n \\nשנדונה לפני למעלה מחצי\\nיובל שנים, כינה השופט מ\\' עציוני את הסוגיה \"מלחמת יהודים\", שסיבתה,\\nלדעתו, ב\"סירובה העקשני\" של החברה קדישא להרשות לבנו היחיד של המנוח\\nלהוסיף לתאריך העברי גם את תאריך לידתו ופטירתו על פי הלוח הכללי. בחוות דעתו,\\nאליה הצטרף גם השופט ח\\' ברנזון, השופט עציוני קובע לגבי עמדתה של החברה קדישא את\\nהדברים הבאים:                                    \\n\\nיש\\nבגזירה זו משום פגיעה חמורה בזכות הטבעית,  האלמנטרית והמוכרת של כל אדם בישראל\\nלנהל את חייו על-פי  הלוח הכללי, אותו לוח שעל-פיו, למעשה - לפי החוק שלנו -\\nנקבעות זכויותינו המשפטיות. בפקודת הפרשנות (נוסח חדש) נקבע במפורש כי\\n\"שנה\" ו\"חודש\" - למנין הלוח הגרגוריאני, וכי \"שנת\\nהכספים\" היא שנים-עשר החדשים המסתיימים בשלושים ואחד במרס של כל שנה, (סעיף 1\\nלפקודה). אדם חי כל ימי חייו לפי לוח זה; בתעודות הלידה והפטירה מצויין תמיד\\nהתאריך הכללי בנוסף לתאריך העברי; בתעודת הזהות מצויין תאריך הלידה הכללי; כל\\nהעסקות למיניהן, בין אם הן מתחום המשפט הפרטי ובין אם מתחום המשפט הציבורי -\\nהמסמכים המתייחסים אליהן נושאים גם תאריך כללי, שלא לדעת על קבצי החוקים והתקנות.\\nכפי שכבר נרמז לפני כן, גם בתעודותיה הרשמיות של הרבנות לא נפקד מקומו של התאריך\\nהלועזי. האם לזה לא ייקרא קיפוח? והרי אין זו אלא שלילה שרירותית של הזכות להשתמש\\nבלוח הכללי לציון תאריכי לידתו ופטירתו של אדם שכל מאורעות חייו סבבו על-פי לוח\\nזה! (\\nשם\\n, בעמ\\' 23).                   \\n\\nאמנם, במקרה זה, החברה קדישא פעלה בהסתמכה על חוות דעתו\\nההלכתית של הרב עובדיה יוסף, אשר פסק\\nכי:                                                                \\n\\n\"יש\\nלאסור בהחלט העמדת מצבה בתאריך לועזי, כי יש בזה איסור תורה, שנאמר: \"בשם\\nאלוהים אחרים לא תזכירו\", שעל-ידי המנין הלועזי עולה בזכרונו מחשבת מספר שנות\\nלידת הנוצרי\". (\\nשם\\n, בעמ\\' 19).                                       \\n\\nעל כך משיב השופט עציוני כי \"קשה להתייחס לחוות דעת זו\\nכאל סוף פסוק בעניין זה\", וזאת מן הנימוק הבא: \\n\\n---כפי\\nשהוכח, מופיעים תאריכים לועזיים בהרבה בתי-קברות בהנהלת חברה קדישא, ואסתפק בכך\\nשאצביע על בתי-העלמין ברחוב טרומפלדור בתל-אביב, בחיפה ובצפת. יתר על כן: גדולי\\nהתורה והאומה הקבורים בתפוצות הגולה, נקברו במקומות קבורה בהם בהם מקובל היה להקים\\nמצבות עם תאריכי לידה ופטירה כלליים. ואם לא די בכך, הרי המבקש בהר-הרצל בירושלים\\nבו טמונים נבחרי העם ויקירי ישראל, יווכח במו עיניו כי על מצבותיהם חקוקים גם\\nתאריכי לידתם ופטירתם על-פי הלוח הכללי. עם אלה נמנים: קבריהם של בני משפחת חוזה\\nהמדינה בנימין זאת הרצל, קבריהם של המנהיגים הציוניים וולפסון, סוקולוב, לוקר,\\nואחרים. (\\nשם\\n, שם).  \\n\\nומכאן מסקנתו של השופט\\nעציוני:                                                             \\n\\nברור\\nאיפוא, שהטענה כאילו ציון תאריכים כלליים בבתי-קברות יהודיים עלול לפגום בהלכה או\\nלפגוע ברגשותיהם הדתיים של יהודים, היא מחוסרת כל יסוד ומופרכת מעיקרה. (\\nשם\\n,\\nשם).\\n\\n6.           עד כאן הדברים של השופט עציוני לגבי מה שהוא\\nרואה כ\"דין תורה\", והנה דבריו באשר \"לפנים משורת\\nהדין\":                                                \\n\\nטוב\\nהיתה עושה המשיבה לו היתה נעתרת לפנייתו של המערער ומוותרת מרצונה היא על אותו\\nתנאי מגביל שאין לו הצדקה כלשהי. הנה-כי-כן סבורני ש\"מלחמת יהודים\" זו\\nהיתה מיותרת לחלוטין. לצערנו צפות מלחמות אלה ועולות לעתים קרובות בבית-המשפט,\\nויסודן בהשקפות עולם נוגדות בדבר המבנה הרצוי של חיינו הלאומיים ותכנם. אין כמובן\\nלאסור על מלחמות אלה כל עוד הן מתחוללות בקשר לדברים מהותיים ולא על קטנות של מה\\nבכך שברובן - טפלות לעיקר. אין אנו יחידים בעולם בשטח זה, וויכוחים בדומה לאלו הם\\nנחלת רבים וטובים (ראה, \\nB. Mitchell,\\n “Law, Morality and Religion in a Secular Society\\n”, p. 134\\n).\\n אך כאמור, מן הראוי\\nלהבחין תמיד בין העיקר לטפל, בין מה שהוא מן היסודות הסטרוקטורליים לבין היסודות\\nהאורנמנטליים גרידא. נראה לי שאם ברצוננו לשמור על ייחודנו ואחדותנו כעם, אין מנוס\\nמוויתור הדדי, עד כמה שאין הוא נוגע לדברים עקרוניים. המלחמה, אותה נלחמת המשיבה,\\nאינה מלחמה על עקרונות אלא על דברים צדדיים אשר מרבים ללא צורך ריב ומדון במדינה.\\n(\\nשם\\n, בעמ\\' 24). \\n\\n7.           יצוין, כי השופט א\\' ויתקון, בעל דעת המיעוט\\nבפרשת \\nגדעון\\n, הסתייג מגישה החלטית זו וכך הוא אומר:\\n\\nנראה\\nלי שכנגד המשיבה אין למערער פתחון-פה. היא מנהלת את עניניה ברוח השקפתה וקובעת מה\\nשנאה בעיניה לגבי המצבות שבבית-העלמין שבהנהלתה. אין נפקא מינה, אם נסכים או אם לא\\nנסכים להשקפה זו. לא בידינו להתווכח עמה, אם השקפתה מעוגנת בדין או בהלכה או ברוח\\nהדת היהודית בת זמננו. נכון הדבר, איסור הלוח הכללי אינו אחד מתרי\"ג המצוות,\\nוייתכן שהמשיבה מחמירה יתר-על-המידה. נכון גם שחוות-דעתו של כבוד הרב הראשי, הרב\\nעובדיה יוסף, שעליה מסתמכת המשיבה, אף היא נושאת תאריך לפי הלוח הכללי, ולא זו\\nבלבד שנהוג לציין תאריכים לפי לוח זה בכל מסמך רשמי וטקסי הנערך במדינת ישראל, אלא\\nשאף במסמכים היוצאים מתחת ידי הרבנות מוצאים אותו לעתים קרובות. כמו-כן נמצא שבעבר\\nהרשו חברות קדישא סימון תאריכים על קברים לפי הלוח הכללי, וכנראה לא ראו בכך פגיעה\\nברגשות יהודים דתיים. היום יש לפנינו עדות מטעם המשיבה, שברשות הרבים שהיא ממונה\\nעליה - והמדובר הוא ברשות הרבים ולא ברשות היחיד (ראה המ\\' 545/67 (ירושלים) \\nאורנן\\nנגד\\n \\nמינהל מקרקעי ישראל\\n, פי\"ם מחוזיים, כרך סז, ע\\' 284), יש לנהוג\\nמנהג אחד ואחיד, והוא לחקוק במצבות את תאריכי הלידה והפטירה לפי הלוח העברי בלבד.\\nבתחום רגשי זה, מי יגיד לנו, אם זוהי גישה \"סבירה\" אם לאו? (\\nשם\\n,\\nבעמ\\' 16-15).\\n\\n8.           בפרשת \\nקסטנבאום \\n(ע\"א 294/91 \\nחברה\\nקדישא גחש\"א \"קהילת ירושלים\" נ\\' קסטנבאום\\n, פ\"ד מו(2) 464),\\nחזר ועלה העניין\\n ו\\nשוב נחלקו דעות השופטים, וגם הפעם המחלוקת מצויה במידה\\nרבה במישור ההשקפתי. כלומר, לב הבעיה הוא: מהי הרגישות עליה יש להגן, על מי מוטל\\nלהיות סובלני ומי נושא בחובת הוויתור? אמנם לשם פתרון הבעיה, בית המשפט נזקק\\nלמוסדות משפט ולכלים מושגיים באמצעותם הוא מבקש להכריע בין הדרישות המנוגדות של\\nבעלי הדין; ואלה הם הכלים (בראשי פרקים): המשפט הציבורי הדוחה את דין החוזים\\nהכללי, תנאי מקפח בחוזה אחיד, כבוד האדם וחירותו, תקנת הציבור. אך, כלים אלה אינם\\nמצליחים לכסות על הבעיה ההשקפתית המונחת ביסוד המחלוקת.  \\n\\n9.           השאיפה של הנשיא מ\\' שמגר היא לאובייקטיביות,\\nויפה אומר הוא בחוות דעתו בפרשת \\nקסטנבאום\\n:\\n\\nככל\\nשהדבר מתייחס למהותיותה של הפגיעה, שהיא המחסום הלגיטימי לפריסת הכנפיים של החירות\\nהאישית, הרי מידתה - מבחינת החומרא או הקולא - נבחנת לפי המבחן של האדם הסביר מן\\nהשורה, היינו לפי אמת מידה אובייקטיבית ולא לפי תחושות ותגובות סובייקטיביות. (שם,\\nבעמ\\' 482).  \\n\\nוהנשיא מ\\' שמגר מפעיל את מבחנו ה\"אובייקטיבי\"\\nבדרך הבאה:\\n\\nאין\\nללמוד מן האמור לעיל, כי מקים המצבה רשאי לעשות ככל העולה על רוחו. יש מקום\\nלפיקוח, כדי שלא ייפגעו צורת בית הקברות ורגשותיהם של אחרים. אולם, כמוזכר כבר\\nבאופן כללי לעיל, הרי כאשר בוחנים פגיעותם של אחרים, מן הראוי לקבוע אמת-מידה\\nהמעוגנת בסבירות ובסובלנות ולא בקיצוניות. זכות היחיד לקבוע יד, אשר לידה יתייחד\\nעם יקירו, ולרשום עליה את החשוב בעיניו או שהיה לדעתו נראה חשוב בעיני הנפטר,\\nצריכה לסגת מפני רגישותו של אחר, \\nרק\\n אם ברור וגלוי כי מה שנרשם יעורר\\nהתנגדותו החריפה המוצדקת של אדם סביר. מציב המצבה ואדם אחר שפוקד קבר אחר בבית\\nהקברות ואינם ניצבים במישור אחד. המגמה צריכה להיות, כי אל לו לפרט האחד להיכנס\\nלתחום רעהו ולהתערב ללא צורך בעולמו וברגשותיו. חייב אדם להותיר בידי האחר את\\nהזכות ואת החירות לעשות כרוחו, על-פי רגשותיו ותחושותיו, והסובלנות מחייבת, שהאחד\\nלא יתערב בעניינו של האחר, שאינו צריך לנגוע לו, והוא, כאמור, כל עוד אין המדובר\\nבנתונים עמם גם האדם הסביר אינו יכול להשלים. בהקשר זה עולה במקרה דנן השאלה, אם\\nמה שמבוקש על-ידי המשיב איננו קיצוני מדיי וחריג מדיי לפי מהותו, עד שיש בו אכן\\nכדי לפגוע באופן מהותי ברגשותיהם של אחרים. תשובתי לכך היא שלילית. (\\nשם\\n,\\nשם). \\n\\n10          ברוח דומה ערך גם חברי השופט א\\' ברק את מאזן\\nהאינטרסים המנוגדים, כשבמרכז עניינה של החברה הקדישא מצוי, לדעתו, הערך החברתי של\\nבלעדיות הלשון העברית. לסברתו, המבחן ב\"מאזן הרגישויות\" הוא לא רגישות\\nמיוחדת ויוצאת דופן של אדם, אלא - כהגדרתו של השופט עציוני בפרשת \\nגדעון\\n -\\n\"דעתו ורגישותו של רוב או חלק ניכר מאותו הציבור ולא דעותיהם הקטביות של\\nאנשים הנמנים על מיעוט קיצוני בהשקפותיו\".(\\nשם\\n, בעמ\\' 502). חברי השופט\\nא\\' ברק מסיק לגבי נסיבות המקרה בפרשת \\nקסטנבאום\\n:\\n\\nהיתר\\nלכיתוב לא עברי (בצד הכיתוב העברי) אין בו פגיעה של ממש בכבוד האדם של אלה שכיתוב\\nזה אינו נראה להם. פגיעה כזו הינה פרי רגישות חריגה ויוצאת דופן. לעומת זאת, חיוב\\nלכיתוב עברי בלבד יש בו פגיעה של ממש בכבוד האדם של אלה שכיתוב זה אינו נראה להם.\\nפגיעה כזו היא פרי הרגישות הטבעית והרגילה של אדם הרגיש לכבוד האדם (שלו או של\\nזולתו). (\\nשם\\n, בעמ\\' 523[ו]).      \\n\\n11.         האם השוואה זו של רגישויות מושתתת היא על מבחן\\nאובייקטיבי? או שמא אין היא אלא ביטוי של השקפה סובייקטיבית? כבר המשנה לנשיא מ\\'\\nאלון, בדעת המיעוט שלו בפרשת \\nקסטנבאום,\\n העיר על כך:\\n\\nעל\\nשום מה יש בשלילת הכיתוב הלועזי משום \\nפגיעה קשה וממשית\\n בערך היסוד של \\nכבוד\\nהאדם\\n. לא ברור לי כל צורכו. ואשר לחלוקה שבדברי חברי בין מי שרגישותו היא\\nטבעית ורגילה לבין מי שרגישותו היא חריגה ויוצאת דופן, לדעתי - אם לנקוט הבחנה זו\\n- מסקנתי שונה היא משל חברי, כפי שעולה מדברים שכתבתי בפסק-דיני. קשה לי גם להשלים\\nעם כך שכל אלה שעל גבי מצבתם מצוי כיתוב עברי בלבד - והמה אלפי אלפים - כשעל מצבתו\\nשל אף אחד מהטמונים בחלקת בית-קברות זה לא מצוי כיתוב בלועזית, והם נהגו כך משום\\nשלדעתם, ולדעת משפחותיהם, זהו היקרא דשכבי והיקרא דחיי (כבוד המת וכבוד החיים) -\\nכל אלה אינם בבחינת \"האדם הרגיל\" אלא בעלי \"רגישות חריגה ויוצאת\\nדופן\". (\\nשם\\n, בעמ\\' 513[ו-ז]).\\n\\nוהמשנה\\nלנשיא מ\\' אלון מסיים את חוות דעתו במסקנה הבאה:\\n\\nבכיתוב\\nבלשון העברית ראתה ורואה החברה קדישא עקרון יסוד של מייסדיה, וערך-על של אלפי\\nהנפטרים, שמצאו מנוחתם כבוד בבית הקברות במשך למעלה מיובל שנים. עיקרון וערך זה\\nיפים ונכונים היו בשעתם ויפים ונכונים הם כיום, מאוזנים הם לפי שיקול הנורמות\\nהציבוריות שהיא מחויבת בהם, ותקפים הם לפי עקרונות המשפט הפרטי מכוח החוזה שנכרת\\nבינה לבין המבקש. כך הוא בעיניהם של ראשי החברה קדישא ומועצת בית העלמין, וכך הוא\\nלפי מיטב השיקולים המשפטיים, החברתיים, היהודיים והדמוקרטיים. אולם המבקש, בעלה של\\nהמנוחה, שאיני מטיל ספק בכנות משאלתו, יחזור ויהרהר, יחזור וישקול, ויוותר על\\nמשאלתו זו, לכבודם של כל אלה שמצאו מנוחת עולמים באתר קבורה זה מתוך ידיעה שהכיתוב\\nהעברי הוא הכיתוב הבלעדי על המצבות המוקמות בו, ולכבודו של בית הקברות, שיש לנהוג\\nבו בכובד ראש, לבל תיפתח תקופה חדשה, שבה יתנוססו על גבי המצבות המוקמות בו, אם\\nתיעתר בקשתו, כל לשונות הלעז שהביאו עמם הנפטרים בחייהם מארצות גלותם - אותיות\\nלאטיניות, קיריליות, סיניות, אמהריות ויפניות - ובית הקברות, על מצבותיו, יהפוך\\nלבליל לשונות ואותיות. ראוי ורצוי שערך-על זה של כיתוב בלשון העברית, שמקובל היה\\nעל כל הנפטרים בבית עלמין זה, ימשיך ויאחד את כל אלה שמצאו ושימצאו בו מנוחתם\\nכבוד. דומה שהיקרא דשכבי, היקרא דחיי והיקרא דישראל מחייב כי גם המבקש, מתוך\\nכיבודה וכבודה של רעיתו המנוחה, יקבל עליו באהבה וברצון \"עול\" זה של\\nלשונה ושפתה של המדינה היהודית. (\\nשם\\n, 516-515). \\n\\nוהנה לנו \"דין תורה\" ו\"לפנים משורת\\nהדין\", השונים תכלית שינוי מדעתו הנזכרת של השופט עציוני. \\n\\n12.         על רקע חילוקי דעות השקפתיים אלה, האם יש\\nלהתפלא כי גם בין שופטי בית המשפט המחוזי אין תמימות דעים? כך, למשל, גורס השופט\\nד\"ר ג\\' קלינג בפרשת \\nבורגמן\\n (ה\"פ 752/94 (ת\"א) \\nבורגמן\\nואח\\' נ\\' חברה קדישא גחש\"א ראשון לציון ואח\\'\\n (לא פורסם)) כי:\\n\\nמלכתחילה\\nאין פגיעתם של קרובי המנוח, שמצבתו תעוצב בעברית בלבד, קשה ומכבידה, כזו של קרובי\\nנפטרים, החיים באמונתם, והמבקרים את קברי קרוביהם ושעיניהם נתקלות שלא לרצונם\\nבכיתוב באותיות זרות.\\n\\nלעומתו, השופט א\\' גורן בפרשת \\nכגן\\n\\n(ה\"פ 1275/93 (ת\"א) \\nכגן ואח\\' נ\\' חברה קדישא גחש\"א ראשון\\nלציון\\n, (לא פורסם)) מגיע למסקנה כי:\\n\\nעם\\nכל הכבוד, לרבני העיר ראשון לציון, ודברי אלה נאמרים בכל הכנות והענווה, נראה לי\\nכי עתירות המבקשים אינן חורגות מן המקובל בבתי עלמין אחרים במדינה, ששם הרבנים\\nאינם כה מחמירים כפי שמחמירים רבני [חברה קדישא גחש\"א ראשון לציון]. \\n\\nלפני דברים אלה השופט גורן ציין כי התרשם מאד מדברי עדותו\\nשל הרב טרוביץ מטעם החברה קדישא, ואין לו ספק כי דבריו שיקפו את הכרתו ואת סבלו\\nהאמיתי שייגרם, אם אכן ייעתר בית המשפט לעתירות.    \\n\\n13.         כולם תמימי דעים כי יש סף של רגישות שאין\\nלחצותו כלפי ציבור שומרי תורה ומצוות. גם חברי השופט מ\\' חשין מכיר בגבול של רגישות\\nשאין לעברו; ולכן הוא אומר כי \"אחרת יכול שיהיה דין אם יבקש פלוני לחרוט על\\nמצבה, למשל, סמל של צלב\". ובהמשך \"--- לא יחרט צלב על קבר ישראל, שצלב\\nעלול לפגוע - מעבר לסיבולת הראויה - בכבוד השכן המת וברגישות בני משפחתו\".\\nשאלתי את עצמי האם אמנם זה מתפקידו של בית משפט לקבוע את הגבולות\\nה\"לגיטימיים\" של רגישותו של ציבור מאמינים בכלל, ושל ציבור שומרי תורה\\nמצוות, בפרט? יתרה מזו, תחימת תחומי הרגישות \"הסבירים\" מושתתת במידה\\nמכרעת על השקפה סובייקטיבית, כפי שמוכיחים חילוקי הדעות בין השופטים, בינם לבין\\nעצמם. \\n\\n14.         אשוב לפסיקתו של בית משפט זה. הן בפרשת \\nגדעון\\n הן\\nבפרשת \\nקסטנבאום\\n, ההנחה הייתה כי עניין חקיקת התאריך\\nלמניינם, אינה נוגדת את ההלכה היהודית. השופט עציוני לא היסס להסיק זאת על פי\\nפרשנותו שלו את ההלכה היהודית, תוך כדי דחייתו של פסק ההלכה שניתן על ידי הרב\\nעובדיה יוסף ואשר קבע כי יש בעניין איסור תורה. ההנחה בדבר היתר אפשרי על פי ההלכה\\nהדריכה גם את בית המשפט בפרשת \\nקסטנבאום.\\n מסקנה זו עולה\\nאף מחוות דעתו של המשנה לנשיא מ\\' אלון, המציין כי:\\n\\nעל\\nהדין הנ\"ל בשאלת הזכרת התאריך הלועזי, \\nוהנימוקים להיתר\\n, ראה שו\"ת\\nיביע אומר (לרב עובדיה יוסף), ח\"ג יו\"ד ט[ז], ושו\"ת ציץ אליעזר\\n(לרבי אליעזר ולדינברג), ח\"ט יד[ח] - שניהם מחשובי הפוסקים בימינו (\\nשם\\n,\\nבעמ\\' 489[ב], ההדגשה שלי, י\\'א\\').\\n\\nבכך לא דק פורתא, משום שלא הבחין בין כתיבת תאריך נוצרי\\nבאגרות חול ובהקשר מסחרי לבין חקיקתו על מצבת הנפטר בבית העלמין. והנה, בשו\"ת\\nציץ אליעזר מאת הרב אליעזר ולדינברג, ח\"ט, יד[ב], עליו מסתמך, לכאורה, השופט\\nאלון, המחבר קובע במפורש כי לגבי מצבה \"גובל זה יותר עם חילול השם\".\\n(דומה כי המשנה לנשיא מ\\' אלון התכוון לשו\"ת ציץ אליעזר, ח\"ח, ח[ח],\\nהעוסקת בעיקר בכתיבת תאריך אזרחי במכתבים; כי בתשובה בח\"ט, יד, אין בכלל סעיף\\nקטן ח. מכאן, כי הציטוט בחוות דעתו משובש). בניגוד להנחה שהדריכה את בית המשפט הזה\\nבשתי הפרשות הנזכרות, אין למצוא בפסקי ההלכה היתר לחקיקת תאריך נוצרי על המצבות.\\nכל הפוסקים, שנשאלו על כך, אסרו על חריטת תאריך נוצרי, כפי שפסק במקרה שלפנינו גם\\nהרב של ראשון לציון.          \\n\\n15.         כדי להבהיר את השאלה ההלכתית, אביא במלואה שת\\nתשובתו של הראשון לציון, הרב עובדיה יוסף, בשו\"ת \\nיביע אומר\\n,\\nחיו\"ד, סימן לב[ב]: \\n\\nובדבר\\nהשאלה אם מותר לחקוק במצבה שם הנפטר בלועזית ותאריך הפטירה בלועזית למספרם, הנה\\nבשו\"ת מהר\"ם שיק (חלק חו\"מ סי\\' נו) נשאל בזה במעשה שהיה באחד ששינה\\nממנהג המקום, והעמיד מצבה על קבר המת שהיה ממשפחתו, וחקק שם המת בכתב ולשון\\nהונגרי, וכתב, והנה רע עלי המעשה מכמה טעמים, האחד מפני שהבית עלמין הוא כחצר\\nהשותפין, והרי אפילו בדבר של חול אין אחד מהשותפים רשאי לשנות דבר מבלי הסכמת כל\\nהשותפים, וכרקי\"ל בחו\"מ (סי\\' קנד), וכ\"ש במנהג שנהגו אבותינו מדורי\\nדורות מימות עולם, שאפילו גבאי החברה קדישא אינם רשאים לשנות מבלי הסכמת המרא\\nדאתרא ורוב החברים, ואפילו אם משנים לכבודו של המת יש בזה ביזוי ופגיעה בכבוד מתים\\nאחרים, וכ\"ש אם הוא לגנאי שבודאי שאין לגרום דבר של גנאי לאותו המת, שמא הרהר\\nתשובה בלבו וכו\\', והכלל בזה מנהגם של ישראל תורה הוא ואסור לשנות דבר. ועוד שהבית\\nעלמין הוא מקום קדוש וטהור. וכמ\"ש האליה רבה (ס\"ס תקפא) בשם\\nמהרי\"ל. וצריכים לנהוג בו כבוד, וכמ\"ש ביו\"ר (ס\\' שס\"ח) שאסור\\nלנהוג שם קלות ראש, ואין אוכלים ושותים שם, ואין לטייל שם לקפנדריא וכו\\', ואף\\nהחברה המתעסקת בנפטרים נקראת חברה קדישא, כי ההוא עלמא הוא עלמא דקשוט, כלומר עולם\\nהאמת, ונקרא עולם ברור העליונים למעלה והתחתונים למטה, כמ\"ש בב\"ב (י:).\\nולכן המנהג בכל תפוצות ישראל שעל המצבה חוקקים אך ורק בלשון הקודש, לשון שנברא בו\\nהעולם, וניתנה בו התורה, וכל כתבי הקודש. ובו היה דיבורו של השי\"ת לכל נביאי\\nישראל וכו\\', והחוקק על מצבת הנפטר בשאר לשונות, הרי הוא גורם גנאי למת, ומעיד שכל\\nעניניו הם במה ששייך לעלמא דשקרא, ועוד יש חשש בזה משום חקות העכו\"ם להתדמות\\nאליהם וכו\\', ולכן על החברה קדישא לעמוד על המשמר ושלא להרשות שום שינוי ממנהג\\nישראל הקדושים. עכת\"ד. גם בשו\"ת שערי צדק (חיו\"ד סי\\' קצט) נשאל\\nבזה, והשיב, הדבר פשוט וברור שאיסור גדול יש בשינוי מנהגי ישראל מימי עולם שנהגו לחקוק\\nבמצבות אך ורק בלשון הקודש שם הנפטר ותואריו, והמשנה לחקוק בכתיבת עכו\"ם הרי\\nהוא בכלל לא תקים לך מצבה אשר שנא ה\\' אלהיך, שמצבה כזאת היא שנואה להשי\"ת,\\nדהויא בכלל אבזרייהו דעכו\"ם ותועבה היא. והרי מנהג ישראל להתפלל אצל קברות\\nהמתים בעד החיים, וכדאיתא בתענית (טז.) ובש\"ע ס\"ס תקפא). וכן אמרו\\nבזוה\"ק (פר\\' שמות), שאלמלא תפלת המתים על החיים לא יתקיימו אפילו חצי יום.\\nוע\"ע להב\"ח יו\"ד (ס\"ס ריז), ואם יעשו איסור גדול זה על מצבת\\nהקבר של המת, באיזה פנים יעמוד להתפלל על החיים, אשר על ידו נגרם בזיון כזה ללשון\\nהקודש שניתנה בו התורה וכו\\', ולכן אין ספק שיש איסור גדול וחמור מאד לעשות כן,\\nובשום אופן אין להרשות לכתוב על המצבה אלא בלשון הקודש וכמנהג כל ישראל. וכבר\\nראיתי להגאון מהר\"ש קלוגר שאסר לעשות כן איסור עולם. עכת\"ד. וכן העלה\\nבשו\"ת פרי השדה ח\"א (סימן ג) ובספרו דודאי השדה (סי\\' יט). ע\"ש.\\nוהנה המהר\"ם שיק (בחיו\"ד סי\\' קעא) אחר שכתב לאסור שינוי הלשון, מלשון\\nהקודש ללשון לועזית, כתב עוד, אך מה שהוסיפו לכתוב מספר השנים לפי מספרם בלעז,\\nזוהי עבירה כפולה ומכופלת, שלדעתי יש בזה איסור דאורייתא, שנא\\' ושם אלהים אחרים לא\\nתזכירו, והמונה לפי מספרם הוא עובר על איסור זה, שע\"י המנין עולה בזכרונו\\nמחשבה של לידת הנוצרי יש\"ו, דזיל בתר טעמא וכו\\', ולכן אם אפשר להסיר ולהשליך\\nאת המצבה ההיא הנה מה טוב, ואם אי אפשר, לפחות יש להטיח על המצבה טיט או גבס הדבוק\\nמאוד על הכתב, כדי שלא ישאר זכר מכתיבת לשון לועזית, וממספר השנים של אוה\"ע, ע\"ש.\\nוהנה גם המהר\"ם בן חביב בגט פשוט (סי\\' קכז סוף סק\"ל) הזהיר שלא להשתמש\\nאפי\\' באגרות חול בתאריך הנוצרים, ואין לכתוב אלא התאריך לבריאת עולם, ושלא כמו\\nשנהגו איזה אנשים היושבים בארץ לועז למנות באגרותיהם כמנין הנוצרים בשמות החודשים\\nובמנין השנים, ואין נכון לעשות כן. ע\"ש. וע\"ע בשו\"ת פרי השדה\\nח\"א (סוף סי\\' ג) שהביא בשם ספר אמרי יושר מהגאון רבי מאיר א\"ש\\nזצ\"ל, שכתב תשובה בענין זה, והעלה במסקנתו, שלא לכתוב על המצבה אלא רק בלשון\\nהקודש ומספר השנים כמו שאנו מונים תמיד לבריאת עולם, ואין לשנות כלל. ע\"ש.\\n(וכ\"כ עוד בקיצור נמרץ בשו\"ת דודאי השדה סי\\' יט). ואע\"פ שבספרי\\nשו\"ת יביע אומר ח\"ג (חיו\"ד סי\\' ט) העלתי להקל מן הדין בכתיבת מספר\\nהשנים למנינם באגרות חול, כי באמת אין מספרם שייך ללידת יש\"ו הנוצרי,\\nוכמ\"ש ג\"כ הרשב\"ץ בס\\' קשת ומגן (דף יא ע\"א) להוכיח במישור\\nשמנין הנוצרים אינו תואם המציאות ללידת יש\"ו. ע\"ש. וכ\"כ בספר כל בו\\nגרינואלד ח\"ב (עמוד קמז), ושאף החתם סופר שהזהיר על זה בתורת משה, מפני שאז\\nחשב שמספר זה יש לו שייכות ללידת משיחם יש\"ו, אשר באמת אין לזה שום שייכות\\nכלל, וכמ\"ש באוצר ישראל, לכן גם הוא חזר מזה, וכתב בתשובותיו כמה פעמים\\nלמספרם. וכן נהגו מהר\"י יוזפא והגאון רעק\"א וכו\\'. ע\"ש. וכן ראיתי\\nעוד להגאון הצדיק רבי יושע פריינד בשו\"ת מאור יושע, שהביא דברי המהר\"ם\\nשיק שהחמיר בזה, וכתב לחלוק עליו מכמה טעמים, שאם כן ביטלת כל המשא ומתן במסחר\\nובבנקים שבדורינו, שבכל השטרות והשיקים רגילים לכתוב למנינם, וכמעט מן הנמנע להזהר\\nבזה וכו\\', והובא בדברי הרב השואל בספר אז נדברו (חלק יב סי\\' לח). ע\"ש. והנה\\nרב אחד חשב להשיג על דברינו שבתשובת יביע אומר הנ\"ל, ורב אחאי גאון\\nמהרא\"י ולדינברג בשו\"ת ציץ אליעזר חלק ט (סי\\' יד אות ג) דחה דבריו\\nלנכון. ע\"ש. גם לאחר מכן ראיתי בשו\"ת באר משה (חלק ח\\' סי\\' יח) שכ\\' להשיג\\nעל דברינו. ע\"ש. אולם אין דבריו מחוורים כלל. ואכמ\"ל. \\nומכל מקום מודה\\nאני שבמצבות של בית עלמין יש להקפיד על כך, ולא לכתוב אלא המנין שאנו מונים לבריאת\\nעולם. ואין לשנות כלל מן המנהג שנהגו בו בכל תפוצות ישראל. שהמצבה היא עדות להשארת\\nהנפש, וכמ\"ש מהר\"ש ויטל בשער המצות (פר\\' ויחי) ובשו\"ת חיים שאל\\nח\"א (סי\\' עא אות ו). ואין הנפש מכרת אלא במנין שהוא אמתי, והמטבע הנכון בעולם\\nהאמת. וכ\"כ גם בשו\"ת ציץ אליעזר חלק ט\\' (סי\\' יד אות ב) לחלק בזה בין\\nכתיבת אגרות חול לחקיקה שעל מצבות בית עלמין. ע\"ש. ולכן תחזקנה ידי החברה\\nקדישא שעומדת על המשמר שלא לשנות ממסורת ישראל מדורי דורות, ויהי כן ה\\' עמהם לחזק\\nכל בדק, ולהגדיל תורה ולהאדירה. \\n[ההדגשה שלי, י\\'א\\']\\n\\n16.         ברי, כי אין כל מקום שבית משפט זה יניח הנחה\\nשונה בדבר תוכנה של ההלכה, מאשר זו שנפסקה על ידי הראשון לציון ועל ידי המרא דאתרא\\nשל ראשון לציון. נמצא, כי השאלה המתעוררת כאן שונה בנקודה מרכזית מזו שהוכרעה על\\nידי בית משפט זה בפרשות הקודמות. כעת, עלינו להכריע, האם נכריח את החברה קדישא\\nלהתיר מעשה חקיקה במצבה, האסורה על פי פסיקת ההלכה של המרא דאתרא, פסיקה על פיה\\nהחברה חייבת לנהוג בהתאם לרשיון שלה. שאלה זו לא עמדה בפני בית המשפט הזה בפרשות\\nהקודמות, משום שאלה יצאו מן ההנחה (המוטעית) כי אין איסור הלכתי בדבר. נמצא כי\\nכעת, מול רגישות המערערים עומדת רגישותם של שומרי תורה ומצוות הנשמעים לפסק ההלכה.\\nיצוין, כי העובדה שחברות קדישא שונות נוהגות אחרת וכי בדפוסים ישנים או חדשים וכן\\nבמכתבים מופיע התאריך הכללי - עובדה זו אינה מעלה ואינה מורידה. עקרון גדול בהלכה\\nהוא כי הציבור מחויב על ידי פסק ההלכה היוצא מפי המרא דאתרא, כאן הרב של ראשון\\nלציון. דבר זה נקבע, כאמור, גם במפורש ברשיון החברה. כפי שעולה מן המקורות, יש\\nלפסק ההלכה הזה גם על מה לסמוך.\\n\\n17.         כאמור, לטעמי, אין על בית המשפט למדוד\\nרגישויות, שאינן ניתנות למדידה אובייקטיבית. חברי השופט מ\\' חשין בא בטרוניה לחברה\\nקדישא על שעשתה את עצמה אפוטרופא על מי שנקברו בראשון לציון, מבלי ששמענו את\\nקרוביהם של אותם נפטרים. האם חברי מטיל ספק בכך כי יימצאו יהודים רבים וטובים,\\nיראי שמיים, אשר יחפצו בכל לבם כי החברה קדישא תנהג על פי מצוות רב העיר ואשר\\nיאמינו כי יש יסוד לאיסור הדתי כמפורט בפסק ההלכה של הראשון לציון ?! האם זו השערה\\nפורחת? אתמהה!  \\n\\n18.         השאלה הגדולה הניצבת לפנינו כעת היא היחס בין\\nעקרון חופש הדת של החברה קדישא ושל שומרי תורה ומצוות מבין קרובי הנפטרים - מחד\\nגיסא, לבין עקרון החירות של קרובי הנפטר לנהוג על פי השקפת עולמם - מאידך גיסא.\\nוהכל בגדרי בית הקברות שהוא לכל הדעות מקום קדוש על פי דיני ישראל (אם כי לא\\nבמסגרת דבר המלך במועצה על ארץ-ישראל (המקומות הקדושים), 1924). רחוק אני מלזלזל\\nלא בערכים וברגישות של אלה ולא בערכים וברגישות של אלה. צדיק באמונתו יחיה! לטעמי,\\nאין לנו שום רשות לדרג, על פי סולם ערכים שהוא בהכרח אישי, את מעמדן הערכי או\\nהרגשי של הדרישות המנוגדות. בעיני היהודי שומר תורה ומצוות, עבירה על איסור הלכתי\\nעשויה להיות חמורה כחקיקת צלב ממש; ומניעת חקיקת תאריך כללי היא בעיני המערערים\\nפגיעה חמורה בערכי יסוד שלהם. כאמור, המאבק האמיתי חורג מגדרי בית הקברות; מאחורי\\nהמחלוקת עומדים כוחות הנלחמים על דמותן של היהדות ושל מדינת ישראל. זוהי המציאות\\nהעומדת לפני בית משפט זה שאין להתעלם ממנה.\\n\\n19.         אמרתי כי הכרעה שיפוטית אינה יכולה, ואף אינה\\nצריכה להתיימר, להכריע במחלוקת השקפתית. טוב ויפה היה לו בעלי הדין היו מגיעים\\nלידי הסכמה הדדית, מבלי להפוך את הסכסוך למחלוקת אידיאולוגית עקרונית שתביא בסופו\\nשל עניין לשסעים נוספים בחברה המפולגת בלאו הכי. טוב ויפה היה לו שוכני עפר\\nהיהודיים היו נחים במדינה היהודית על משכבם בצוותא ללא ריב וללא מדון בין החיים.\\nאך דבר זה לא בידינו הוא. חוק הזכות לקבורה אזרחית חלופית, התשנ\"ו1996-,\\nמצביע על דרך העתיד בה בחר המחוקק: המתים ייפרדו זה מזה, כל אחד ייקבר על פי\\nהשקפתו בה דגל בחייו עלי אדמות. ההסדר החדש מביא פתרון לבעייתם של אחדים, אך\\nחוששני כי הוא ייצור בעיות חדשות לאחרים. \\n\\n20.         מה אם כן הפתרון המשפטי במקרה הנדון? שני\\nהעקרונות הנזכרים - חופש הדת של החברה קדישא וחירותם של קרובי הנפטר - הם חשובים.\\nדא עקא, בהעדר הסכמה בין בעלי הדין, עיקרון אחד חייב לסגת מפני העיקרון האחר. זוהי\\nבעיית הצדק האמיתית: מצב שבו, לצערנו, אין להשיג את שמירתם של כל האינטרסים\\nהלגיטימיים, אלא יש הכרח להעדיף את האחד על פני האחר. רבים וטובים מדברים בהקשר זה\\nעל איזון בין אינטרסים מנוגדים. איני משוכנע כי דימוי זה מתאר נכונה את ההליך\\nהשיפוטי שבו אנו חייבים, בסופו של יום, לדחות זכות אחת מעל פני זכות אחרת. יהא דבר\\nזה אשר יהא, אני בדעה כי בסוגיה הנדונה זכותם של קרובי הנפטר לעצב את המצבה לפי\\nהשקפתם, חייבת לסגת מפני זכותה של החברה קדישא לנהוג על פי פסק ההלכה של המרא\\nדאתרא. וכל כך למה?  החברה היא כפי ששמה מעיד עליה, קדושה, דהיינו, מוסד בעל תפקיד\\nדתי שכינויו הוא במסורת היהודית: גמילות חסד של אמת. על החברה לנהוג על פי ההלכה\\nהיהודית כפי שנפסקת על ידי המרא דאתרא; כך הוא מקידמת דנא, וכך נאמר בתנאי הרשיון,\\nוכך כתוב במסמכים, וכך הייתה ציפייתם של רבים מבין מתי העיר, וכך דורשים רבים מבין\\nקרובי הנפטרים.          \\n\\n21.         לדעתי, אין בית משפט זה מוסמך, עקרונית, לכפות\\nעל גוף דתי - יהא הוא ציבורי או פרטי - לנהוג בניגוד לדין הדתי על פיו הוא אמון.\\nכי הרי בכפייה מעין זאת, יש משום פגיעה חמורה בעקרון חופש הדת. פגיעה זו מותרת אך\\nורק על פי גזירה מפורשת של המחוקק, כגון המקרה שבו יש במעשה הגוף הדתי משום עבירה\\nעל פי דיני העונשין; או המקרה שבו אוסר המחוקק מטעמים חשובים, בדרך אחרת, על הגוף\\nהדתי לנהוג על פי מצוות דתו. בהעדר הוראה מפורשת, אין לכפות על אדם להפר את מצוות\\nהדת, קלה כחמורה. זאת ועוד אחרת, בהקשר הנדון, אין בית משפט זה רשאי להרהר אחר\\nנכונותה של ההלכה שנפסקה על ידי המוסד המוסמך על פי הדין הדתי. אין בית המשפט פוסק\\nהלכה דתית, והשקפתו האישית של השופט על טיב האמונה ועל טיב פסק ההלכה - דהיינו:\\nהאם הם עקביים או תואמים את רוח הזמן - השקפה זו אינה רלוונטית, כפי שציין, בצדק,\\nהשופט א\\' ויתקון בפרשת \\nגדעון\\n. אם יש בפסק ההלכה משום פגיעה בהשקפותיהם של\\nאנשים הנזקקים לשירותיו של הגוף הדתי, מן הראוי למצוא לכך פתרון משביע רצון. אך\\nהכפייה על אדם להפר את מצוות הדת אינה יכולה להיות הפתרון הנכון במדינה דמוקרטית,\\nהמכבדת את עקרון חופש הדת. הבעייתיות שבפתרון הכפייה בולטת במיוחד, כאשר בית המשפט\\nנוטל על עצמו את המשימה להעריך את חשיבותה של מצווה דתית כלשהי, ואת מידת הפגיעה\\nשיש בהפרתה ברגשות הציבור הדתי.   \\n\\n             לכן, אם דעתי תישמע, על בית משפט זה להימנע\\nמלכפות על החברה קדישא להפר את פסק ההלכה של הרב המקומי המוסמך. אי-לכך, יש לדחות\\nאת הערעור.\\n\\nש\\nו פ ט \\n\\nהנשיא א\\' ברק:\\n\\n             מצטרף אני לפסק דינו של חברי, השופט מ\\' חשין.\\nהתוצאה אליה הגיע, והנמקתו לתוצאה זו, מקובלים עלי. מבקש אני להעיר מספר הערות.\\n\\n1.           בית המשפט המחוזי איבחן את פרשת \\nקסטנבאום\\n\\n(ע\"א 294/91 \\nחברת קדישא גחש\"א \"קהילת ירושלים\" נ\\' קסטנבאום\\n,\\nפ\"ד מו(2) 464). על פי גישתו, הלכות הפסק אינה חלה לאור חוק הזכות לקבורה\\nאזרחית חלופית, תשנ\"ו1996- (להלן - חוק הקבורה החלופית). כפי שציין חברי,\\nהשופט מ\\' חשין, אין בחוק זה כדי להשפיע על הרציונל של פרשת \\nקסטנבאום\\n. חובתה\\nשל חברה קדישא - כ\"גוף דו-מהותי\" - לא השתנתה עם חקיקתו של חוק הקבורה\\nהחלופית. חוק זה לא יצר איזון חדש בין השיקולים והערכים המתנגשים. מכיוון שכך,\\nאיני צריך לנקוט עמדה בשאלה, אם במישור החוקתי חוק הקבורה החלופית מסוגל היה, אילו\\nביקש זאת, לשנות מהאיזון הראוי בין הערך בדבר הלשון העברית, לבין כבוד האדם, חופש\\nהמצפון, המחשבה והביטוי, והערך בדבר סובלנות. ספק בעיני, אם איסור מפורש על כיתוב\\nלועזי - איסור הפוגע בכבוד האדם של הנפטר ומשפחתו - היה בו כדי לקיים את דרישותיה\\nשל פסקת ההגבלה. כאמור, אין לנו צורך להכריע בשאלה זו, ונוכל להשאירה בצריך עיון.\\nעל כל פנים, במישור הפרשני - אותו מישור בו מבקשים אנו להתרחק ככל האפשר מפירוש\\nהעשוי להעמיד הוראה בסכנה של אי-חוקתיות - מתבקשת המסקנה - אליה הגיע חברי, השופט\\nמ\\' חשין - כי האיזון הראוי בין הערך הציבורי של הלשון העברית לבין כבוד האדם (של\\nהנפטר וקרוביו), כפי שנקבע בפרשת \\nקסטנבאום\\n, עומד בעינו.\\n\\n2.           חברי, השופט אנגלרד, הכניס לתוך מעגל הערכים\\nהדורשים הכרעה, את הערך (והחרות) בדבר חופש הדת. ענין זה לא נדון בפרשת \\nקסטנבאום\\n.\\nההנחה בפרשה זו היתה כי \"התקנה של חברה קדישא \\'קהילת ירושלים\\' שלא להרשות\\nכיתוב לועזי אינה מטעמים של איסור הלכתי\" (המשנה לנשיא, השופט אלון בפרשת \\nקסטנבאום\\n,\\nעמ\\' 499). חברי, השופט אנגלרד מציין כי יש לאיסור הכתוב בלועזית היבט הלכתי שנעלם\\nמעינו של המשנה לנשיא, השופט אלון. היבט זה ענינו חובתם הדתית של אנשי חברה קדישא\\nושל ייראי שמים בראשון לציון לקיים את מצוותו של ה\"מרא דאתרא\". בענין זה\\nלא נשמעו בפנינו טיעונים. הנני מניח, לצורך פסק הדין, כי הלכתו של המרא דאתרא\\nיוצרת חיוב דתי המוטל על אנשי חברה קדישא ועל אנשים דתיים המשתייכים לקהלו של המרא\\nדאתרא. איזו השפעה יש לנתון חדש זה?\\n\\n3.           בפרשת \\nקסטנבאום\\n קבענו כי חברה קדישא -\\nכל חברה קדישא - הינה \"גוף דו-מהותי\". מוטלות עליה, בצד החובות של המשפט\\nהפרטי, גם החובות של המשפט הציבורי. במסגרת זו על חברה קדישא לפעול בהגינות\\nובסבירות. עליה לפעול כנאמן הציבור. אסור לה לשקול שיקולים זרים. אסור לה להפלות.\\nעליה להגשים את התכלית המונחת ביסוד מעמדה הציבורי. תכלית זו כוללת, בין השאר את הערכים\\nוהעקרונות, אשר עליה להגשים בביצוע תפקידים לטובת כל הקהל כולו, ולא רק לטובת\\nהאנשים הדתיים. כאשר ערכים ועקרונות אלה מתנגשים, עליה לפעול באופן המגשים את\\nהתכלית המשקפת את האיזון הראוי בין הערכים והעקרונות המתנגשים. מהם ערכים ועקרונות\\nאלה, וכיצד נערכת ההתנגשות ביניהם?\\n\\n4.           בפרשת \\nקסטנבאום\\n קבע בית המשפט - וענין\\nזה מקובל היה על כל שופטי ההרכב - כי הערכים והעקרונות הבאים לידי התנגשות הם אלה:\\n\\nמחד גיסא\\n, הערך בדבר הלשון העברית. \\nמאידך גיסא\\n, הערך של כבוד האדם.\\nבית המשפט איזן בין ערכים ועקרונות מתנגשים אלה. הוא קבע, בדעת רוב, כי ידו של\\nהערך בדבר כבוד האדם על העליונה. וכך כתבתי:\\n\\n\"רשות\\nשלטונית בישראל נעדרת את הכוח לפגוע פגיעה ממשית וקשה בכבוד האדם על-מנת לקדם את\\nהערך בדבר השפה העברית. בהתנגשות זו בין השיקולים של לשון עברית וכבוד האדם יד\\nהערך בדבר כבוד האדם על העליונה. אכן, רשות שלטונית בישראל, העוסקת במתן שירותי\\nקבורה ליהודים, רשאית לקחת בחשבון שיקוליה את הצורך לשמר ולקדם את הלשון העברית.\\nהיא רשאית לעשות כן גם אם יש בכך פגיעה ממשית וקשה בפרטים בעלי רגישות מיוחדת\\nוקיצונית. היא אינה רשאית לפגוע פגיעה ממשית וקשה בכבוד האדם של הפרט \\'הרגיל\\'\\nוה\\'ממוצע\\' בישראל. מסקנה זו מתבקשת ממקומו המרכזי של הערך בדבר כבוד האדם\\nבישראל\" (פרשת \\nקסטנבאום\\n, עמ\\' 523).\\n\\nעד כאן פרשת \\nקסטנבאום\\n. עתה בא חברי, השופט אנגלרד,\\nומאיר את עינינו, כי בפרשה שלפנינו יש להתחשב בנתון נוסף. נתון זה הינו פסק ההלכה\\nשל המרא דאתרא של ראשון לציון. כיצד משתנה התמונה הנורמטיבית בשל הוספת\\n\"נתון\" זה?\\n\\n5.           פסק ההלכה של המרא דאתרא מוסיף, כמובן,\\nמורכבות למצב שכשלעצמו אינו פשוט. חברי, השופט אנגלרד קובע, כי עלינו להוסיף\\nלתמונה הכוללת את \"חופש הדת של החברה קדישא ושל שומרי תורה ומצוות מבין קרובי\\nהנפטרים\" (פסקה 18 לפסק דינו). כשלעצמי ספק בעיני אם הפגיעה היא בחופש הדת.\\nאיש אינו מחייב את אנשי חברה קדישא לחרוט על המצבה  כיתוב שאינו בעברית. ממילא הם\\nלא יפעלו בניגוד להוראת המרא דאתרא בענין זה. הכיתוב נעשה על ידי אנשי מקצוע ולא\\nעל ידי אנשי חברה קדישא. בדומה, איש אינו מעלה על דעתו כי על מצבתו של נפטר שומר\\nמצוות יחרט כיתוב שאינו בעברית, בניגוד להסכמתו או הסכמת קרוביו. הכיתוב הלא עברי\\nנעשה רק על מצבה של נפטר, במקום שהוא (בחייו) או קרוביו (לאחר מותו) מבקשים זאת.\\nעל כן נראה לי כי חופש הדת אינו נפגע. עם זאת, מקובל עלי כי גם אם אין קיימת פגיעה\\nבחופש הדת, קיימת פגיעה ברגשות הדת של אנשי חברה קדישא ושל שומרי תורה ומצוות מבין\\nקרובי הנפטרים. עמדתי על הבחנה זו בפרשת \\nחורב\\n (בג\"ץ 5016/96 \\nחורב\\nנ\\' שר התחבורה\\n, פ\"ד נא(4) 1, 58) בצייני:\\n\\n\"חילול\\nהשבת ברחוב בר-אילן פוגע ברגשותיהם [של בני האוכלוסיה הדתית המתגוררת בסמיכות\\nלרחוב בר-אילן]; התנועה בשבת ברחוב בר-אילן פוגעת באורח חייהם. מבחינתם שלהם\\nהפגיעה היא קשה ומרה. זהו האינטרס המונח על הכף האחת. יודגש: איני סבור כי נסיעה\\nבשבת ברחוב בר-אילן פוגעת בזכות החוקתית של כל אחד מבני השכונה לחופש דת. חופשיים\\nבני השכונה לקיים את מצוות הדת. תנועת המכוניות בשבת אינה שוללת מהם חופש זה,\\nואינה פוגעת בו... עם זאת, תנועת המכוניות בשבת פוגעת ברגשות הדתיים של בני השכונה\\nובאורח חייהם הדתי\".\\n\\nניתן כמובן לטעון כי הוראת המרא דאתרא הינה להסיר כיתוב\\nשאינו בעברית. במקרה זה, אם מונעים משומר תורה ומצוות - הרואה עצמו כפוף להוראתו\\nשל המרא דאתרא - הסרת הכיתוב, יש בכך משום פגיעה בחופש הדת שלו. אכן, ברוח זו\\nמשקיף חברי, השופט אנגלרד, על המקרה שלפנינו. הוא שואל: \"האם נכריח את חברה\\nקדישא להתיר מעשה חקיקה במצבה, האסור על פסיקת ההלכה של המרא דאתרא\" (פסקה\\n16). כפי שציינתי, ענין זה לא הובהר כלל בפנינו. עם זאת, בהמשך אניח כי ענין לנו\\nבערך (ובחירות) שענינה חופש הדת, וזאת בשל אי קיום הוראתו של המרא דאתרא.\\n\\n6.           הנה כי כן, בפרשת \\nקסטנבאום\\n הועמד על\\nהכף האחת של מאזני הצדק הערך בדבר שימור הלשון העברית, ועל הכף השניה הערך\\n(והחירות) בדבר כבוד האדם. עתה עלינו להוסיף בכף האחת, בצד שימור הלשון העברית, גם\\nאת הערך (והחירות) בדבר חופש הדת, אשר בעיני אינו אלא היבט של כבוד האדם (ראו\\nבג\"ץ 3261/93 \\nמנינג נ\\' שר המשפטים\\n, פ\"ד מז(3) 282, 286). במקביל\\nיש להוסיף, בכף השניה, היבט נוסף של פגיעה בכבוד האדם, היא הפגיעה המתרחשת כאשר\\nפוגעים בכבודו של האדם מטעמים של דת. אכן, בעיני, חופש מדת אף הוא היבט של כבוד\\nהאדם. הנה כי כן, כנגד חופש הדת של האחד עומד החופש של השני לפעול על פי\\nהאוטונומיה של הרצון הפרטי. זהו החופש של הפרט שלא לראות עצמו מחוייב באיסור דתי\\nשהוא אינו מאמין בו. זהו החופש של הפרט לנהל את דרכו - בחייו ובמותו - על פי\\nהשקפתו. אכן, ככל שהשיקול התומך בכיתוב עברי בלבד נע משיקולים של לשון לשיקול של\\nחופש דת, כך נע השיקול הנגדי משיקול של חופש הרצון לשיקול של מניעת כפיה דתית.\\nדומה, כי חברי השופט אנגלרד זנח בפסק דינו לחלוטין את השיקול של השפה העברית. כך\\nהוא מציין את הדילמה בפרשה שלפנינו:\\n\\nהשאלה\\nהגדולה הניצבת לפנינו כעת היא היחס בין עקרון חופש הדת של החברה קדישא ושל שומרי\\nתורה ומצוות מבין קרובי הנפטרים - מחד גיסא, לבין עקרון החירות של קרובי הנפטר\\nלנהוג על פי השקפת עולמם - מאידך גיסא.\"\\n\\nבמסגרת זו שוב לא ממלא השיקול של השפה העברית כל תפקיד.\\nאכן, אם השיקול נגד כיתוב זה הוא ציווי דתי, הרי מי שמבקש לקיים כיתוב זה נאלץ\\nלהמנע מכך מכוח כפיה דתית. לפנינו איפוא מצב של ערכים מתנגשים. חופש הדת מתנגש עם\\nהחופש מדת. התנגשות זו נערכת בתוך גדרי המושגיות של כבוד האדם עצמו. כיצד פותר בית\\nהמשפט התנגשות זו?   \\n\\n7.           התשובה שניתנה לשאלה זו מאז קום המדינה היתה\\nכי על בית המשפט להעמיד את השיקולים הנוגדים על מאזני המשפט. עליו לאזן בין הערכים\\nוהעקרונות המתנגשים. עליו להכריע באיזון על פי משקלם של השיקולים הנוגדים בנקודת\\nההכרעה. כך נהג בית משפט זה מיום הקמתו עד עצם היום הזה. זוהי \"תורת האיזון\\n(ה-\\nbalancing\\n) הנוהגת במשפט הציבורי שלנו\" (פרשת \\nחורב\\n,\\nעמ\\' 37). למיטב ידיעתי, רק במקרה אחד סרב בית משפט זה (בדעת רוב) להיזקק לתורת\\nהאיזונים. היה זה כאשר על כפות המאזניים הונח עצם קיומה של המדינה (ע\"ב 1/65 \\nירדור\\nנ\\' יושב-ראש ועדת הבחירות המרכזית לכנסת השישית\\n, פ\"ד יט(3) 365). כאשר\\nנתבקשנו להחיל גישה זו על דבר אופיה של המדינה כמדינה דמוקרטית, סרבנו לכך (ראה\\nע\"ב  2/84 \\nניימן נ\\' יושב-ראש ועדת הבחירות המרכזית לכנסת האחת-עשרה\\n,\\nפ\"ד לט(2) 225). אכן, מאז קום המדינה עוסקים אנו באיזון בין ערכים ואינטרסים\\nנוגדים. זהו \"תהליך של העמדת ערכים מתחרים שונים על כפות המאזניים של בחירתם\\nלאחר שקילה, של אלה אשר, לאור הנסיבות, ידם על העליונה\" (השופט אגרנט\\nבבג\"ץ 73/53 \\nחברת \"קול העם\" בע\"מ נ\\' שר הפנים\\n,\\nפ\"ד ז 871, 879). כחוט השני עוברת בתפישתנו החוקתית והיוריספרודנטלית התפישה,\\nכי:\\n\\n\"בחייה\\nהמאורגנים של החברה אין \\'הכל או לא כלום\\'. יש \\'תן וקח\\', ואיזון בין האינטרסים\\nהשונים\" (בג\"ץ 148/79 \\nסער נ\\' שר הפנים והמשטרה\\n, פ\"ד לד(2)\\n169, 178).\\n\\nביסוד תפישה זו עומדת ההכרה כי הערכים והעקרונות -\\nוהחירויות הנגזרות מהם - אינם בעלי אופי מוחלט. לערכים, לעקרונות ולחירויות אין\\nמשקל \"מוחלט\". משקלם הוא תמיד יחסי. מעמדם נקבע ביחס לערכים, עקרונות\\nוחירויות אחרים עימם הם עשויים להתנגש (ע\"א 105/92 \\nראם מהנדסים קבלנים\\nבע\"מ נ\\' עיריית נצרת עילית\\n, פ\"ד מז(5) 189, 205).\\n\\n8.           תורת האיזון הוחלה על ידי בית משפט זה במקום\\nשאחד הערכים או העקרונות היה קשור בחופש הדת או הרגשות דתיים (ראו: פרשת \\nחורב\\n\\nעמ\\' 38). כך, למשל, בכל מקרה בו התנגשו רגשות הדת בחופש הביטוי, ערכנו איזון בין\\nהערכים המתנגשים (בג\"ץ 351/72 \\nקינן נ\\' המועצה לביקורת סרטים ומחזות\\n,\\nפ\"ד כו(2) 811; בג\"ץ 806/88 \\nיוניברסל סיטי סטודיוס אינק נ\\' המועצה\\nלביקורת סרטים ומחזות\\n, פ\"ד מג(2) 22). בדומה, כאשר הערך בדבר רגשות הדת\\n(בשמירת השבת) התנגש באינטרס הציבור (באספקה סדירה של דלק, או בהגשמת חופש\\nהתנועה), נערך על ידינו איזון בין הערכים המתנגשים (ראו: ע\"פ 217/68 \\nיזרמאקס\\nבע\"מ נ\\' מדינת ישראל\\n, פ\"ד כב(2) 343, 364; \\nפרשת חורב\\n). אכן,\\nרגשות הדת וחופש הדת הם ערכים וחירויות בעלי חשיבות רבה. עם זאת, אין הם ערכים או\\nחירויות מוחלטים. תמיד יש לערוך איזון בינם לבין הערכים והחירויות המתנגשים בהם (\\nפרשת\\nחורב\\n, עמ\\' 38). עמד על כך השופט זמיר, בציינו:\\n\\n\"הרגשות\\nהדתיים אינם זוכים להגנה מוחלטת. אין חוק המקנה הגנה מוחלטת לזכות כלשהי או לערך\\nכלשהו. הזכויות והערכים, יהיו אשר יהיו, הינם יחסיים. מכאן, בהכרח, שגם ההגנה\\nעליהם היא יחסית. כך גם ההגנה על הרגשות הדתיים\" (בג\"ץ 7128/96 \\nתנועת\\nנאמני הר הבית נ\\' ממשלת ישראל\\n, פ\"ד נא(2) 509, 521).\\n\\nובפרשה אחרת ציינתי:\\n\\n\"חופש\\nהמצפון, האמונה, הדת והפולחן, עד כמה שהוא מוצא מכוח האמונה אל פועל המעשה, אינו\\nחופש מוחלט... חופש המצפון, האמונה, הדת והפולחן הוא חופש יחסי. יש לאזן בינו,\\nלבין זכויות ואינטרסים הראויים אף הם להגנה\" (בג\"ץ 292/83 \\nנאמני הר\\nהבית, עמותה, נ\\' מפקד משטרת מרחב ירושלים\\n, פ\"ד לח(2) 449, 455).\\n\\nבגישה זו נקט המשנה לנשיא, השופט אלון, כאשר איזן בין\\nדרישות סותרות באשר לסדרי התפילה ברחבת הכותל המערבי (בג\"ץ 257/89 \\nהופמן\\nנ\\' הממונה על הכותל המערבי\\n, פ\"ד מח(2) 265, 274). בגישה דומה נקט השופט\\nטל בפרשת \\nחורב\\n.\\n\\n9.           על רקע זה נבחן את האיזון הראוי במקרה לפנינו.\\nככל הנוגע לאיזון בין הערך בדבר הלשון העברית והערך בדבר כבוד האדם, אין לי אלא\\nלחזור על האמור בפסק הדין בפרשת \\nקסטנבאום\\n. לא נותר לי אלא לבחון אם מסקנה\\nזו משתנה לאור הערכים והעקרונות החדשים הבאים בחשבון בעקבות עמדתו של חברי, השופט\\nאנגלרד. \\nמחד גיסא\\n מונח הערך (או החירות) בדבר חופש הדת כהיבט של כבוד האדם;\\n\\nמאידך גיסא\\n מונח הערך (או החירות) בדבר חופש מדת שאף הוא היבט של כבוד\\nהאדם. כיצד ייעשה האיזון במקרה זה? הניתן לאזן בין ערכים ועקרונות המתנגשים בגדריה\\nשל חירות אחת? התשובה היא בחיוב. לא פעם איזנו בין היבטים שונים של חירות אחת. כך\\nעשינו, למשל, כאשר חופש הביטוי - שלשיטתי נגזר מכבוד האדם - מתנגש עם רגשות דת -\\nשאף הוא נגזר מכבוד האדם (ראו בג\"ץ 243/81 \\nחברת יקי יושע בע\"מ נ\\'\\nהמועצה לביקורת סרטים ומחזות\\n, פ\"ד לה(3) 421; בג\"ץ 806/88 \\nיוניברסל\\nסיטי סטודיוס אינק\\' נ\\' המועצה לביקורת סרטים ומחזות\\n, פ\"ד מג(2) 22, 38).\\nבדומה, עשינו כך כאשר חופש הביטוי - שכאמור נגזר על פי גישתי מכבוד האדם - מתנגש\\nעם חופש התנועה בתוך המדינה - שאף הוא נגזר לשיטתי מכבוד האדם (ראו: בג\"ץ\\n148/79 \\nסער נ\\' שר הפנים\\n, פ\"ד לד(2) 169). בדוגמא זו ההתנגשות הינה,\\nבעיקרו של דבר, בין שני היבטים של חופש הביטוי. כך נעשה גם כאשר השם הטוב (הנגזר\\nמכבוד האדם) מתנגשים עם חופש הביטוי (שאף הוא נגזר, לשיטתי, מכבוד האדם) (השוו:\\nע\"א 214/89 \\nאבנרי נ\\' שפירא\\n, פ\"ד מג(3) 840). אכן, במצבים של\\nהתנגשות בין ערכים ועקרונות בגדריה של חירות אחת - כמו במצבים של התנגשות בין\\nחירויות שונות - הדרך לפתרון הקושי אינה זו של \"הכל או לא כלום\", אלא של\\nאיזון בין הערכים והעקרונות המתנגשים. אין, איפוא, לומר כי בהתנגשות בין חופש הדת\\nלבין החופש מדת, ידו של אחד מהם תמיד על העליונה. לו היינו אומרים כך, היינו\\nשוללים מאחת משתי החירויות האלה את מעמדה החוקתי. הדרך הראויה היא זו של איזון בין\\nהערכים והעקרונות המתנגשים בגדריה של חירות אחת. במסגרת איזון זה יש לשאוף לכך כי\\n\"גרעינה\" של כל אחת מהחירויות הללו יישמר, וכי הפגיעה תהיה רק\\n\"במעטפת\" שלה (השוו: סעיף 19(2) לחוקה הגרמנית הקובע כי \"בשום מקרה\\nאין לפגוע במהות (ה-\\nessence\\n) של זכות\\nיסוד\"). כן יש להתחשב בעוצמת הפגיעה ובמהותה. ההכרעה עצמה צריכה להעשות מתוך\\nשיקולים של סבירות, הגינות וסובלנות.\\n\\n10.         נפנה איפוא, למקרה שלפנינו. על כף \\nאחת\\n\\nשל המאזנים מונח כבוד האדם של הנפטר וקרובי משפחתו, המבקשים לכתוב על המצבה כיתוב\\nלועזי. חירות זו מגינה עליהם מפני פגיעה ברגשותיהם. היא שומרת עליהם מפני כפיה\\nדתית. חירות זו נפגעת באופן קשה, ממשי ומהותי אם אין מאפשרים להם לקבוע על גבי\\nהמצבה של הנפטר כיתוב של שם או תאריך לידה בשפה בה יחפצו. עמדתי על כך בפרשת \\nקסטנבאום\\n,\\nבצייני:\\n\\n\"\\'האדם\\nהרגיל\\', שאינו בעל רגישות מיוחדת במינה, נפגע קשות אם אין בכוחו לקבוע כי על גבי\\nהמצבה של עצמו או של היקרים לו יהא כיתוב בלשון הנראית לו כראויה והמציגה בצורה\\nהנראית לו כהולמת את היקרים לו... שלילתו של חופש עיצוב זה והטלת חובת השמוש\\nבכיתוב עברי בלבד יש בהן פגיעה קשה וממשית בערך היסוד של כבוד האדם\" (שם, עמ\\'\\n523; ראה גם בג\"ץ 5688/92 \\nויכסלבאום נ\\' שר הבטחון\\n, פ\"ד מז(2)\\n812, 827).\\n\\nפגיעה זו נעשית חריפה יותר, כאשר המניע לה הוא מה שנתפס\\nבעיני הנפגע ככפיה דתית.\\n\\n11.         על הכף \\nהשניה\\n של המאזניים מונח חופש הדת\\nשל אנשי חברה קדישא הנשמעים לפסק ההלכה של המרא דאתרא. כן מונחים על כף זו כבודם\\nשל נפטרים והרגשות של קרוביהם, אשר השימוש בלשון זרה על גבי מצבות בבית הקברות -\\nאף שאינם המצבות של יקיריהם - פוגע בהם. אף פגיעה זו יש להתחשב בה. אף היא חלק\\nמכבוד האדם של הנפטר וקרוביו.\\n\\n12.         כיצד נאזן בין שיקולים מתנגשים אלה? נראה לי כי\\nבנסיבות המקרה שלפנינו, ידה של הכף בה מצויים הנפטר וקרובי משפחתו המבקשים לקיים\\nכיתוב לועזי על המצבה, על העליונה. הטעמים לגישתי זו הם שנים: \\nראשית\\n,\\nהפגיעה בנפטר ובקרוביו - שעה שנמנע מהם כיתוב בשפה בה יחפצו - היא ישירה וקשה.\\nלעומת זאת, הפגיעה בנפטר ובקרוביו שעה שמאפשרים לאחרים כיתוב שאינו בעברית - היא\\nעקיפה וקלה. אלה האחרונים, אינם נפגעים מהכיתוב שעל המצבה של יקירם. הם נפגעים\\nמהכיתוב שעל המצבה של הזולת - כיתוב שקיים בבית הקברות זה שנים רבות. לא הרי\\nפגיעתם של הראשונים כהרי פגיעתם של האחרונים. בוודאי כך, אם אנו שוקלים פגיעות אלה\\nבמאזני הסובלנות. עמד על כך הנשיא שמגר בפרשת \\nקסטנבאום\\n, בציינו:\\n\\n\"מצב\\nהמצבה ואדם אחר שפוקד קבר אחר בבית הקברות אינם ניצבים במישור אחד. המגמה צריכה\\nלהיות, כי אל לו לפרט האחד להכנס לתחום רעהו ולהתערב ללא צורך בעולמו וברשותו.\\nחייב אדם להותיר בידי האחר את הזכות ואת החירות לעשותו כרוחו, על פי רגשותיו\\nותחושותיו. הסובלנות מחייבת שהאחד לא יתערב בעניינו של האחר, שאינו צריך לנגוע לו,\\nוהוא, כאמור, כל עוד אין המדובר בנתונים עמם גם האדם הסביר אינו יכול להשלים\"\\n(שם, עמ\\' 482).\\n\\nאף חברי, השופט מ\\' חשין עמד על כך, תוך שהבחין בין\\n\"רשות היחיד\" של המצבה או הנפטר לבין \"רשות הרבים\" של המצבות\\nהאחרות (פסקה 22 לפסק דינו).\\n\\n13.         \\nשנית\\n, איסור על כיתוב לועזי מטעמים שבדת\\n- להבדיל מטעמים שבלשון העברית - מהווה כפיה דתית. הוא פוגע בחופש הרצון של הנפטר\\nוקרוביו. הוא פוגע באוטונומיה של הרצון הפרטי שלהם באחת מנקודותיו הרגישות ביותר -\\nהיחס לקרוב יקר במותו. הוא פוגע ביד המושטת של החיים אל המתים. הוא מנתק את הקשר -\\nשלעיתים הוא רציונלי ולעיתים אינו רציונלי - בין החיים למתים. פגיעה זו קשה היא\\nוחריפה. היא נעשית חריפה שבעתיים כאשר המניע לה הוא בכפיה דתית. לעומת זאת, הפגיעה\\nבשומרי המצוות - פגיעה שאני מכיר בה ומתחשב בה - שלא ניתן להם לקיים את פסק ההלכה\\nשל המרא דאתרא, אינה כה  קשה וחריפה. אין לשכוח כי ענין לנו בהלכה\\n\"מקומית\", שכן כל מרא דאתרא והלכתו שלו. צויין בפנינו - וחברי, השופט מ\\'\\nחשין הביא זאת בהרחבה - כי בבתי קברות רבים בישראל ניתן לקיים כיתוב לועזי על\\nמצבות. המרא דאתרא של בתי קברות אלה לא ראה למנוע כיתוב זה. גם בבית הקברות\\nשבראשון לציון - הוא בית הקברות בו עסקינן - מצויות מצבות רבות בכיתוב לועזי.\\nמשמע, שהמרא דאתרא אותה עת לא ראה לנכון למנוע זאת. אותם אנשי חברה קדישא, שבעבר\\nלא שללו הכיתוב, לפתע משנים מעמדתם שלהם, בשל שינוי בזהות המרא דאתרא. זאת ועוד:\\nאין הם נדרשים לעשות מעשה - כגון עריכת הכיתוב על הצוואה בניגוד להלכתו של המרא\\nדאתרא. כל שנדרש מהם הוא להימנע מעשית מעשים - כגון מחיקת הכיתוב - כדרישת המרא\\nדאתרא. לבסוף, נראה לי לכאורה כי ענין הכיתוב בעברית על מצבות, עם כל חשיבותו\\nמבחינה הלכתית, אינו עומד ב\"גרעינה\" של ההלכה אלא בשוליה. יש להניח כי\\nבעניינים \"גרעיניים\" כל המרא דאתרא היו פוסקים באופן דומה. ריבוי הדעות\\nבעניין זה עשוי להצביע על כך כי עניין לנו בנושא \"מקומי\" שאינו עומד\\nבמרכז עולמה של היהדות. על כל פנים, ענין זה לא נתבהר בפנינו בשל היעדר טיעון\\nבעניין זה. (השוו לבחינה מעין זו: בג\"ץ 465/89 \\nרסקין נ\\' המועצה הדתית\\n,\\nפ\"ד מד (2) 673; ע\"פ 217/68 \\nיזראמקס בע\"מ נ\\' מדינת ישראל\\n,\\nפ\"ד כב(2) 343, 356). \\n\\n14.         הגעתי איפוא, למסקנה כי בהתנגשות בין חופש הדת\\n- של אנשי חברה קדישא, נפטרים וקרוביהם המבקשים לקיים רק כיתוב בעברית על המצבה של\\nזולתם בשל פסק ההלכה של המרא דאתרא - לבין החופש מדת - של נפטרים וקרובים המבקש לקיים\\nכיתוב בלועזית על המצבה של יקירם - יד הרצון לקיים כיתוב בלועזית על העליונה. אם\\nנצרף זאת להחלטה בפרשת \\nקסטנבאום\\n, שהגיע למסקנה דומה לענין ההתנגשות בין\\nהאינטרס בלשון העברית לבין כבוד האדם, הרי המסקנה הסופית מתבקשת מאליה: יש להתיר\\nכיתוב בלועזית על מצבות בבית הקברות בראשון לציון.\\n\\n15.         יטען הטוען: נקודת המבט, מכוחה ניתנה עדיפות\\nלערכים ולעקרונות המצדדים בהכרה בכיתוב לועזי על המצבה, הינה נקודת מבט חילונית.\\nאילו נערך האיזון מתוך נקודת מבט דתית, היו התוצאות שונות. אין בידי לקבל טיעון\\nזה. נקודת המבט לעריכת האיזון אינה חילונית ואינה דתית. נקודת המבט לעריכת האיזון\\nמשקיפה על ההתנגשות בין הערכים והעקרונות מזוית הראיה של כלל ערכי המדינה כמדינה\\nיהודית ודמוקרטית. זו נקודת מבט אינטגרטיבית, המבוססת על סינטזה בין ערכים יהודים\\nלערכים דמוקרטיים. בית המשפט אינו חילוני ואינו דתי. בית המשפט מתחשב ברגשות כולם;\\nבית המשפט מביא בחשבון את החירויות כולן; בית המשפט מבטא את הערכים כולם - ערכים\\nיהודיים וערכים דמוקרטיים. הוא עושה, כמיטב יכולתו, לאזן בין הרגשות, החירויות\\nוהערכים המתנגשים.\\n\\n16.         ניתן כמובן לטעון שהאיזון שערכתי אינו ראוי.\\nניתן לגרוס - בדומה למה שקבע המשנה לנשיא, השופט אלון בפרשת \\nקסטנבאום\\n - כי\\nבאיזון הראוי ידה של הלכת המרא דאתרא על העליונה. זוהי מחלוקת לגיטימית, המוצאת את\\nביטויה ברבים מפסקי הדין של בית משפט זה, בהם דעת הרוב קובעת. והנה, בערעור זה\\nנוקט חברי, השופט אנגלרד, בעמדה שונה לחלוטין. על פי גישתו, בכל מקרה בו גוף דתי -\\nאפילו מפעיל הוא סמכות ציבורית - פועל על פי נורמה הילכתית - המבססת את חופש הדת\\nשלו - יש לנהוג על פי הציווי הדתי. כותב חברי:\\n\\n\"אין\\nבית משפט זה מוסמך, עקרונית, לכפות על גוף דתי - יהא ציבורי או פרטי - לנהוג\\nבניגוד לדין הדתי על פיו הוא אמון. כי הרי בכפיה מעין זאת, יש משום פגיעה חמורה\\nבעקרון חופש הדת. פגיעה זו מותרת אך ורק על פי גזירה מפורשת של המחוקק. ... בהיעדר\\nהוראה מפורשת, אין לכפות על אדם להפר את מצוות הדת, קלה כחמורה\" (פסקה 21). \\n\\nלשיטתו של חברי, תורת האיזון אינה חלה מקום שהחירות הנוגעת\\nבדבר הינה חופש הדת. לדעת חברי, \"בסוגיה הנדונה זכותם של קרובי הנפטר לעצב את\\nהמצבה לפי השקפתם, חייבת לסגת מפני זכותה של החברה קדישא לנהוג על פי פסק ההלכה של\\nהמרא דאתרא\" (פסקה 20). ביסוד השקפתו של חברי מונחת התפישה, כי תורת האיזונים\\nלא צריכה לחול בסוגיה שבה המחלוקת מצויה \"במידה רבה במישור השקפתי\"\\n(פסקה 8). כותב חברי: \\n\\n\"לב\\nהבעיה היא: מהי הרגישות עליה יש להגן, על מי מוטל להיות סובלני ומי נושא בחובת\\nהוויתור? אמנם לשם פתרון הבעיה, בית המשפט נזקק למוסדות משפט ולכלים מושגיים\\nבאמצעותם הוא מבקש להכריע בין הדרישות המנוגדות של בעלי הדין... אך כלים אלה אינם\\nמצליחים לכסות על הבעיה ההשקפתית המונחת ביסוד המחלוקת\" (פסקה 8).\\n\\nלגישת חברי, ההשוואה בין הרגישויות אינה ראויה, שכן היא\\nאינה מבוססת על מבחן אובייקטיבי. אין היא אלא ביטוי של השקפה סובייקטיבית המשתנה\\nמשופט לשופט. כותב חברי:\\n\\n\"שאלתי\\nאת עצמי האם אמנם זה מתפקידו של בית המשפט לקבוע את הגבולות הלגיטימיים של רגישותו\\nשל ציבור מאמינים בכלל, ושל ציבור שומרי תורה מצוות, בפרט? יתרה מזו: תחימת תחומי\\nהרגישות \\'הסבירים\\' מושתתת במידה מכרעת על השקפה סוביקטיבית, כפי שמוכיחים חילוקי\\nהדעות בין השופטים בינם לבין עצמם\" (פסקה 13).\\n\\nובמקום אחר הוא מוסיף:\\n\\n\"לטעמי,\\nאין על בית המשפט למדוד רגישויות, שאינן ניתנות למדידה אובייקטיבית.... אין לנו\\nשום רשות לדרג, על פי סולם ערכים שהוא בהכרח אישי, את מעמדן הערכי או הרגשי של\\nהדרישות המנוגדות... הכרעה שיפוטית אינה יכולה, ואף אינה צריכה להתיימר, להכריע\\nבמחלוקת השקפתית\" (פסקאות 18 ו19-).\\n\\nלגישה זו אין בידי להסכים. קבלתה של גישה זו יש בה פגיעה\\nקשה בחירותו של הפרט בכלל ובחירותו של כל אדם, לרבות האדם הדתי, לחופש דת ולחופש\\nמדת בפרט. אנמק גישתי זו.\\n\\n17.         חברי השופט אנגלרד קובע כי במקום שענין לנו\\nבגוף דתי ובדין דתי, אין סמכות לבית המשפט - בהעדר הוראת דין מפורשת - לכפות\\nהתנהגות בניגוד לדין הדתי, זאת בקלה כבחמורה. גישה זו ניתן לשקול, מקום שהגוף הדתי\\nמפעיל את סמכותו הדתית על קבוצת מאמינים, המקבלים את מרותו. אף במצב דברים זה יש\\nלהתחשב - כפי שפרשת \\nקסטנבאום\\n מלמדת אותנו - בעקרונות כלליים, כגון תקנת\\nהציבור ותום לב. גישה זו בוודאי אינה מקובלת - ועשויה להיות בה כפיה דתית - כאשר\\nענין לנו בגוף דתי המפעיל סמכות ציבורית על קבוצות אוכלוסיה שאינה מאמינה בו,\\nוהמקבלת את מרותו רק משום שהיא מחוייבת לכך. ברשימה ארוכה של פסקי דין פסקנו לגבי\\nגופים, כגון הרבנות, המועצות הדתיות ובתי הדין הרבניים, המפעילים סמכות סטטוטורית\\nכי היקף תחולתו של הדין הדתי נקבע על פי תכליתו של כל חוק וחוק. תכלית זו נקבעה על\\nפי האיזון הראוי בין הערכים והעקרונות הנוגעים בדבר (ראו: למשל, בג\"ץ 465/89 \\nרסקין\\nנ\\' המועצה הדתית ירושלים\\n, פ\"ד מד(2) 613; בג\"ץ 47/82 \\nקרן התנועה\\nליהדות מתקדמת בישראל נ\\' שר הדתות\\n, פ\"ד מג(2) 661; בג\"ץ 3944/92 \\nמרבק\\n- בית מטבחיים בע\"מ נ\\' הרבנות הראשית נתניה\\n, פ\"ד מט(1) 278;\\nבג\"ץ 1000/92 \\nבבלי נ\\' בית הדין הרבני\\n, פ\"ד מח(2) 221). פסיקה זו\\nחלה גם לעניינה של חברה קדישא, שכן נקודת המוצא שלנו הינה כי חברה קדישא אינה גוף\\nפרטי המפעיל סמכותו מכוח הסכם (מפורש או משתמע) בין מאמינים שומרי מצוות. נקודת\\nהמוצא שלנו - כפי שנקבע בפרשת \\nקסטנבאום\\n - הינה כי חברה קדישא היא גוף\\nציבורי הפועל במשפט הציבורי. מוטלות עליה חובותיו של המשפט הציבורי.\\n\\n18.         גישתו של בית משפט זה, מיום היווסדו, התבססה על\\nהצורך לאזן בין הערכים והעקרונות המתנגשים. כך לעניין התנגשות בין ערכים ועקרונות\\nבכלל (ראו פסקה 7 לעיל); כך לעניין התנגשות בין ערכים ועקרונות בהם נוטלים חלק\\nחופש הדת וחופש מדת (ראו פסקה 8 לעיל). איזון זה מתחייב מערכיה של מדינת ישראל\\nכמדינה יהודית ודמוקרטית (סעיף 1א לחוק-יסוד: כבוד האדם וחירותו). רק מכוחו של\\nאיזון זה נוכל לקיים במדינתנו - שאינה מדינת הלכה - את ערכיה של מדינת ישראל\\nכמדינה יהודית ודמוקרטית.\\n\\n19.         שלילת ההכרה בכוחו של בית המשפט לקבוע את\\nהגבולות הראויים להגנה של רגשות הדת, תוביל בסופו של דבר - במדינת ישראל שאינה\\nתיאוקרטיה (בג\"ץ 3872/93 \\nמיטראל נ\\' שר הדתות\\n, פ\"ד מז(5) 485,\\n506) - לאי התחשבות ברגשות אלה. סופו של תהליך זה יביא לפגיעה בחופש הדת עצמו.\\nאכן, דווקא הצורך להגן על רגשות הדת ועל חופש הדת מחייב עריכתם של איזונים בין\\nהערכים והעקרונות השונים. איזונים אלה - המבוססים על משקלם היחסי של העקרונות\\nוהערכים - מחייבים הבחנה בין דרגות שונות של פגיעה ברגשות. הבחנה זו בין דרגות\\nשונות של פגיעה ברגשות מתחייבת גם מהצורך להבטיח סובלנות. רק בזכותה של הסובלנות\\nנוכל לקיים חיים משותפים. חיי חברה תקינים מבוססים, מטבע הדברים, על ויתור הדדי\\nועל סובלנות הדדית (ע\"א 105/92 \\nראם מהנדסים קבלנים בע\"מ נ\\' עיריית\\nנצרת עילית\\n, פ\"ד מז(5) 189, 211). סובלנות המבוססת מעצם טיבעה על דחיית\\nהגישה של הכל או לא כלום, ועל אימוץ הגישה של ויתור הדדי, תוך הבחנה בין דרגות\\nשונות של פגיעה ברגשות (ראו בג\"ץ 257/89 \\nהופמן נ\\' הממונה על הכותל המערבי\\n,\\nפ\"ד מח(2) 265, 354; בג\"ץ 806/88 \\nיוניברסל סיטי סטודיוס אינק נ\\' המועצה\\nלביקורת סרטים ומחזות\\n, פ\"ד מג(2) 22, 30). אכן, חברה דמוקרטית, המבקשת\\nלהכיר ולהגן על זכויות האדם של כל תושביה, חייבת להכיר ברגשות האדם, וחייבת לאזן\\nביניהם, תוך התחשבות במידת הפגיעה ברגשות. רק פגיעה מעבר ל\"רמת סיבולת\"\\nשאינה ראויה, תזכה להגנה; עמדתי על כך באחת הפרשות, בצייני: \\n\\n\"עלינו\\nלהכיר בקיומה של \\'רמת סיבולת\\' של פגיעה ברגשות, אשר כל אחד מבני החברה הדמוקרטית\\nנוטל על עצמו כחלק מההסכמה החברתית המונחת ביסוד המשטר הדמוקרטי. רק כאשר הפגיעה\\nברגשות עולה על \\'רמת סיבולת\\' זו, ניתן להצדיק בחברה דמוקרטית, הגבלתן של זכויות\\nאדם... כמובן, \\'רמת הסיבולת\\' אינה אחידה. היא משתנה מזכות לזכות; היא משתנה מפגיעה\\nלפגיעה... בחברה שערכיה דמוקרטיים, ניתן לפגוע בזכויות אדם כדי להגן על רגשות האדם\\n- לרבות רגשות דתיים ואורח חיים דתי - ובלבד שהפגיעה ברגשות היא מעבר ל\\'רמת\\nהסיבולת\\' הנתפסת כראויה באותה חברה\" (\\nפרשת חורב\\n, עמ\\' 47, 48). \\n\\nגישה שונה, לא רק שלא תשמור על חופש הדת עליו מתבסס חברי,\\nהשופט אנגלרד, אלא שתביא לפגיעה קשה בו.\\n\\n20.         מקובל עלי שתורת האיזונים אינה פשוטה לביצוע.\\nאין לנו \"כלים מדעיים\" לכך. הדיבור \"איזונים\"\\nו\"משקל\" אינם אלא מטאפורות. מאחוריהן מסתתרת התפישה, כי הערכים,\\nהעקרונות והחירויות אינן בעלות חשיבות זהה (ראו א\\' ברק, \\nפרשנות במשפט\\n 215\\n(כרך שלישי, 1994)). קביעת חשיבות חברתית יחסית של הערכים והעקרונות היא פעילות\\nנורמטיבית סבוכה (ראו בג\"ץ 6163/92 \\nאייזנברג נ\\' שר הבינוי והשיכון\\n,\\nפ\"ד מז(2) 229). אך מכאן ועד למסקנה כי לאור הקשיים יש להימנע מפעילות זו,\\nארוכה הדרך. רבים הם המוסדות המשפטיים המבוססים על צורך באיזונים. לא יעלה על הדעת\\nלהימנע מהם אך בשל הקשיים שבהם. טול מושגים כמו סבירות, הגינות, תום לב, מידתיות\\nותקנת הציבור. כל אלה ורבים אחרים משקפים איזון בין ערכים ואינטרסים מתנגשים (ראו\\nבג\"ץ 935/89 \\nגנור נ\\' היועץ המשפטי לממשלה\\n, פ\"ד מד(2) 485, 513,\\n514). כלום נמנע משימוש במושגיות זו רק משום הקשיים שהיא מעוררת? \\n\\n21.         חברי, השופט אנגלרד, מלין על כך שההכרעה במידת\\nהפגיעה ברגשות על פי תורת האיזונים הינה סובייקטיבית לכל שופט ושופט. הוא שולל את\\nההתחשבות ברגשות השונים ודירוגם בשל האופי ה\"השקפתי\" שלהם ובשל הצורך\\nלהכריע ב\"מחלוקת השקפתית\". אכן, איני שולל המסקנה כי בשלב מסויים נכנסים\\nלגדר השיקולים היבטים סובייקטיביים (ראו א\\' ברק, \\nשיקול דעת שיפוטי\\n 187 (1987)).\\nאיני מתעלם מהאופי ה\"השקפתי\" של ההכרעה. עם זאת, חשוב לזכור כי  חלקם של\\nהשיקולים הסובייקטיביים הוא קטן. עיקר מלאכתו של השופט מוכתב על פי מערכת מסועפת\\nשל שיקולים אובייקטיביים. אלה מתבקשים ממסמכי היסוד; אלה נקבעו בעבר בפסיקה; אלה\\nמשותפים לכל שופט ושופט. אמת, ההכרעה היא תמיד ערכית. אך מכאן לא נובע שהיא\\nסובייקטיבית. מרבית ההכרעות הערכיות הן אובייקטיביות, ומתבקשות מערכי השיטה. שופט\\nמקצועי מסוגל לבצען, תוך הבחנה בין השיקולים האובייקטיביים לבין תפישתו\\nהסובייקטיבית. כך נעשה הדבר מאז ומעולם. הקשיים הרבים הכרוכים בכך, האופי\\nה\"השקפתי\", והצורך לעתים בהכרעה סובייקטיבית, אינו שולל את מעמדם של\\nערכים ועקרונות במשפט, ואת הצורך לאזן ביניהם בנקודת החיכוך. לא נרצה לחזור אחורה\\nלתורות משפט של מושגים (\\nBegriffsjurisprudenz\\n)\\nבהן המסקנה עלתה, כאילו מעצמה, מתוך שיקולים אובייקטיביים. אנו מעדיפים תורת משפט\\nשל אינטרסים (\\nInteressenjurisprudenz\\n) ותורת משפט של\\nערכים (\\nWertungsjurisprudenz\\n) בהן נדרשת\\nהכרעה \"השקפתית\" (ראו דנג\"ץ 4601/95 \\nסרוסי נ\\' בית הדין הארצי\\nלעבודה\\n (טרם פורסם)). אנו מעדיפים מהות על פני צורה. כל אלה ניתנים להשגה על\\nפי הכרעה אובייקטיבית, שאינה אישית לכל שופט ושופט, גם אם היא\\n\"השקפתית\". על כל פנים, זו צריכה להיות המגמה, תוך שמכירים בכך, כי\\nלעתים אין מנוס מהכרעות סובייקטיביות. \"מחיר\" זה - כדאי לשלמו כדי,\\nלהבטיח צדק במשפט.\\n\\n22.         בפתח פסק דינו מצר חברי על שהצדדים לערעור\\nשלפנינו - והצדדים לעתירות דומות שהוגשו בעבר - לא הגיעו לידי הסכמה ביניהם. לצערו\\nזה של חברי אני מצטרף. יש לעשות הכל להשגת הבנה והסכמה המבוססים על תן וקח, על\\nפשרה וסובלנות. אף אנו, במסגרת ערעור זה, הצענו הצעות שונות לצדדים, על מנת להגיע\\nלפתרון מוסכם. צר לנו על שהדבר נכשל. מכיוון שכך, אין מנוס מהכרעה שיפוטית. עם\\nזאת, מן הראוי הוא, כי ככל האפשר, גם ההכרעה השיפוטית תשקף את אותה פשרה ואותה\\nסובלנות, שרק באמצעותם תשמר אחדותה של החברה. אכן, במסגרת חברתית כשלנו, בה חלק\\nניכר של הציבור אינו נשמע להלכותיו של מרא דאתרא, אין מנוס ממסגרות נורמטיביות\\nהמבוססות על סובלנות ופשרה. במציאות משפטית כשלנו, בה לעתים מחוייבים אנשים שאינם\\nמאמינים להיזקק לשירותים דתיים הניתנים לרוב על ידי אנשים מאמינים, אין מנוס\\nמחיפוש אחר אמות מידה שאין בהן הכל או לא כלום. שאין בהם תפישה כי דין קלה כדין חמורה.\\nאכן, תורת האיזון, החלה בכל תחומי המשפט, מתאימה במיוחד לתחום היחסים בין דת\\nומדינה, בין ערכיה של מדינת ישראל כמדינה יהודית לבין ערכיה כמדינה דמוקרטית. רק\\nנסיון למציאת סינתזה בין הערכים המתנגשים יאפשר לנו חיים משותפים. הדגשת הניגוד\\nוהשוני תוביל אותנו לקרע ולפירוד. על כן, קביעה נוקשה, שאין בה כל פשרה, לפיה\\nרשאים אנשי חברה קדישא לנהוג על פי הלכת המרא דאתרא שלהם בקלה כבחמורה, יהיו\\nרגשותיהם של הלא מאמינים אשר יהיו, היא מרשם לקרע ולפירוד. המבקש פשרה והבנה צריך\\nלהמשיך בנסיון לחפש איזונים בין הערכים והעקרונות המתנגשים.\\n\\n23.         מטעמים אלה אין בידי להצטרף לעמדתו של חברי,\\nהשופט אנגלרד. אין אלה טעמים סובייקטיביים. אלה הם טעמים אובייקטיביים. הם מתבקשים\\nממבנה המשפט שלנו; מערכיו היהודיים והדמוקרטיים, מהפסיקה רבת השנים של בית משפט\\nזה, והצורך להבטיח סבלנות וסובלנות. מטעמים אלה מצטרף אני לפסק דינו של חברי,\\nהשופט מ\\' חשין. \\n\\n                                                                                                                        נ\\nש י א\\n\\nהוחלט, ברוב דעות של הנשיא ברק והשופט חשין\\nכנגד דעתו החולקת של השופט אנגלרד, כאמור בפסק דינו של השופט חשין. \\n\\nהיום,\\nכ\"ב בתמוז התשנ\"ט (6.7.99).\\n\\nנ ש י א                                      ש ו פ ט                                                  ש\\nו פ ט    \\n\\nהעתק\\nמתאים למקור\\n\\nשמריהו\\nכהן - מזכיר ראשי\\n\\n97060240.\\nG05'"
      ]
     },
     "execution_count": 54,
     "metadata": {},
     "output_type": "execute_result"
    }
   ],
   "source": [
    "exmple"
   ]
  },
  {
   "cell_type": "code",
   "execution_count": 20,
   "id": "e846b862-ca49-401c-bbf5-4997096a0d01",
   "metadata": {},
   "outputs": [
    {
     "data": {
      "text/plain": [
       "14378"
      ]
     },
     "execution_count": 20,
     "metadata": {},
     "output_type": "execute_result"
    }
   ],
   "source": [
    "subset=df[df[0].apply(lambda x:10_000<x<100_000)]\n",
    "subset.size"
   ]
  },
  {
   "cell_type": "code",
   "execution_count": 25,
   "id": "3a9e5061-059e-4044-8e30-cf90baa30c53",
   "metadata": {},
   "outputs": [
    {
     "data": {
      "text/plain": [
       "166102"
      ]
     },
     "execution_count": 25,
     "metadata": {},
     "output_type": "execute_result"
    }
   ],
   "source": [
    "subset=df[df[0].apply(lambda x:1_000<x<10_000)]\n",
    "subset.size"
   ]
  },
  {
   "cell_type": "code",
   "execution_count": 28,
   "id": "c90bf599-a2e0-42ea-a90e-e2e5344bbf90",
   "metadata": {},
   "outputs": [
    {
     "name": "stdout",
     "output_type": "stream",
     "text": [
      "ע\"א\n",
      "2512/93\n",
      "\n",
      "בפני:                                               כבוד\n",
      "המשנה לנשיא ש. לוין\n",
      "\n",
      "                                                      כבוד\n",
      "השופט י' קדמי                                \n",
      "\n",
      "                                                      כבוד\n",
      "השופטת ד' דורנר\n",
      "\n",
      "המערערת:                                       איתורית\n",
      "שירותי תקשורת בע\"מ      \n",
      "\n",
      "                                                      נ  \n",
      "ג  ד\n",
      "\n",
      "המשיבה:                                          מדינת\n",
      "ישראל                     \n",
      "\n",
      "ערעור על פסק-דין בית המשפט המחוזי\n",
      "\n",
      "             בתל-אביב-יפו מיום 18.3.93 בתיק \n",
      "\n",
      "ה\"פ 652/90 שניתן על ידי כבוד השופט\n",
      "\n",
      "                                                      א'\n",
      "גורן\n",
      "\n",
      "תאריך\n",
      "הישיבה:                                 כט' בטבת התשנ\"ז (8.1.97)\n",
      "\n",
      "בשם\n",
      "המערערת:                                עו\"ד א' דורות\n",
      "\n",
      "בשם\n",
      "המשיבה:                                  עו\"ד  א' אלף\n",
      "\n",
      "פסק-דין\n",
      "\n",
      "השופט י' קדמי\n",
      ":\n",
      "\n",
      "1.           זהו ערעור על החלטתו של בית המשפט המחוזי\n",
      "בתל-אביב-יפו בה\"פ 652/96, לפיה נדחתה בקשתה של המערערת להצהיר, כי זימונית\n",
      "דיגיטלית (\"ביפר\" בלשון העם), שכינויה \n",
      "Pocsag\n",
      "Radio Paper Dataline \n",
      " דגם 500 (להלן: הזימונית), פטורה ממס קניה.\n",
      "\n",
      "             אין מחלוקת על כך, כי הזימונית משמשת לאיתור\n",
      "המחזיקים בה ולהעברת   הודעות אליהם, ממוקד שמפעילה המערערת; כאשר יחודה ביחס\n",
      "למכשירי איתור אחרים בכך, שאותות הרדיו הנשלחים מן המוקד מתורגמים על ידי הזימונית\n",
      "למלים וספרות המוצגים על גבי צג הקבוע בה. טענת המערערת היא, שזימונית \n",
      "כזו\n",
      "\n",
      "פטורה ממס קניה, בהיותה \"מכשיר המיוחד למלאכה\", כמשמעותו בסעיף 11\n",
      "לתוספת לחוק מס קניה (סחורות ושירותים), התשי\"ב1952- (להלן: התוספת).\n",
      "\n",
      "2.           סעיף 11 לתוספת פוטר מתשלום מס קניה:\n",
      "\"מכונות ומכשירים המיוחדים לחקלאות, לתעשיה ולמלאכה, ליצור מאור וכוח,\n",
      "וחלקיהם המיוחדים להם\"; והשאלה הדורשת הכרעה היא, אם הזימונית באה בגדר\n",
      "\"מכשירים המיוחדים למלאכה\", כפי שטוענת המערערת.\n",
      "\n",
      "             המערערת היתה ערה לכך, כי מכשירי איתור\n",
      "באמצעות אותות רדיו חייבים במס קניה. ברם, טענתה היא, כי הזימונית שבה מדובר כאן\n",
      "שונה, על פי טיבה, ממכשירי האיתור האחרים בכך שהיא מתרגמת את אותות הרדיו למלים\n",
      "ולספרות הניתנות לקריאה מעל גבי צג; וכתוצאה מכך, אין היא משמשת לאיתור בלבד\n",
      "ובכוחה להעביר הודעות.\n",
      "\n",
      "             בית המשפט המחוזי קבע כי \"הפונקציה\n",
      "העקרית אותה נועד לשמש המכשיר דנא (קרי: הזימונית - י.ק.) היא \n",
      "איתור\n",
      " מקבלי\n",
      "שירותיה של המבקשת\" (ההדגשה שלי - י.ק.); ועל כן, דינה, לענין מס קניה, כדין\n",
      "מכשירי האיתור האחרים ואין להתיחס אליה כאל \"מכשיר\" הבא בגדר הפטור\n",
      "שבסעיף 11 לתוספת.\n",
      "\n",
      "3.           על מנת להינות מן הפטור הקבוע בסעיף 11 לתוספת\n",
      "צריך שה\"מכשיר\" שבו מדובר יהיה \"מיוחד למלאכה\". נקודת המוצא\n",
      "של בית המשפט המחוזי היתה, כי יש ליתן למונח \"מלאכה\" משמעות רחבה,\n",
      "הכוללת כל \"עיסוק\" ולאו דוקא עיסוק מקצועי - טכני. במצב דברים זה, התמקד\n",
      "הדיון בדרישה שהמכשיר יהיה \"מיוחד\" למלאכה; ובית המשפט המחוזי קבע כי\n",
      "דרישה זו לא באה על סיפוקה בהתחשב בכך שהמערערת עצמה מודה שהזימונית מתאימה לשימוש\n",
      "רחב יותר מאשר לצרכי \"מלאכה\".\n",
      "\n",
      "4.           לשיטתי, בדין קבע בית המשפט המחוזי כי לא\n",
      "נתקיימה במקרה דנן הדרישה שהמכשיר יהיה \"מיוחד\" למלאכה. דרישת\n",
      "ה\"יחוד\", באה לצמצם את היקף הפטור ל\"כלי מלאכה\", קרי: לכלים\n",
      "שיעודם הדומיננטי הינו למלאכה ולא לצרכים ולמטרות אחרות. הזימונית, מטבע בריאתה,\n",
      "הינה רב-תכליתית, לאמור: ניתן לעשות בה שימוש \n",
      "בכל מקום\n",
      " שבו נזקקים \n",
      "לאיתורו\n",
      "\n",
      "של המחזיק בה \n",
      "ולהעברת מסר\n",
      " קצר לידיעתו; וזאת - בין שנזקקים לכך במסגרת או\n",
      "בזיקה ל\"מלאכה\" ובין שנזקקים לכך, בהקשר אחר.\n",
      "\n",
      "             בתור שכזו, אין הזימונית מהווה \"מכשיר \n",
      "מיוחד\n",
      "\n",
      "למלאכה\" כאמור בסעיף 11 לתוספת.\n",
      "\n",
      "5.           בשולי הדברים רואה אנכי להעיר, כי אילו נדרשתי\n",
      "למשמעותה של \"מלאכה\" בהקשר הנדון כאן, הייתי מהסס לקבוע שמשמעותה זהה\n",
      "לזו של \"עיסוק\" כלשהו. החלפת המונח \"מלאכה\" במונח\n",
      "\"עיסוק\" - השקול כנגד \"עבודה\" - אינה עולה בקנה אחד עם הפירוט\n",
      "\"לחקלאות, לתעשיה ולמלאכה\", שבסעיף 11 לתוספת. \"חקלאות\"\n",
      "ו\"תעשיה\" מבטאים גזרות משנה של \"עיסוק\" או \"עבודה\".\n",
      "אשר על כן, מן הראוי ליתן גם למונח \"מלאכה\" משמעות זהה, לאמור: לראותו\n",
      "כמבטא גזרת משנה של \"עיסוק\"; באופן שלא \n",
      "כל\n",
      " עיסוק בא בגדרה של\n",
      "\"מלאכה\", אלא רק עיסוק שהמונח \"מלאכה\" יאה לו.\n",
      "\n",
      "6.           לאור כל האמור לעיל, הנני מציע לדחות את\n",
      "הערעור.\n",
      "\n",
      "ש ו פ ט\n",
      "\n",
      "השופטת ד' דורנר\n",
      ":\n",
      "\n",
      "1.           חולקת אני על פסק-דינו של חברי, השופט קדמי,\n",
      "הסובר כי דין הערעור להידחות. לדעתי שלי, יש לקבל את הערעור, ולקבוע כי הזימונית\n",
      "פטורה ממס-קנייה.\n",
      "\n",
      "             להלן נימוקיי:\n",
      "\n",
      "העובדות, פסק-הדין של בית-המשפט המחוזי והשאלות המשפטיות\n",
      "\n",
      "2.           סעיף 3 לחוק מס-קנייה (סחורות ושירותים),\n",
      "תשי\"ב1952-, מסמיך את שר האוצר להטיל מס-קנייה רק על מוצרים שאינם כלולים\n",
      "בתוספת לחוק. בין סוגי המוצרים שהשר לא הוסמך להטיל עליהם מס נמנים על-פי סעיף\n",
      "(11) לתוספת \"מכונות ומכשירים המיוחדים לחקלאות, לתעשיה ולמלאכה... , למעט\n",
      "מכונות ומכשירים מהסוגים ששר האוצר קבע אותם בצו\".\n",
      "\n",
      "             בשנת 1989 הוציא שר האוצר מגדר הפטור שורה של\n",
      "מכשירים הדרושים לעבודה בעיסוקים שונים, כגון במספרה, במסעדה, במכבסה ובמשרד,\n",
      "לרבות מחשבים ומכונות-חישוב (סעיף 9 לצו תעריף המכס והפטורים ומס-קנייה על טובין,\n",
      "התש\"ן1989-) (להלן: הצו)). באותה שנה הוציאה רשות המכס הממונה על גביית\n",
      "מס-קנייה הנחיה שברישא שלה נכתב כי \"משמעות הביטוי 'מלאכה' המופיע בסעיף (11)\n",
      "לתוספת לחוק מס-קנייה היא: \"\n",
      "ביצוע עבודה כלשהי\n",
      " (שאינה תעשיה או\n",
      "חקלאות) \n",
      "במסגרת עיסוקו של אדם או חברה\" \n",
      "(ההדגשות הוספו). בסיפא של\n",
      "ההנחיה נקבע, כי הפטור חל על כל המכשירים המיועדים למלאכה, כמוגדר ברישא, למעט\n",
      "המכשירים שהוצאו מגדר הפטור בסעיף 9 לצו.\n",
      "\n",
      "3.           המערערת, בהסתמכה על סעיף (11) לתוספת וכן על\n",
      "ההנחיה הנ\"ל, ביקשה מרשות המכס לפטור ממס-קנייה מכשיר המעביר בקשר אלחוטי\n",
      "הודעות הכתובות על-גבי צג (להלן: זימונית), שאותו חפצה לייבא.\n",
      "\n",
      "             בתחילה הייתה דעתה של רשות המכס כי היא אינה\n",
      "מוסמכת לסווג מוצר כל עוד לא יובא לישראל, ועל-כן סירבה לבקשת המערער. \n",
      "\n",
      "             המערערת הגישה איפוא תובענה לבית-המשפט המחוזי\n",
      "בתל-אביב-יפו כנגד המדינה למתן-פסק דין המצהיר כי יש לסווג את הזימונית בסיווג\n",
      "הפוטר ממס-קנייה.\n",
      "\n",
      "              משדחה בית-המשפט המחוזי את עמדתה של רשות\n",
      "המכס כי יש לדחות את התובענה על הסף בשל כך שהזימונית טרם יובאה, החליטה הרשות\n",
      "לסווג את הזימונית בסיווג המחייב מס-קנייה. \n",
      "\n",
      "             במשפט הגנה המדינה על סיווג זה בטענה כי\n",
      "הזימונית אינה מיוחדת ל\"מלאכה\", שאותה ביקשה לפרש כעבודת-כפיים, שכן,\n",
      "ניתן להשתמש בה לעיסוקים רבים. לחלופין נטען, כי גם בהנחה שהמונח\n",
      "\"מלאכה\" בסעיף (11) לתוספת משמעותו כל עיסוק, הרי שאין בכך לפטור את\n",
      "הזימונית ממס-קנייה, הואיל וניתן לעשות בה שימוש גם לצרכים אישיים שאינם בגדר\n",
      "עיסוק. \n",
      "\n",
      "             לביסוס טענותיה השמיעה המדינה שני עדים: האחד\n",
      "- מהנדס מומחה, והאחר - מנהל תחום הסיווג בהנהלת המכס (להלן: המנהל), שהחליט על\n",
      "סיווגה של הזימונית. \n",
      "\n",
      "             עמדתם של שני העדים הייתה כי הזימונית משמשת\n",
      "עובדים בתחומי עיסוק שונים, לרבות עיתונאים, מוכרי פרחים, ושליחים, ואין היא,\n",
      "על-כן, מכשיר המיוחד ל\"מלאכה\", שמשמעותה עבודת-כפיים, כדוגמת סנדלרות,\n",
      "נגרות ואפייה. המנהל עומת עם ההנחיה הפרשנית-מינהלית הקובעת אחרת, והסביר כי\n",
      "ההנחיה אינה  \"קו סופי\", אלא שמור לו שיקול-דעת. המדינה גם הגישה\n",
      "פרסומים של המערערת, שבהם נכתב כי הזימונית יכולה לשמש אף חרשים וכן להוות פיתרון\n",
      "זמני זול לאנשים שבביתם טרם הותקן טלפון.\n",
      "\n",
      "4.           \n",
      "בית-המשפט המחוזי קיבל את פירושה\n",
      "של המערערת למונח \"מלאכה\" בסעיף (11) לתוספת, וקבע כי משמעות ביטוי זה\n",
      "הוא כל עיסוק. ואולם, בשל עמדתו כי המונח \"מיוחד\" - משמעו - בלעדי,\n",
      "ולנוכח פרסומי המערערת כי הזימונית יכולה לשמש גם לצרכים אישיים שאינם בגדר עיסוק,\n",
      "מצא בית-המשפט כי השימוש בה אינו בלעדי למלאכה. מסקנתו הייתה כי הוראת הפטור אינה\n",
      "חלה על מכשיר זה. \n",
      "\n",
      "             תביעת המערערת נדחתה איפוא. \n",
      "\n",
      "             בערעור על פסק-דין זה חזרו בעלי-הדין על\n",
      "טענותיהם בבית-המשפט המחוזי.\n",
      "\n",
      "5.           מחומר הראיות שבא בפני בית-המשפט המחוזי עולה\n",
      "כי לזימונית שימושים בתחומי עיסוק רבים, וכי ניתן להשתמש בה גם לצרכים אישיים\n",
      "שאינם בגדר עיסוק. על רקע עובדתי זה מתעוררות שתי שאלות פרשניות: ראשית, האם\n",
      "הזימונית \"מיוחדת\" למלאכה כנדרש בסעיף (11) לתוספת; ושנית, האם פירוש\n",
      "המונח \"מלאכה\" בסעיף הנ\"ל הוא כל עיסוק, או שמא הכוונה היא\n",
      "לעבודות- כפיים בלבד.\n",
      "\n",
      "             אדון בשאלות אלה על-פי סידרן.\n",
      "\n",
      "משמעות \"מיוחד\" למלאכה\n",
      "\n",
      "6.           סיווג מכשירים לצורכי מס הממלאים פונקציות\n",
      "שונות נעשה על-פי הפונקציה המובהקת של הפריט. עמד על כך הנשיא שמגר:\n",
      "\n",
      "\"יכול\n",
      "שמיתקן מסוים... ישמש למספר מטרות - מהן עיקריות ומהן שוליות או משניות... במקרה\n",
      "כאמור, נכון יהיה אם ייבחר הסיווג הדומינאנטי, היינו אותו סיווג המשקף בצורה\n",
      "הקרובה ביותר את אופיו העיקרי של המתקן\".\n",
      "\n",
      "[ר\"ע\n",
      "483/85 מדינת ישראל נ' החברה המרכזית לייצור משקאות בע\"מ, פ\"ד לט(3)\n",
      "765, 768].\n",
      "\n",
      "ראו גם ע\"א 4661/91 \n",
      "תדיראן בע\"מ נ' מנהל המכס\n",
      "ומע\"מ,\n",
      " פ\"ד מז(5) 828, 831.\n",
      "\n",
      "             ודוקו: אין נדרש כי למוצר יהיה שימוש מובהק\n",
      "יחיד. למוצר עשויים להיות שימושים מובהקים אחרים, להבדילם משימושים שוליים או\n",
      "חריגים.\n",
      "\n",
      "7.           מבחן זה מגשים גם את תכליתו של חוק מס-קנייה,\n",
      "כפי שהיא משתקפת מן ההסטוריה החקיקתית שלו.\n",
      "\n",
      "             ראשיתו של חוק מס-קנייה, תשי\"ב1952-, היא\n",
      "בפקודת מס מותרות, תש\"ט1949-, אשר חוקקה עוד בתקופת כהונתה של מועצת המדינה\n",
      "הזמנית, ובה נקבע בסעיף 1:\n",
      "\n",
      "\"מס\n",
      "שייקרא 'מס מותרות' יוטל על יבוא ומכירה של מותרות בהתאם לפקודה זו\".\n",
      "\n",
      "בסעיף 2 הוסמך שר האוצר לקבוע את תחולתו של המס על\n",
      "\"סוגי הסחורות שיהיו מותרות\" ואת שיעורו.\n",
      "\n",
      "             פקודה זו הוחלפה בחוק מס מסויג ומס מותרות,\n",
      "תשי\"ב1952-. גם בסעיף 3 לחוק זה ניתנה סמכות לשר האוצר לקבוע כי סחורות\n",
      "מסוימות חייבות במס מותרות או במס מסויג, ששיעורו לרוב היה נמוך יותר. עם זאת,\n",
      "סוייגה סמכותו של השר, ונשללה ממנו האפשרות להטיל מס על סחורות המנויות בתוספת\n",
      "לחוק, שביניהן נכללו \"מכשירים המיועדים לצרכי התעשיה והמלאכה\".\n",
      "\n",
      "             בעת הקריאה השנייה והשלישית של החוק, הסביר\n",
      "יושב-ראש ועדת הכספים של הכנסת, חבר הכנסת ישראל גורי, כי החוק נועד ל\"ספיגת\n",
      "עודף כוח הקנייה של מצרכי מותרות ומצרכים בלתי חיוניים\", וכי \"מס מסוייג\n",
      "איננו מס מחזור כללי... המס לא יחול על מוצרים חיוניים\", שכן, תכליתו הינה\n",
      "\"התחשבות מאכסימאלית עם הצרכן... הכוונה היא להטיל את המס על מצרכי מותרות\n",
      "מובהקים... יש גם כוונה להפחית את שיעור המס על מותרות שאין לראותן בגדר מותרות\n",
      "מובהקים\" (ד\"כ תשי\"ב 3112-3111).\n",
      "\n",
      "             בשנת 1954 תוקן גם חוק זה על-ידי חוק מס מסויג\n",
      "ומס מותרות (תיקון), תשי\"ד1954-. סעיף 1 לחוק המתקן שינה את שמו של החוק משנת\n",
      "1952, לחוק מס-קנייה, תשי\"ב1952-. מטרתו של החוק המתקן, כפי שצוינה בדברי\n",
      "ההסבר, הייתה \"לתקן את חוק מס מסויג ומס מותרות... על מנת להגביר את יעילותו\n",
      "ולמנוע התחמקות מתשלום מס\" (ה\"ח תשי\"ד 124). בקריאה הראשונה הדגיש\n",
      "שר האוצר כי \"שינוי זה אינו מהותי ואינו בא לשנות מאומה\", (ד\"כ\n",
      "תשי\"ד 1511),  ובקריאה השנייה והשלישית הסביר חבר הכנסת גורי, כי\n",
      "\"מבחינה טכנית יש לאחד את שני המסים הללו בלי לשנות עקרונות המס\" (שם,  \n",
      "1769). גם בחוק המתקן סויגה סמכות השר להטיל מס על \"מכונות ומכשירים המיוחדים\n",
      "לחקלאות, לתעשיה ולמלאכה\". בחוק מס-קנייה (תיקון מס 3), תשכ\"ב1962-,\n",
      "הוחלף שם החוק לשמו הנוכחי, אך בענייננו לא הוכנס בו שינוי כלשהו.\n",
      "\n",
      "             מן המקובץ עולה כי המחוקק ביקש למסות מוצרי\n",
      "צריכה - בתחילה מוצרי מותרות בלבד, ולאחר מכן מוצרים מן השורה - אך תמיד נמנע\n",
      "מלהטיל מס על מוצרים הדרושים לעיסוק.\n",
      "\n",
      "             כידוע, למכשירים המשמשים לעיסוק עשויים להיות\n",
      "גם שימושים אחרים, בעלי אופי אישי. פירוש הביטוי \"מיוחד\" כבלעדי אינו\n",
      "מתיישב עם תכלית החוק לפטור ממס מוצרים הדרושים לעיסוקו של אדם. שכן, פירוש כזה\n",
      "מחייב להוציא מגדר הפטור מכשירים המיועדים לשמש לעיסוק אך בשל כך שיש להם גם\n",
      "שימושים אחרים, לצרכים אישיים, כגון מברגים, פטישים וכיוצא באלה, שנהוג גם להחזיקם\n",
      "ולהשתמש בהם לצרכים ביתיים, שלא במסגרת עיסוק.\n",
      "\n",
      "             יש\n",
      "לסווג איפוא פריטים לצורך הפטור על-פי סעיף (11) לתוספת בהתחשב בתשובה לשאלה אם\n",
      "שימוש מובהק בהם הוא לצרכי חקלאות, תעשיה או מלאכה.\n",
      "\n",
      "             בענייננו, זימונית מעצם טיבה אינה מיועדת רק\n",
      "לצרכים אישיים שאינם בגדר עיסוק, אף שניתן להשתמש בה גם לצרכים כאלה. בדרך-כלל,\n",
      "בני-אדם אינם  נדרשים \"לזמן\" זה את זה לצורך שיח פרטי. על-כן, מכשירים\n",
      "המאפשרים זימון בלבד משמשים, בדרך-כלל, עובדים הנדרשים להיות \"זמינים\"\n",
      "לצרכי עבודתם. כך גם עולה מן הדוגמות שהביאו העדים שהעידו מטעם המדינה. בכך\n",
      "שזימונית מתאימה לשימושים אישיים במקרים חריגים, לצרכיהם של חרשים או כתחליף זמני\n",
      "לטלפון פרטי שטרם הותקן, אין כדי לשלול את יעודה המובהק ואף העיקרי,  לשמש לצורכי\n",
      "עיסוק. אין זה מתקבל על הדעת כי ייצור זימונית היה כדאי כלכלית עבור שימושים שאינם\n",
      "בגדר עיסוק.\n",
      "\n",
      "משמעות \"מלאכה\"\n",
      "\n",
      "8.           אכן, הזימונית אינה מיוחדת לעבודות כפיים. אלא\n",
      "שפירושו של בית-המשפט המחוזי למונח \"מלאכה\", שעל-פיו נכללים בגדר\n",
      "\"מלאכה\" גם עיסוקים שאינם עבודות-כפיים, מקובל עלי. \n",
      "\n",
      "             התכלית המסתברת של אי-חיובם במס-קנייה של\n",
      "\"מכונות ומכשירים המיוחדים לחקלאות, לתעשיה ולמלאכה\", כאמור בסעיף (11)\n",
      "האמור לתוספת, היא שלא לחייב במס מוצרים המשמשים לעיסוק, להבדילם ממוצרים לשימוש\n",
      "אישי. אין כל טעם להבחנה לעניין זה בין סוגים שונים של עיסוקים, ובתולדות החקיקה\n",
      "אף אין עדות לכוונה להבחנה מסוג זה.\n",
      "\n",
      "             זאת ועוד: התיחום החד שעליו רומז חברי, השופט\n",
      "קדמי, בין שלושת סוגי העיסוקים המוזכרים בסעיף - חקלאות, תעשיה ומלאכה - שעל-פיו\n",
      "אין כל חפיפה ביניהם, אינו אפשרי, ואין להניח כי תכלית החוק היא לקיימו. הלוא\n",
      "בימינו חקלאות, במקרים רבים, היא תעשייה. והוא הדין, למשל, בתקשורת על ענפיה\n",
      "השונים, וזאת בין אם נראה בה \"מלאכה\" ובין אם לאו.\n",
      "\n",
      "             לעניין זה יש אף מקום לציין את צו שר האוצר,\n",
      "שהוסמך בחוק להוציא מגדר הפטור מכשירים המיוחדים למלאכה. שכן, כאמור, בצו הוצאו\n",
      "מגדר הפטור מכשירים משרדיים למיניהם, מכונות-חישוב ומחשבים.            אף\n",
      "שתחיקת-משנה  אינה מקור פרשני מכריע, היא נתון שעל בית-משפט לקחתו בחשבון בפרשו את\n",
      "החוק, ובמיוחד כאשר מדובר במונח טכני וכן בחוק שבו הוסמך מתקין התקנות לאסור את\n",
      "אשר התיר החוק או להתיר את אשר אסר החוק. ראו עש\"מ 3/66 \n",
      "לויט נ' סופר, \n",
      "פ\"ד\n",
      "כ(3) 331, 334; ע\"פ 390,873/83 \n",
      "מדינת ישראל נ' יהודאי,\n",
      " פ\"ד לט(4)\n",
      "197, 209.\n",
      "\n",
      "9.           בעניין זה יש אף משקל להנחיה פרשנית של הרשות\n",
      "המוסמכת. זאת משום מיומנותה ונסיונה המעשי בהפעלת החוק, ובעיקר בשל חובתה לפעול\n",
      "על-פי הנחיותיה, הנגזרת מחובתן של רשויות מנהליות לפעול בשוויוניות.\n",
      "\n",
      "             אכן, בית-המשפט הוא המופקד על פרשנותו המחייבת\n",
      "של החוק. עם זאת, הפירוש שניתן לחוק על-ידי הרשות המופקדת על ביצועו עשוי להיות\n",
      "שיקול רלוואנטי בעת שבית-המשפט קובע את פירושו של החוק. ראו והשוו בג\"צ\n",
      "637/89 \n",
      "חוקה למדינת ישראל נ' שר האוצר, \n",
      "פ\"ד מו(1) 188, 197; בג\"צ\n",
      "1186/93 \n",
      "מדינת ישראל נ' בנק-דיסקונט בע\"מ,\n",
      " פ\"ד מח(5) 353, 369.\n",
      "\n",
      "             משקלה של פרשנות הרשות עולה כאשר מדובר בפירוש\n",
      "מונח טכני בחוק, שהרשות, כמופקדת על ביצועו התמחתה בו. זאת, במיוחד בנסיבות שבהן\n",
      "פירוש הרשות מעוגן בהנחיה מינהלית, הקיימת מזה שנים, שסטייה ממנה תפגע בציפיות\n",
      "הציבור שהסתמך עליה. יש לזכור, כי הנחיה מינהלית מחייבת את הרשות עצמה. עליה לנהוג\n",
      "בשיוויוניות ולא לסטות מן הפרשנות שאימצה ללא סיבה כבדת-משקל. כדבריו של השופט זוסמן,\n",
      "בבג\"צ 246/71 פ\"ד \n",
      "מגרש מסודר בע\"מ ואח' נ' שר האוצר ואח',\n",
      "\n",
      "פ\"ד כו(1) 449, 452:\n",
      "\n",
      " \"ואף\n",
      "אם אין להנחיות האמורות כוח של דין, הלכה פסוקה היא, שרשות מינהלית אינה חפשיה\n",
      "לסטות ללא נימוק סביר מן העקרונות שהיא קבעה לפעולתה. הרשות חייבת לנהוג יחס שוה\n",
      "בשווים, שאם לא תעשה כן, תהא בזאת משום אפליה פסולה, המשמשת עילה להתערבותו של\n",
      "בית-משפט זה\".\n",
      "\n",
      "בעניין זה כתבתי בבג\"צ 4422/92 \n",
      "עפרן נ' מינהל\n",
      "מקרקעי ישראל ואח'\n",
      ", פ\"ד מז(3) 853, 858: \n",
      "\n",
      "\"...\n",
      "ההנחיה המינהלית היא גמישה. שמור שיקול הדעת לסטות ממנה במקרים המתאימים. ואולם\n",
      "לנוכח הפגיעה בוודאות ובשוויוניות שיש בסטיה מן ההנחיות ולנוכח ציפיית האזרח כי\n",
      "הרשות תפעל על-פי הנחיותיה, דרושה הצדקה עניינית וסבירה לסטייה\". \n",
      "\n",
      "ראו גם יצחק זמיר, \n",
      "הסמכות המינהלית \n",
      "(תשנ\"ו) \n",
      "784, 788.\n",
      "\n",
      "             בעניין שלפנינו, עדות המנהל כי רשאי הוא לסטות\n",
      "מן ההנחיה במקרים מסוימים על-פי שיקול-דעתו, מבלי לבסס סטייה זו על סיבה עניינית,\n",
      "אינה יכולה להתקבל. כדברי הנשיא שמגר:\n",
      "\n",
      "\"רשות\n",
      "ציבורית, המתווה לעצמה קווי פעולה או כללים בענין אופן הפעלת סמכויותיה, איננה\n",
      "יכולה לסטות מן הקווים והכללים שגיבשה וקבעה לעצמה, אלא אם כן קיימים טעמים סבירים\n",
      "לכך העומדים במבחן הביקורת האובייקטיבית, שהרי גם בכך אחד הביטויים של השוויון\n",
      "בפני החוק\".\n",
      "\n",
      "[בג\"צ\n",
      "47/91 \n",
      "ניימן נ' פרקליטת המדינה,\n",
      "  פ\"ד מה(2) 872, 876].\n",
      "\n",
      "             המנהל, בהחליטו כי אין לפטור זימונית\n",
      "ממס-קנייה משום שניתן להשתמש בה בתחומי עבודה רבים, סטה ללא הצדקה מן ההנחיה\n",
      "המינהלית, ממנה מתבקש  כי הפטור חל על מכשירים המיוחדים לכל סוגי העבודה.\n",
      "\n",
      "             סטייה זו מהנחיה, שהוצאה עוד בשנת 1989, פגעה\n",
      "בעקרון השויון ובציפיות הציבור, ואין לה מקום. \n",
      "\n",
      "             סביר איפוא להניח כי תכליתו של סעיף (11)\n",
      "הייתה שלא להטיל מס-קנייה על מוצרים הדרושים לעיסוק מכל סוג שהוא, ובהתאם לכך יש\n",
      "לפרשו.\n",
      "\n",
      "             על-יסוד האמור לעיל אני מציעה לקבל את הערעור\n",
      "ולקבוע כי הזימונית פטורה ממס קנייה. כן אני מציעה לחייב את המשיבה בתשלום הוצאות\n",
      "משפט למערערת בסך 20,000 ש\"ח.\n",
      "\n",
      "ש ו פ ט ת \n",
      "\n",
      "המשנה לנשיא ש' לוין\n",
      ":\n",
      "\n",
      "1.           סברתי תחילה שהדין עם חברי הנכבד השופט קדמי,\n",
      "אך השופטת דורנר שכנעה אותי שדין הערעור להתקבל.\n",
      "\n",
      "             בערעור שלפנינו כבר לא התעוררה שאלת הסיווג\n",
      "ולפיכך אין לדעתי מקום להתייחס להשוואה אפשרית בין המכשיר הנדון לבין מכשיר איתור\n",
      "המופעל באמצעות אותות רדיו גרידא; ונחה דעתי מטעמיה של חברתי הנכבדה השופטת דורנר\n",
      "שהדין עמה הן לענין פירוש הדיבור \"מיוחדת\" והן לענין פירוש הדיבור\n",
      "\"מלאכה\".                       \n",
      "\n",
      "                                                                                                המשנה\n",
      "לנשיא\n",
      "\n",
      "             הוחלט כאמור בפסק-דינה של השופטת דורנר.\n",
      "\n",
      "             ניתן היום ו' באייר תשנ\"ז (13.5.1997).\n",
      "\n",
      "המשנה לנשיא                   ש ו פ ט                   ש\n",
      "ו פ ט ת\n"
     ]
    }
   ],
   "source": [
    "print(l[subset.index[0]][1])"
   ]
  },
  {
   "cell_type": "code",
   "execution_count": 22,
   "id": "cba1c423-f68d-4624-a99b-1c240043a6eb",
   "metadata": {},
   "outputs": [],
   "source": [
    "from openai import OpenAI"
   ]
  },
  {
   "cell_type": "code",
   "execution_count": 23,
   "id": "9fcf0781-6fda-42dc-b57d-7216c475376f",
   "metadata": {},
   "outputs": [],
   "source": [
    "client = OpenAI()"
   ]
  },
  {
   "cell_type": "code",
   "execution_count": 24,
   "id": "d23f5d70-8870-49e5-84d8-ed85c958291f",
   "metadata": {},
   "outputs": [
    {
     "name": "stdout",
     "output_type": "stream",
     "text": [
      "ChatCompletionMessage(content=\"What are the reasons cited by the Israeli Supreme Court for rejecting Yoram Yazdi's petition against the State Attorney and the prosecutor from the Jerusalem District Attorney's Office, Elad Rosenthal, in case number HCJ 5856/03?\", role='assistant', function_call=None)\n"
     ]
    }
   ],
   "source": [
    "completion = client.chat.completions.create(\n",
    "  #model=\"gpt-4-32k\",\n",
    "  model=\"gpt-4-1106-preview\",\n",
    "  messages=[\n",
    "    {\"role\": \"system\", \"content\": \"You will be provided with a document Your task is to formulate an insightful question that can be uniquely answered by this text.\"},\n",
    "    {\"role\": \"user\", \"content\": l[subset.index[0]][1]},\n",
    "      {\"role\": \"system\", \"content\": \"remember you have to formulate a question\"},\n",
    "  ]\n",
    ")\n",
    "\n",
    "print(completion.choices[0].message)"
   ]
  },
  {
   "cell_type": "code",
   "execution_count": null,
   "id": "a49f9aa5-a988-4e7f-8c6f-72dff2659978",
   "metadata": {},
   "outputs": [],
   "source": [
    "completion = client.chat.completions.create(\n",
    "  #model=\"gpt-4-32k\",\n",
    "  model=\"gpt-4-1106-preview\",\n",
    "  messages=[\n",
    "    {\"role\": \"system\", \"content\": \"You will be provided with a document Your task is to formulate an insightful question that can be uniquely answered by this text.\"},\n",
    "    {\"role\": \"user\", \"content\": l[subset.index[0]][1]},\n",
    "      {\"role\": \"system\", \"content\": \"in your question avoid mensioning \"},\n",
    "  ]\n",
    ")\n",
    "\n",
    "print(completion.choices[0].message)"
   ]
  },
  {
   "cell_type": "code",
   "execution_count": 27,
   "id": "28c8b0a9-a465-4f7f-9c53-435a59f4c447",
   "metadata": {},
   "outputs": [
    {
     "data": {
      "text/plain": [
       "0.0806204375339835"
      ]
     },
     "execution_count": 27,
     "metadata": {},
     "output_type": "execute_result"
    }
   ],
   "source": [
    "df[0].apply(lambda x:800<=x<=1_000).mean()"
   ]
  },
  {
   "cell_type": "code",
   "execution_count": 28,
   "id": "6fc1ab50-1589-471b-9e77-37fcede035d5",
   "metadata": {},
   "outputs": [
    {
     "data": {
      "text/plain": [
       "55750"
      ]
     },
     "execution_count": 28,
     "metadata": {},
     "output_type": "execute_result"
    }
   ],
   "source": [
    "df[0].apply(lambda x:800<=x<=1_000).sum()"
   ]
  },
  {
   "cell_type": "code",
   "execution_count": 76,
   "id": "9ad2c551-8651-4f98-aaa9-969eada88148",
   "metadata": {},
   "outputs": [
    {
     "data": {
      "text/plain": [
       "10655"
      ]
     },
     "execution_count": 76,
     "metadata": {},
     "output_type": "execute_result"
    }
   ],
   "source": [
    "subset=df[df[0].apply(lambda x:2_000<=x<2_300)]\n",
    "len(subset)"
   ]
  },
  {
   "cell_type": "code",
   "execution_count": 77,
   "id": "4ad981ae-5ace-419c-a4af-3ccd43e4497a",
   "metadata": {},
   "outputs": [
    {
     "name": "stdout",
     "output_type": "stream",
     "text": [
      "בית המשפט העליון\n",
      "\n",
      "רע\"א \n",
      "1381/97\n",
      "\n",
      "בפני:                                               \n",
      "כבוד הנשיא א' ברק\n",
      "\n",
      "המ\n",
      "בקש\n",
      ":                                           \n",
      "אור אהוד (פסול דין)\n",
      "\n",
      "                   נגד\n",
      "\n",
      "המשיב\n",
      "ה\n",
      ":                                          \n",
      "בזק החברה הישראלית לתקשורת בע\"מ\n",
      "\n",
      "                                                      בקשת\n",
      "רשות ערעור על החלטת בית \n",
      "\n",
      "                                                      המשפט\n",
      "המחוזי בנצרת מיום 20.2.97\n",
      "\n",
      "                                                      בתיק\n",
      "המרצה 3667/97 תיק ע.א. 355/96\n",
      "\n",
      "                                                      שניתנה\n",
      "על ידי כבוד השופט א. אמינוף\n",
      "\n",
      "בשם\n",
      "המבקש:                                    בעצמו\n",
      "\n",
      "בשם\n",
      "המשיבה:                                   עו\"ד שאול סקשטיין\n",
      "\n",
      "החלטה\n",
      "\n",
      "             המבקש, שהוא פסול דין, תבע מן המשיבה סכום כסף\n",
      "שזו חבה לו, לטענתו. ביום 27.12.95 ניתן בבית משפט השלום בטבריה (כב' סגן הנשיא נ'\n",
      "ממן)  פסק דין הדוחה את תביעת המבקש לגופה, וקובע, כי המבקש לא הרים את הנטל המוטל\n",
      "עליו כתובע (להלן: \"פסק הדין\"). כשנה לאחר מכן, ב - 24.12.96 הגיש המבקש\n",
      "לבית המשפט המחוזי בנצרת בקשה להארכת מועד להגשת ערעור על פסק הדין. את בקשתו נימק\n",
      "בכך שלאחר מתן פסק הדין החמיר מצבו הנפשי והוא אושפז במוסדות פסיכיאטרים. בקשתו זו\n",
      "נדחתה על-ידי בית המשפט המחוזי בנצרת (כב' השופט א' אמינוף), בשל היעדר פירוט, אך\n",
      "הותר לו לשוב ולהגיש בקשה מפורטת ומנומקת. המבקש הגיש בקשה נוספת, אך גם זו נדחתה\n",
      "על ידי בית המשפט, שכן אף היא לא נתמכה בהנמקה מפורטת ובתיעוד מתאים.\n",
      "\n",
      "             המבקש מבקש לערער על החלטה זו. בבקשתו זו הוא\n",
      "חוזר על טענותיו באשר למצבו הנפשי הירוד וטוען, כי בית המשפט לא ייחס לכך משקל\n",
      "הולם.\n",
      "\n",
      "             המשיבה מתנגדת למתן רשות ערעור במקרה זה.\n",
      "לטענתה, לא מנע אישפוזו של המבקש את הגשת ערעורו במועד, שכן אמו משמשת כאפוטרופסית\n",
      "שלו והיא יכלה להגיש את הערעור במועד. עוד טוענת המשיבה, כי סמוך למועד הסופי\n",
      "להגשת הערעור הגיש נגדה המבקש כתב תביעה נוסף בשל אותה עילה, והפעם  בבית משפט\n",
      "השלום בתל-אביב-יפו, וכשם שמחלתו לא מנעה ממנו להגיש כתב תביעה זה כך גם לא מנעה\n",
      "ממנו להגיש את ערעורו במועד.\n",
      "\n",
      "             לאחר שעיינתי בבקשה, בתגובה לה ובנספחיהן\n",
      "החלטתי לדחות את הבקשה. המבקש לא הצביע על טעם מיוחד להארכת המועד להגשת ערעור,\n",
      "בפרט לא כשהארכת המועד המתבקשת היא לתקופה של כשנה. טענות המשיבה מחלישות אף הן את\n",
      "טענותיו. גם לגוף העניין, איני מוצא מקום להתיר את הארכת המועד המבוקשת. תביעת\n",
      "המבקש מתייחסת לאירוע שהתרחש בשנת 1988, בית משפט השלום, ששמע את עדויות הצדדים,\n",
      "קבע כי המבקש לא השכיל להוכיח את הביסוס העובדתי לתביעתו. בנסיבות אלה ספק אם יש\n",
      "טעם ממשי בקיום הליך ערעור.\n",
      "\n",
      "             הבקשה נדחית.\n",
      "\n",
      "             ניתנה היום, י\"ח באב התשנ\"ז\n",
      "(21.8.97).\n",
      "\n",
      "ה נ ש י א      \n",
      "\n",
      "העתק\n",
      "מתאים למקור\n",
      "\n",
      "שמריהו\n",
      "כהן - מזכיר ראשי\n",
      "\n",
      "97013810.\n",
      "A08\n"
     ]
    }
   ],
   "source": [
    "print(l[subset[0].idxmin()][1])"
   ]
  },
  {
   "cell_type": "code",
   "execution_count": 81,
   "id": "ce940a4f-6731-45dd-a911-3614e41dc8f7",
   "metadata": {},
   "outputs": [
    {
     "data": {
      "text/plain": [
       "0.030136697184684175"
      ]
     },
     "execution_count": 81,
     "metadata": {},
     "output_type": "execute_result"
    }
   ],
   "source": [
    "df[df[0].apply(lambda x:100_000<x)][0].sum()/df[0].sum()"
   ]
  },
  {
   "cell_type": "code",
   "execution_count": 83,
   "id": "845ce089-6297-4262-ab4c-ecf1923b0c56",
   "metadata": {},
   "outputs": [
    {
     "data": {
      "text/plain": [
       "0.3978549061796201"
      ]
     },
     "execution_count": 83,
     "metadata": {},
     "output_type": "execute_result"
    }
   ],
   "source": [
    "df[df[0].apply(lambda x:x<2_500)][0].sum()/df[0].sum()"
   ]
  },
  {
   "cell_type": "code",
   "execution_count": 96,
   "id": "4e7cc21c-7b87-4604-abbd-77b8eb618465",
   "metadata": {},
   "outputs": [
    {
     "data": {
      "text/plain": [
       "0.07053752553369252"
      ]
     },
     "execution_count": 96,
     "metadata": {},
     "output_type": "execute_result"
    }
   ],
   "source": [
    "df[df[0].apply(lambda x:10_000<=x<=15_000)][0].sum()/df[0].sum()"
   ]
  },
  {
   "cell_type": "code",
   "execution_count": 92,
   "id": "22a5535d-51c9-4e82-8fea-7f585a8c0560",
   "metadata": {},
   "outputs": [
    {
     "name": "stdout",
     "output_type": "stream",
     "text": [
      "5679\n",
      "5.        המשיבים\n",
      "בענייננו, שוחררו, כאמור, בחלופות מעצר לאחר שבית המשפט המחוזי קבע כי מסוכנותם\n",
      "הינה נקודתית וניתן למצוא לה מענה באמצעות חלופת מעצר. לגבי משיב 1 נקבע מעצר בית\n",
      "מוחלט בבית יהודה עמר במושב אדירים שבצפון הארץ, תוך ליווי המשיב בידי מפקח, וכן הוטלו\n",
      "עליו ערבויות כספיות, עיכוב יציאה מן הארץ ואיסור יצירת קשר עם המתלוננים. על משיב\n",
      "2 הוטל מעצר בית חלקי בבית אמו בקלנסוואה, תוך הותרת אפשרות לצאת לעבודה, וכן\n",
      "תנאים נוספים.\n",
      "\n",
      "6.        טענתה\n",
      "המרכזית של המדינה בערר נסבה על כך כי בית המשפט המחוזי בהחלטתו לא נתן משקל מספיק\n",
      "למסוכנותם של המשיבים, ובמיוחד זו של המשיב 1, אשר לא ניתן לאיינם בחלופות המעצר\n",
      "שנקבעו. לעמדתה, מסוכנותם אינה מתמקדת אך באירועים הקשים נשוא כתב אישום זה, אלא\n",
      "יש לה ביטוי בעברם הקודם של המשיבים שיש בו לא רק רקורד עבריני אלא גם היסטוריה של\n",
      "קשיי איתור, והימלטות מן הדין.\n",
      "\n",
      "7.        בא-כוח\n",
      "המשיבים טען כי אין מקום לסטות מהחלטת בית המשפט המחוזי אשר בחן את מכלול נתוני\n",
      "העניין ואיזן כראוי בין מכלול הערכים הצריכים שקילה. לדבריו, הבעיה שהניעה את המשיבים\n",
      "לבצע את מעשי העבירות \"נפתרה\", כלשונו, וכיום אין עוד חשש להתחדשות מעשי\n",
      "עבירה דומים שכן הקשר בין המתלוננים נקטע, וכן אין חשש לשיבוש הליכי משפט. חלופות\n",
      "המעצר שנקבעו הן הולמות, ומבטיחות כי מטרת המעצר תקוים שלא בתנאי כליאה. \n",
      "\n",
      "8.        נתתי\n",
      "דעתי למכלול נסיבות העניין, על צדדיו השונים, ובאתי לידי מסקנה כי אין מנוס מקבלת\n",
      "עררה של המדינה ביחס לשני המשיבים, אשר תוצאתו היא מעצרם עד תום ההליכים נגדם.\n",
      "\n",
      "           מנתוניו\n",
      "של מקרה קשה זה מצטיירת תמונה מחרידה של עבריינות אלימה, המבוצעת בחבורה, ביוזמתו\n",
      "ובהנהגתו של המשיב 1, אשר נועדה לפגוע בשני צעירים תמי-לב פגיעות גוף ונפש,\n",
      "ולבזותם עד עפר על רקע קשר חברי שנרקם ביניהם. תופעת ההתערבות וההתנכלות של מאן\n",
      "דהוא, ובכלל זה בן משפחה, לקשר חברות של אדם אחר עם זולתו ראויה, היא עצמה, לכל\n",
      "גינוי, בהיותה חדירה שלא כדין לחייו האינטימיים של האדם, ובהיותה הפרה בוטה של\n",
      "זכותו לפרטיות, לצנעת חייו, ולאוטונומיה שהוא זכאי לה על גופו ועל נפשו. כאשר\n",
      "התערבות כזו מקבלת אופי של התערבות אלימה הנעשית בחבורה, תוך ביצוע פשעים של חטיפה\n",
      "וכליאה, התעללות קשה במשך ליל-שימורים ארוך אגב איומים בנשק קר, גרימת חבלות\n",
      "חמורות, ובעיקר מעשי השפלה, עלבון וביזוי קרבנות חסרי הגנה, הרי שלפנינו מעשי\n",
      "עבירה מן החמורים שהגיעו עדי בית המשפט. על החברה להתגונן בפניהם, ושומא לגונן על\n",
      "נפגעים פוטנציאליים מפניה. הגנה זו נדרשת, בין בהיבט האינטרס החברתי הכללי, ובין\n",
      "בהיבט ההגנה הראויה על המתלוננים, קרבנות מעשי העבירה, וקיימת חובה להבטיח כי\n",
      "הנאשמים יתייצבו למשפט למיצוי הדין עימם, וכי הליכי המשפט יתנהלו בלא שיבוש\n",
      "והפרעה.  \n",
      "\n",
      "9.        המעשים\n",
      "הקשים והחמורים המיוחסים למשיבים מבטאים מסוכנות מובנית לשלום הציבור ובטחונו, כמו\n",
      "גם למתלוננים בענייננו. אתקשה להסכים עם עמדת בית המשפט המחוזי לפיה מדובר בענייננו\n",
      "באירוע נקודתי אשר אינו צופן בחובו השלכות מסוכנות כלליות ביחס למשיבים. מעשיו של\n",
      "משיב 1, אשר גרר אחריו גם את חבריו הנאשמים האחרים, הונעו, אמנם, ממניעים הקשורים\n",
      "בעניין משפחתי נקודתי, אך \n",
      "האמצעים הפליליים\n",
      "\n",
      "שננקטו על ידי הנאשמים למימוש תכלית זו הם מן החמורים, הקשים והמסוכנים ביותר, אשר\n",
      "לא היו מביישים גם את גדולי העבריינים הפליליים המועדים, היוצאים ונכנסים לבתי\n",
      "הכלא, דרך שגרה. אופי האמצעים, התקיפות האלימות, ודרכי ההתעללות והביזוי שננקטו על\n",
      "ידי המשיבים כלפי המתלוננים מצביעים, אכן, על מסוכנות פלילית כללית מצידם, המלווה\n",
      "בפריצת כל גדר ורסן, ומתאפיינת בברוטליות פושעת שאינה אופיינית למעידה חד פעמית. המשיבים\n",
      "מסוכנים לציבור על פי כל קנה מידה. \n",
      "\n",
      "10.      יתר\n",
      "על כן, קיים חשש של ממש כי שחרורם של המשיבים עלול לשבש את הליכי המשפט. כל עוד\n",
      "עדי התביעה המרכזיים לא העידו, קיים חשש של ממש כי המשיבים, ובמיוחד משיב 1,\n",
      "עלולים לנסות להשפיע על עדים ולשבש את ההליכים. העובדה כי אירועי העבירות קשורים\n",
      "קשר הדוק למערכת יחסים בתוך המשפחה מגבירה, מעצם טיבה, את החששות האמורים לשיבוש, והיא\n",
      "תורמת לקושי ולסיכון הנילווה לשחרורם של המשיבים בחלופת מעצר. \n",
      "\n",
      "11.      ואחרון,\n",
      "אין להקל ראש אף בחשש מפני הימלטותם של המשיבים מן הדין, ויש לחשש זה ביסוס בעברם\n",
      "של השניים. למשיב 1 עבר פלילי מאז 1992 בעבירות רכוש, היזק לרכוש, החזקת סמים\n",
      "לצריכה עצמית, התחזות כאדם אחר במטרה להונות, ובהפרעה לשוטר במילוי תפקידו. כן\n",
      "ישנם תיקים פליליים המתנהלים נגדו בגין עבירות סמים, זיוף והחזקת אגרופן. עבר\n",
      "פלילי זה, ובמיוחד עבירות ההתחזות וההפרעה לשוטר, מעלים חשש מפני הימלטות המשיב 1 מן\n",
      "הדין. מוסיפה לכך העובדה כי מתסקיר שירות המבחן עולה כי בעבר, בהליך פלילי בו היה\n",
      "מעורב, המשיב 1 לא שיתף פעולה עם שירות המבחן, וביצע באופן חלקי בלבד עונש של\n",
      "של\"צ שהוטל עליו. כמו כן, הליכים פליליים שננקטו נגדו בעבר הותלו לאחר שלא\n",
      "התייצב למשפט. אך לאחרונה הותלו נגד משיב זה הליכים לתקופה נוספת, לאחר שלא ניתן\n",
      "היה לאתרו (ת.פ. 1375/04). \n",
      "\n",
      "           לכל\n",
      "אלה יש להוסיף כי הנתונים מהעבר בדבר מעורבות המשיב בשימוש בסמים מחמיר את החשש\n",
      "בדבר סיכון הקיים משחרורו ומהתוצאות העלולות לנבוע מכך. תסקיר המעצר עמד על\n",
      "גילויים של אי יציבות נפשית והתנהגותית אצל משיב 1, היוצרים חוסר וודאות לגבי מידת\n",
      "הריסון המתחייבת בהתנהגותו שהוא מסוגל לקבל על עצמו. \n",
      "\n",
      "12.      בעניינו של משיב 2, גם כאן מדובר בנאשם בעל עבר פלילי בתחום עבירות רכוש,\n",
      "הפרעה לשוטר ונהיגה בזמן פסילה. כן קיימים נגדו תיקים פתוחים בגין עבירות נוספות\n",
      "של נהיגה בזמן פסילה, גניבה, כניסה לישראל שלא כחוק והפרעה לשוטר במילוי תפקידו. \n",
      "גם ביחס אליו, הותלו בעבר הליכים פליליים שהתנהלו נגדו עקב קשיים באיתורו. מכלול נתונים\n",
      "אלה מעמיד חשש של ממש להימלטות ולשיבוש הליכי המשפט גם לגבי משיב זה. \n",
      "\n",
      "13.      מכלול\n",
      "השיקולים שהובאו אינם מאפשרים את שחרורם של המשיבים בחלופות מעצר עד לתום משפטם.\n",
      "עניינו של הנאשם הנוסף אשר שוחרר בחלופת מעצר חמור פחות מעניינם של המשיבים,  ולפיכך\n",
      "יש טעם באבחנה שנמתחה בינו לבינם. \n",
      "\n",
      "           מסכת\n",
      "האירועים נשוא פרשה זו מקימה, למרבית הצער, עילות מעצר שונות אשר חלופות מעצר אינן\n",
      "נותנות להן מענה ראוי. חומרתם המופלגת של מעשי המשיבים בפגיעתם הקשה בשני\n",
      "המתלוננים הצעירים ומסוכנותם המובנית העולה מפגיעה זו כלפי קרבנותיהם וכלפי הציבור\n",
      "הרחב, ונוכח עברם הפלילי, החשש משיבוש הליכים וסכנת ההימלטות שיש להם אחיזה\n",
      "בהתנהגותם בעבר, אינם מותירים מוצא אחר מלבד מוצא המעצר. לצורך שחרור בחלופת מעצר\n",
      "יש הכרח בקיום אימון בסיסי כי תנאי החלופה יישמרו על ידי הנאשם. אימון כזה נפגם במקרה\n",
      "זה נוכח מעשיהם החמורים של המשיבים נשוא הליך זה ועל רקע עברם הקודם ונסיבותיהם\n",
      "האישיות.\n",
      "\n",
      "           לאור\n",
      "כל אלה, אני מחליטה לקבל את ערר המדינה, ומורה על מעצרם של המשיבים עד תום ההליכים\n",
      "המשפטיים נגדם.\n",
      "\n",
      "           ניתנה\n",
      "היום, ה' בתמוז תשס\"ה (12.7.05).\n"
     ]
    }
   ],
   "source": [
    "subset=df[df[0].apply(lambda x:10_000<=x<=15000)]\n",
    "text=l[subset[0].idxmin()][1]\n",
    "text=\"\\n\\n\".join(text.split(\"\\n\\n\")[-20:-5])\n",
    "print(len(enc.encode(text)))\n",
    "print(text)"
   ]
  },
  {
   "cell_type": "code",
   "execution_count": null,
   "id": "621bf8fb-2eb0-4b6f-a092-c95a6af27223",
   "metadata": {},
   "outputs": [],
   "source": []
  }
 ],
 "metadata": {
  "kernelspec": {
   "display_name": "Python 3 (ipykernel)",
   "language": "python",
   "name": "python3"
  },
  "language_info": {
   "codemirror_mode": {
    "name": "ipython",
    "version": 3
   },
   "file_extension": ".py",
   "mimetype": "text/x-python",
   "name": "python",
   "nbconvert_exporter": "python",
   "pygments_lexer": "ipython3",
   "version": "3.10.0"
  }
 },
 "nbformat": 4,
 "nbformat_minor": 5
}
